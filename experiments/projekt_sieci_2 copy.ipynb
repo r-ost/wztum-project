{
 "cells": [
  {
   "cell_type": "code",
   "execution_count": 53,
   "metadata": {},
   "outputs": [],
   "source": [
    "import os\n",
    "import torch\n",
    "import torchaudio\n",
    "import matplotlib.pyplot as plt\n",
    "\n",
    "from torch.utils.data import Dataset, DataLoader, random_split\n",
    "import torch.nn as nn\n",
    "import torch.nn.functional as F\n",
    "import torch.optim as optim\n",
    "import soundfile as sf\n",
    "import torchaudio.transforms as T\n"
   ]
  },
  {
   "cell_type": "markdown",
   "metadata": {},
   "source": [
    "# Wczytywanie plików audio"
   ]
  },
  {
   "cell_type": "code",
   "execution_count": 54,
   "metadata": {},
   "outputs": [],
   "source": [
    "class AudioDataset(Dataset):\n",
    "    def __init__(self, root_dir, transform=None):\n",
    "        \"\"\"\n",
    "        If root_dir contains subfolders, each is treated as a label.\n",
    "        Otherwise, root_dir is assumed to be a single class.\n",
    "        Labels are remapped so that only allowed test classes are kept;\n",
    "        all other labels are mapped to \"unknown\".\n",
    "        \"\"\"\n",
    "        self.root_dir = root_dir\n",
    "        self.transform = transform\n",
    "        self.filepaths = []\n",
    "        self.labels = []\n",
    "        self.label2idx = {}\n",
    "        self.idx2label = {}\n",
    "\n",
    "        # Allowed test classes from train (silence is not expected in train)\n",
    "        allowed = {\"yes\", \"no\", \"up\", \"down\", \"left\", \"right\", \"on\", \"off\", \"stop\", \"go\",\"silence\"}\n",
    "        \n",
    "        subdirs = [d for d in os.listdir(root_dir) if os.path.isdir(os.path.join(root_dir, d))]\n",
    "        \n",
    "        if subdirs:\n",
    "            # Find allowed labels that appear in the training folders.\n",
    "            allowed_in_train = sorted([d for d in subdirs if d in allowed])\n",
    "            # If any subfolder is not in allowed, we will assign it the label \"unknown\"\n",
    "            has_unknown = any(d not in allowed for d in subdirs)\n",
    "            \n",
    "            # Create label-to-index mapping:\n",
    "            current_idx = 0\n",
    "            for label in allowed_in_train:\n",
    "                self.label2idx[label] = current_idx\n",
    "                self.idx2label[current_idx] = label\n",
    "                current_idx += 1\n",
    "            if has_unknown:\n",
    "                self.label2idx[\"unknown\"] = current_idx\n",
    "                self.idx2label[current_idx] = \"unknown\"\n",
    "            \n",
    "            # Read files and map labels accordingly.\n",
    "            for label in subdirs:\n",
    "                label_path = os.path.join(root_dir, label)\n",
    "                for f in os.listdir(label_path):\n",
    "                    if f.endswith(\".wav\"):\n",
    "                        filepath = os.path.join(label_path, f)\n",
    "                        # If label is allowed, keep it; otherwise, use \"unknown\"\n",
    "                        mapped_label = label if label in allowed else \"unknown\"\n",
    "                        self.filepaths.append(filepath)\n",
    "                        self.labels.append(self.label2idx[mapped_label])\n",
    "        else:\n",
    "            # No subdirectories – root_dir is treated as one class.\n",
    "            label = os.path.basename(root_dir)\n",
    "            mapped_label = label if label in allowed else \"unknown\"\n",
    "            self.label2idx[mapped_label] = 0\n",
    "            self.idx2label[0] = mapped_label\n",
    "            for f in os.listdir(root_dir):\n",
    "                if f.endswith(\".wav\"):\n",
    "                    self.filepaths.append(os.path.join(root_dir, f))\n",
    "                    self.labels.append(0)\n",
    "\n",
    "    def __len__(self):\n",
    "        return len(self.filepaths)\n",
    "\n",
    "    def __getitem__(self, idx):\n",
    "        filepath = self.filepaths[idx]\n",
    "        label = self.labels[idx]\n",
    "\n",
    "        data, sample_rate = sf.read(filepath)\n",
    "        waveform = torch.tensor(data, dtype=torch.float32)\n",
    "\n",
    "    # Ensure waveform shape is [1, num_samples] (mono)\n",
    "        if waveform.ndim == 1:\n",
    "           waveform = waveform.unsqueeze(0)\n",
    "        elif waveform.ndim == 2:\n",
    "            waveform = waveform.mean(dim=1, keepdim=True).transpose(0, 1)  # Convert stereo to mono\n",
    "\n",
    "        if self.transform:\n",
    "            waveform = self.transform(waveform)\n",
    "\n",
    "        return waveform, label\n",
    "\n",
    "# Transformation: MelSpectrogram + AmplitudeToDB\n",
    "mel_transform = T.MelSpectrogram(sample_rate=16000, n_mels=64)\n",
    "db_transform = T.AmplitudeToDB()\n",
    "\n",
    "def to_mel_spectrogram(waveform):\n",
    "    waveform = waveform.float() \n",
    "    spec = mel_transform(waveform)\n",
    "    spec_db = db_transform(spec)\n",
    "    return spec_db  # shape: [1, n_mels, time]\n",
    "\n",
    "# Function collate, which pads spectrograms of different time lengths\n",
    "def pad_collate_fn(batch):\n",
    "    \"\"\"\n",
    "    batch: list of tuples (spectrogram, label)\n",
    "    We assume each spectrogram has shape [1, n_mels, time]\n",
    "    \"\"\"\n",
    "    spectrograms, labels = zip(*batch)\n",
    "    \n",
    "    max_time = max(s.size(2) for s in spectrograms)\n",
    "    \n",
    "    padded_spectrograms = []\n",
    "    for s in spectrograms:\n",
    "        pad_amount = max_time - s.size(2)\n",
    "        s_padded = F.pad(s, (0, pad_amount), mode='constant', value=0)\n",
    "        padded_spectrograms.append(s_padded)\n",
    "    \n",
    "    batch_spectrograms = torch.stack(padded_spectrograms)\n",
    "    batch_labels = torch.tensor(labels)\n",
    "    return batch_spectrograms, batch_labels"
   ]
  },
  {
   "cell_type": "markdown",
   "metadata": {},
   "source": [
    "# EDA"
   ]
  },
  {
   "cell_type": "code",
   "execution_count": 55,
   "metadata": {},
   "outputs": [
    {
     "name": "stdout",
     "output_type": "stream",
     "text": [
      "Liczba przykładów w dataset: 65343\n",
      "Kształt waveforma: torch.Size([1, 16000])\n",
      "Etykieta (indeks): 11\n",
      "Etykieta (nazwisko): unknown\n",
      "\n",
      " Liczba przykładów dla każdej klasy:\n",
      "down: 2359\n",
      "go: 2372\n",
      "left: 2353\n",
      "no: 2375\n",
      "off: 2357\n",
      "on: 2367\n",
      "right: 2367\n",
      "silence: 613\n",
      "stop: 2380\n",
      "unknown: 41048\n",
      "up: 2375\n",
      "yes: 2377\n"
     ]
    },
    {
     "data": {
      "image/png": "[encoded data removed]",
      "text/plain": [
       "<Figure size 1000x300 with 1 Axes>"
      ]
     },
     "metadata": {},
     "output_type": "display_data"
    }
   ],
   "source": [
    "# Test usage of AudioDataset\n",
    "dataset = AudioDataset(root_dir=os.path.join(\"..\", \"data\", \"train\", \"audio\"), transform=None)\n",
    "\n",
    "print(\"Liczba przykładów w dataset:\", len(dataset))\n",
    "\n",
    "waveform, label = dataset[2000]\n",
    "print(\"Kształt waveforma:\", waveform.shape)  # [1, no. of samples]\n",
    "print(\"Etykieta (indeks):\", label)\n",
    "print(\"Etykieta (nazwisko):\", dataset.idx2label[label])\n",
    "from collections import Counter\n",
    "label_counter = Counter()\n",
    "\n",
    "for i in range(len(dataset)):\n",
    "    _, label = dataset[i]\n",
    "    label_name = dataset.idx2label[label]\n",
    "    label_counter[label_name] += 1\n",
    "\n",
    "\n",
    "print(\"\\n Liczba przykładów dla każdej klasy:\")\n",
    "for label_name, count in sorted(label_counter.items()):\n",
    "    print(f\"{label_name}: {count}\")\n",
    "plt.figure(figsize=(10, 3))\n",
    "plt.title(f\"Waveform - klasa: {dataset.idx2label[label]}\")\n",
    "plt.plot(waveform.t().numpy())\n",
    "plt.show()\n"
   ]
  },
  {
   "cell_type": "markdown",
   "metadata": {},
   "source": [
    "# Spektogram"
   ]
  },
  {
   "cell_type": "code",
   "execution_count": 56,
   "metadata": {},
   "outputs": [],
   "source": [
    "mel_transform = torchaudio.transforms.MelSpectrogram(\n",
    "    sample_rate=16000, \n",
    "    n_mels=64\n",
    ")\n",
    "db_transform = torchaudio.transforms.AmplitudeToDB()\n",
    "\n",
    "def to_mel_spectrogram(waveform):\n",
    "    spec = mel_transform(waveform)\n",
    "    spec_db = db_transform(spec)\n",
    "    return spec_db\n"
   ]
  },
  {
   "cell_type": "code",
   "execution_count": 57,
   "metadata": {},
   "outputs": [
    {
     "name": "stdout",
     "output_type": "stream",
     "text": [
      "Kształt spektrogramu (Mel, dB): torch.Size([1, 64, 81])\n"
     ]
    },
    {
     "data": {
      "image/png": "[encoded data removed]",
      "text/plain": [
       "<Figure size 800x600 with 2 Axes>"
      ]
     },
     "metadata": {},
     "output_type": "display_data"
    }
   ],
   "source": [
    "waveform, label = dataset[0]\n",
    "waveform = waveform.float()  # conversion to float32\n",
    "spec_db = to_mel_spectrogram(waveform)\n",
    "\n",
    "print(\"Kształt spektrogramu (Mel, dB):\", spec_db.shape)  # [1, n_mels, time]\n",
    "\n",
    "plt.figure(figsize=(8, 6))\n",
    "plt.title(f\"Mel Spectrogram (dB) - {dataset.idx2label[label]}\")\n",
    "plt.imshow(spec_db.squeeze().numpy(), origin=\"lower\", aspect=\"auto\", cmap=\"viridis\")\n",
    "plt.colorbar()\n",
    "plt.show()\n"
   ]
  },
  {
   "cell_type": "markdown",
   "metadata": {},
   "source": [
    "# Zaladowanie danych treningowych"
   ]
  },
  {
   "cell_type": "code",
   "execution_count": 58,
   "metadata": {},
   "outputs": [
    {
     "name": "stdout",
     "output_type": "stream",
     "text": [
      "Kształt X (spektrogramu): torch.Size([1, 64, 81])\n",
      "Etykieta: 11 unknown\n"
     ]
    }
   ],
   "source": [
    "dataset_spec = AudioDataset(root_dir=os.path.join(\"..\", \"data\", \"train\", \"audio\"), transform=to_mel_spectrogram)\n",
    "\n",
    "# Checking of shape\n",
    "x, y = dataset_spec[0]\n",
    "print(\"Kształt X (spektrogramu):\", x.shape)  # [1, n_mels, time]\n",
    "print(\"Etykieta:\", y, dataset_spec.idx2label[y])\n"
   ]
  },
  {
   "cell_type": "code",
   "execution_count": null,
   "metadata": {},
   "outputs": [],
   "source": []
  },
  {
   "cell_type": "markdown",
   "metadata": {},
   "source": [
    "## Podział na zbiór treningowy i walidacyjny"
   ]
  },
  {
   "cell_type": "code",
   "execution_count": 59,
   "metadata": {},
   "outputs": [
    {
     "name": "stdout",
     "output_type": "stream",
     "text": [
      "Liczba próbek w train_loader: 52274\n",
      "Liczba próbek w val_loader: 13069\n"
     ]
    }
   ],
   "source": [
    "train_size = int(0.8 * len(dataset_spec))\n",
    "val_size = len(dataset_spec) - train_size\n",
    "\n",
    "train_dataset, val_dataset = random_split(dataset_spec, [train_size, val_size])\n",
    "\n",
    "batch_size = 16\n",
    "train_loader = DataLoader(train_dataset, batch_size=batch_size, shuffle=True, collate_fn=pad_collate_fn)\n",
    "val_loader = DataLoader(val_dataset, batch_size=batch_size, shuffle=False, collate_fn=pad_collate_fn)\n",
    "\n",
    "print(\"Liczba próbek w train_loader:\", len(train_dataset))\n",
    "print(\"Liczba próbek w val_loader:\", len(val_dataset))\n"
   ]
  },
  {
   "cell_type": "markdown",
   "metadata": {},
   "source": [
    "## Accuracy dla przypisania najliczniej reprezentowanej klasy"
   ]
  },
  {
   "cell_type": "code",
   "execution_count": 60,
   "metadata": {},
   "outputs": [
    {
     "name": "stdout",
     "output_type": "stream",
     "text": [
      "Najczęstsza klasa: unknown\n",
      "Baseline accuracy (majority class): 62.82%\n"
     ]
    }
   ],
   "source": [
    "all_labels = [dataset_spec[i][1] for i in range(len(dataset_spec))]\n",
    "most_common_label = max(set(all_labels), key=all_labels.count)\n",
    "baseline_acc = all_labels.count(most_common_label) / len(all_labels) * 100\n",
    "\n",
    "print(f\"Najczęstsza klasa: {dataset_spec.idx2label[most_common_label]}\")\n",
    "print(f\"Baseline accuracy (majority class): {baseline_acc:.2f}%\")\n"
   ]
  },
  {
   "cell_type": "markdown",
   "metadata": {},
   "source": [
    "# CNN"
   ]
  },
  {
   "cell_type": "code",
   "execution_count": 61,
   "metadata": {},
   "outputs": [],
   "source": [
    "class SimpleCNN(nn.Module):\n",
    "    def __init__(self, num_classes):\n",
    "        super(SimpleCNN, self).__init__()\n",
    "        # Input: [batch, 1, n_mels, time]\n",
    "\n",
    "        self.conv1 = nn.Conv2d(1, 8, kernel_size=3, stride=1, padding=1)\n",
    "        self.conv2 = nn.Conv2d(8, 16, kernel_size=3, stride=1, padding=1)\n",
    "        \n",
    "        self.pool = nn.AdaptiveMaxPool2d((8, 8))  # -> [batch, 16, 8, 8]\n",
    "\n",
    "        self.fc1 = nn.Linear(16 * 8 * 8, 64)\n",
    "        self.fc2 = nn.Linear(64, num_classes)\n",
    "\n",
    "    def forward(self, x):\n",
    "        # x: [batch, 1, n_mels, time]\n",
    "        x = F.relu(self.conv1(x))    # -> [batch, 8, n_mels, time]\n",
    "        x = F.relu(self.conv2(x))    # -> [batch, 16, n_mels, time]\n",
    "        x = self.pool(x)            # -> [batch, 16, 8, 8]\n",
    "        x = x.view(x.size(0), -1)   # flattening to [batch, 16*8*8]\n",
    "        x = F.relu(self.fc1(x))     # -> [batch, 64]\n",
    "        x = self.fc2(x)             # -> [batch, num_classes]\n",
    "        return x\n"
   ]
  },
  {
   "cell_type": "code",
   "execution_count": 62,
   "metadata": {},
   "outputs": [
    {
     "name": "stdout",
     "output_type": "stream",
     "text": [
      "Urządzenie: cpu\n"
     ]
    }
   ],
   "source": [
    "device = torch.device(\"cuda\" if torch.cuda.is_available() else \"cpu\")\n",
    "print(\"Urządzenie:\", device)"
   ]
  },
  {
   "cell_type": "markdown",
   "metadata": {},
   "source": [
    "## Trening CNN"
   ]
  },
  {
   "cell_type": "code",
   "execution_count": 63,
   "metadata": {},
   "outputs": [
    {
     "name": "stdout",
     "output_type": "stream",
     "text": [
      "[Epoch 1/2] Loss: 0.9881\n",
      "[Epoch 2/2] Loss: 0.5656\n"
     ]
    }
   ],
   "source": [
    "num_classes = len(dataset_spec.label2idx)\n",
    "model = SimpleCNN(num_classes).to(device)\n",
    "\n",
    "criterion = nn.CrossEntropyLoss()\n",
    "optimizer = optim.Adam(model.parameters(), lr=0.001)\n",
    "\n",
    "num_epochs = 2  \n",
    "\n",
    "for epoch in range(num_epochs):\n",
    "    model.train()\n",
    "    running_loss = 0.0\n",
    "\n",
    "    for i, (inputs, labels) in enumerate(train_loader):\n",
    "        # inputs: [batch_size, 1, n_mels, time]\n",
    "        # labels: [batch_size]\n",
    "        inputs = inputs.to(device)\n",
    "        labels = labels.to(device)\n",
    "\n",
    "        \n",
    "        optimizer.zero_grad()\n",
    "\n",
    "        # Forward\n",
    "        outputs = model(inputs)\n",
    "        loss = criterion(outputs, labels)\n",
    "\n",
    "        # Backward + opt\n",
    "        loss.backward()\n",
    "        optimizer.step()\n",
    "\n",
    "        running_loss += loss.item()\n",
    "\n",
    "    # Average loss per epoch\n",
    "    epoch_loss = running_loss / len(train_loader)\n",
    "    print(f\"[Epoch {epoch+1}/{num_epochs}] Loss: {epoch_loss:.4f}\")\n"
   ]
  },
  {
   "cell_type": "markdown",
   "metadata": {},
   "source": [
    "# Walidacja"
   ]
  },
  {
   "cell_type": "code",
   "execution_count": 64,
   "metadata": {},
   "outputs": [
    {
     "name": "stdout",
     "output_type": "stream",
     "text": [
      "Val Accuracy: 82.81%\n",
      "\n"
     ]
    }
   ],
   "source": [
    "# Validation\n",
    "model.eval()\n",
    "correct = 0\n",
    "total = 0\n",
    "with torch.no_grad():\n",
    "    for inputs_val, labels_val in val_loader:\n",
    "        inputs_val = inputs_val.to(device)\n",
    "        labels_val = labels_val.to(device)\n",
    "\n",
    "        outputs_val = model(inputs_val)\n",
    "        _, predicted = torch.max(outputs_val, 1)\n",
    "        total += labels_val.size(0)\n",
    "        correct += (predicted == labels_val).sum().item()\n",
    "\n",
    "val_acc = 100.0 * correct / total\n",
    "print(f\"Val Accuracy: {val_acc:.2f}%\\n\")"
   ]
  },
  {
   "cell_type": "markdown",
   "metadata": {},
   "source": [
    "# Testy"
   ]
  },
  {
   "cell_type": "markdown",
   "metadata": {},
   "source": [
    "0. Validation setup"
   ]
  },
  {
   "cell_type": "code",
   "execution_count": 65,
   "metadata": {},
   "outputs": [],
   "source": [
    "def train_and_evaluate(model, train_loader, val_loader, optimizer, scheduler=None, num_epochs=2):\n",
    "    model.to(device)\n",
    "    criterion = nn.CrossEntropyLoss()\n",
    "\n",
    "    for epoch in range(num_epochs):\n",
    "        model.train()\n",
    "        running_loss = 0.0\n",
    "\n",
    "        for inputs, labels in train_loader:\n",
    "            inputs = inputs.to(device)\n",
    "            labels = labels.to(device)\n",
    "\n",
    "            optimizer.zero_grad()\n",
    "            outputs = model(inputs)\n",
    "            loss = criterion(outputs, labels)\n",
    "            loss.backward()\n",
    "            optimizer.step()\n",
    "\n",
    "            running_loss += loss.item()\n",
    "\n",
    "        avg_train_loss = running_loss / len(train_loader)\n",
    "\n",
    "        # Validation phase\n",
    "        model.eval()\n",
    "        correct = 0\n",
    "        total = 0\n",
    "        val_loss = 0.0\n",
    "\n",
    "        with torch.no_grad():\n",
    "            for inputs_val, labels_val in val_loader:\n",
    "                inputs_val = inputs_val.to(device)\n",
    "                labels_val = labels_val.to(device)\n",
    "\n",
    "                outputs_val = model(inputs_val)\n",
    "                loss_val = criterion(outputs_val, labels_val)\n",
    "                val_loss += loss_val.item()\n",
    "\n",
    "                _, predicted = torch.max(outputs_val, 1)\n",
    "                total += labels_val.size(0)\n",
    "                correct += (predicted == labels_val).sum().item()\n",
    "\n",
    "        avg_val_loss = val_loss / len(val_loader)\n",
    "        val_acc = 100.0 * correct / total\n",
    "\n",
    "        # Learning rate scheduling\n",
    "        if scheduler:\n",
    "            if isinstance(scheduler, torch.optim.lr_scheduler.ReduceLROnPlateau):\n",
    "                scheduler.step(avg_val_loss)\n",
    "            else:\n",
    "                scheduler.step()\n",
    "\n",
    "        print(f\"Epoch {epoch+1}/{num_epochs} | Train Loss: {avg_train_loss:.4f} | Val Loss: {avg_val_loss:.4f} | Val Acc: {val_acc:.2f}%\")\n",
    "\n",
    "    return val_acc"
   ]
  },
  {
   "cell_type": "markdown",
   "metadata": {},
   "source": [
    "1. Learning Rate"
   ]
  },
  {
   "cell_type": "code",
   "execution_count": 66,
   "metadata": {},
   "outputs": [
    {
     "name": "stdout",
     "output_type": "stream",
     "text": [
      "Epoch 1/2 | Train Loss: 1.2690 | Val Loss: 1.1318 | Val Acc: 65.21%\n",
      "Epoch 2/2 | Train Loss: 1.1337 | Val Loss: 1.1399 | Val Acc: 65.11%\n",
      "Epoch 1/2 | Train Loss: 1.0427 | Val Loss: 0.7288 | Val Acc: 75.59%\n",
      "Epoch 2/2 | Train Loss: 0.6422 | Val Loss: 0.5880 | Val Acc: 80.79%\n",
      "Epoch 1/2 | Train Loss: 1.3357 | Val Loss: 1.1548 | Val Acc: 65.06%\n",
      "Epoch 2/2 | Train Loss: 0.9900 | Val Loss: 0.8983 | Val Acc: 72.09%\n",
      "LR=0.01 Accuracy: 65.11%\n",
      "LR=0.001 Accuracy: 80.79%\n",
      "LR=0.0001 Accuracy: 72.09%\n"
     ]
    }
   ],
   "source": [
    "model_lr1 = SimpleCNN(num_classes)\n",
    "model_lr2 = SimpleCNN(num_classes)\n",
    "model_lr3 = SimpleCNN(num_classes)\n",
    "\n",
    "acc_lr1 = train_and_evaluate(model_lr1, train_loader, val_loader, optim.Adam(model_lr1.parameters(), lr=0.01))\n",
    "acc_lr2 = train_and_evaluate(model_lr2, train_loader, val_loader, optim.Adam(model_lr2.parameters(), lr=0.001))\n",
    "acc_lr3 = train_and_evaluate(model_lr3, train_loader, val_loader, optim.Adam(model_lr3.parameters(), lr=0.0001))\n",
    "\n",
    "print(f\"LR=0.01 Accuracy: {acc_lr1:.2f}%\")\n",
    "print(f\"LR=0.001 Accuracy: {acc_lr2:.2f}%\")\n",
    "print(f\"LR=0.0001 Accuracy: {acc_lr3:.2f}%\")"
   ]
  },
  {
   "cell_type": "markdown",
   "metadata": {},
   "source": [
    "2. Number of Layers and Neurons"
   ]
  },
  {
   "cell_type": "code",
   "execution_count": null,
   "metadata": {},
   "outputs": [
    {
     "name": "stdout",
     "output_type": "stream",
     "text": [
      "Epoch 1/2 | Train Loss: 1.0367 | Val Loss: 0.7236 | Val Acc: 76.49%\n",
      "Epoch 2/2 | Train Loss: 0.6026 | Val Loss: 0.5765 | Val Acc: 81.74%\n",
      "Epoch 1/2 | Train Loss: 1.1313 | Val Loss: 0.7782 | Val Acc: 74.72%\n"
     ]
    }
   ],
   "source": [
    "class DeeperCNN(nn.Module):\n",
    "    def __init__(self, num_classes):\n",
    "        super().__init__()\n",
    "        self.conv1 = nn.Conv2d(1, 8, 3, 1, 1)\n",
    "        self.conv2 = nn.Conv2d(8, 16, 3, 1, 1)\n",
    "        self.conv3 = nn.Conv2d(16, 32, 3, 1, 1)\n",
    "        self.pool = nn.AdaptiveAvgPool2d((4, 4))\n",
    "        self.fc = nn.Linear(32 * 4 * 4, num_classes)\n",
    "    \n",
    "    def forward(self, x):\n",
    "        x = F.relu(self.conv1(x))\n",
    "        x = F.relu(self.conv2(x))\n",
    "        x = F.relu(self.conv3(x))\n",
    "        x = self.pool(x)\n",
    "        x = x.view(x.size(0), -1)\n",
    "        return self.fc(x)\n",
    "\n",
    "model_shallow = SimpleCNN(num_classes)\n",
    "model_deep = DeeperCNN(num_classes)\n",
    "\n",
    "acc_shallow = train_and_evaluate(model_shallow, train_loader, val_loader, optim.Adam(model_shallow.parameters(), lr=0.001))\n",
    "acc_deep = train_and_evaluate(model_deep, train_loader, val_loader, optim.Adam(model_deep.parameters(), lr=0.001))\n",
    "\n",
    "print(f\"Shallow CNN Accuracy: {acc_shallow:.2f}%\")\n",
    "print(f\"Deeper CNN Accuracy: {acc_deep:.2f}%\")"
   ]
  },
  {
   "cell_type": "markdown",
   "metadata": {},
   "source": [
    "3. Conv Layer Params (Stride and Filter Size)"
   ]
  },
  {
   "cell_type": "code",
   "execution_count": null,
   "metadata": {},
   "outputs": [
    {
     "ename": "OutOfMemoryError",
     "evalue": "CUDA out of memory. Tried to allocate 476.00 MiB. GPU 0 has a total capacity of 3.68 GiB of which 141.38 MiB is free. Including non-PyTorch memory, this process has 3.52 GiB memory in use. Of the allocated memory 2.87 GiB is allocated by PyTorch, and 553.86 MiB is reserved by PyTorch but unallocated. If reserved but unallocated memory is large try setting PYTORCH_CUDA_ALLOC_CONF=expandable_segments:True to avoid fragmentation.  See documentation for Memory Management  (https://pytorch.org/docs/stable/notes/cuda.html#environment-variables)",
     "output_type": "error",
     "traceback": [
      "\u001b[31m---------------------------------------------------------------------------\u001b[39m",
      "\u001b[31mOutOfMemoryError\u001b[39m                          Traceback (most recent call last)",
      "\u001b[36mCell\u001b[39m\u001b[36m \u001b[39m\u001b[32mIn[17]\u001b[39m\u001b[32m, line 7\u001b[39m\n\u001b[32m      4\u001b[39m model_stride1.conv1 = nn.Conv2d(\u001b[32m1\u001b[39m, \u001b[32m8\u001b[39m, kernel_size=\u001b[32m3\u001b[39m, stride=\u001b[32m1\u001b[39m, padding=\u001b[32m1\u001b[39m)\n\u001b[32m      5\u001b[39m model_stride2.conv1 = nn.Conv2d(\u001b[32m1\u001b[39m, \u001b[32m8\u001b[39m, kernel_size=\u001b[32m5\u001b[39m, stride=\u001b[32m2\u001b[39m, padding=\u001b[32m2\u001b[39m)\n\u001b[32m----> \u001b[39m\u001b[32m7\u001b[39m acc_stride1 = \u001b[43mtrain_and_evaluate\u001b[49m\u001b[43m(\u001b[49m\u001b[43mmodel_stride1\u001b[49m\u001b[43m,\u001b[49m\u001b[43m \u001b[49m\u001b[43mtrain_loader\u001b[49m\u001b[43m,\u001b[49m\u001b[43m \u001b[49m\u001b[43mval_loader\u001b[49m\u001b[43m,\u001b[49m\u001b[43m \u001b[49m\u001b[43moptim\u001b[49m\u001b[43m.\u001b[49m\u001b[43mAdam\u001b[49m\u001b[43m(\u001b[49m\u001b[43mmodel_stride1\u001b[49m\u001b[43m.\u001b[49m\u001b[43mparameters\u001b[49m\u001b[43m(\u001b[49m\u001b[43m)\u001b[49m\u001b[43m,\u001b[49m\u001b[43m \u001b[49m\u001b[43mlr\u001b[49m\u001b[43m=\u001b[49m\u001b[32;43m0.001\u001b[39;49m\u001b[43m)\u001b[49m\u001b[43m)\u001b[49m\n\u001b[32m      8\u001b[39m acc_stride2 = train_and_evaluate(model_stride2, train_loader, val_loader, optim.Adam(model_stride2.parameters(), lr=\u001b[32m0.001\u001b[39m))\n\u001b[32m     10\u001b[39m \u001b[38;5;28mprint\u001b[39m(\u001b[33mf\u001b[39m\u001b[33m\"\u001b[39m\u001b[33mStride 1 (3x3) Accuracy: \u001b[39m\u001b[38;5;132;01m{\u001b[39;00macc_stride1\u001b[38;5;132;01m:\u001b[39;00m\u001b[33m.2f\u001b[39m\u001b[38;5;132;01m}\u001b[39;00m\u001b[33m%\u001b[39m\u001b[33m\"\u001b[39m)\n",
      "\u001b[36mCell\u001b[39m\u001b[36m \u001b[39m\u001b[32mIn[14]\u001b[39m\u001b[32m, line 16\u001b[39m, in \u001b[36mtrain_and_evaluate\u001b[39m\u001b[34m(model, train_loader, val_loader, optimizer, scheduler, num_epochs)\u001b[39m\n\u001b[32m     14\u001b[39m outputs = model(inputs)\n\u001b[32m     15\u001b[39m loss = criterion(outputs, labels)\n\u001b[32m---> \u001b[39m\u001b[32m16\u001b[39m \u001b[43mloss\u001b[49m\u001b[43m.\u001b[49m\u001b[43mbackward\u001b[49m\u001b[43m(\u001b[49m\u001b[43m)\u001b[49m\n\u001b[32m     17\u001b[39m optimizer.step()\n\u001b[32m     19\u001b[39m running_loss += loss.item()\n",
      "\u001b[36mFile \u001b[39m\u001b[32m~/Studia/WzTUM/projekt/wztum-project/.venv/lib/python3.13/site-packages/torch/_tensor.py:648\u001b[39m, in \u001b[36mTensor.backward\u001b[39m\u001b[34m(self, gradient, retain_graph, create_graph, inputs)\u001b[39m\n\u001b[32m    638\u001b[39m \u001b[38;5;28;01mif\u001b[39;00m has_torch_function_unary(\u001b[38;5;28mself\u001b[39m):\n\u001b[32m    639\u001b[39m     \u001b[38;5;28;01mreturn\u001b[39;00m handle_torch_function(\n\u001b[32m    640\u001b[39m         Tensor.backward,\n\u001b[32m    641\u001b[39m         (\u001b[38;5;28mself\u001b[39m,),\n\u001b[32m   (...)\u001b[39m\u001b[32m    646\u001b[39m         inputs=inputs,\n\u001b[32m    647\u001b[39m     )\n\u001b[32m--> \u001b[39m\u001b[32m648\u001b[39m \u001b[43mtorch\u001b[49m\u001b[43m.\u001b[49m\u001b[43mautograd\u001b[49m\u001b[43m.\u001b[49m\u001b[43mbackward\u001b[49m\u001b[43m(\u001b[49m\n\u001b[32m    649\u001b[39m \u001b[43m    \u001b[49m\u001b[38;5;28;43mself\u001b[39;49m\u001b[43m,\u001b[49m\u001b[43m \u001b[49m\u001b[43mgradient\u001b[49m\u001b[43m,\u001b[49m\u001b[43m \u001b[49m\u001b[43mretain_graph\u001b[49m\u001b[43m,\u001b[49m\u001b[43m \u001b[49m\u001b[43mcreate_graph\u001b[49m\u001b[43m,\u001b[49m\u001b[43m \u001b[49m\u001b[43minputs\u001b[49m\u001b[43m=\u001b[49m\u001b[43minputs\u001b[49m\n\u001b[32m    650\u001b[39m \u001b[43m\u001b[49m\u001b[43m)\u001b[49m\n",
      "\u001b[36mFile \u001b[39m\u001b[32m~/Studia/WzTUM/projekt/wztum-project/.venv/lib/python3.13/site-packages/torch/autograd/__init__.py:353\u001b[39m, in \u001b[36mbackward\u001b[39m\u001b[34m(tensors, grad_tensors, retain_graph, create_graph, grad_variables, inputs)\u001b[39m\n\u001b[32m    348\u001b[39m     retain_graph = create_graph\n\u001b[32m    350\u001b[39m \u001b[38;5;66;03m# The reason we repeat the same comment below is that\u001b[39;00m\n\u001b[32m    351\u001b[39m \u001b[38;5;66;03m# some Python versions print out the first line of a multi-line function\u001b[39;00m\n\u001b[32m    352\u001b[39m \u001b[38;5;66;03m# calls in the traceback and some print out the last line\u001b[39;00m\n\u001b[32m--> \u001b[39m\u001b[32m353\u001b[39m \u001b[43m_engine_run_backward\u001b[49m\u001b[43m(\u001b[49m\n\u001b[32m    354\u001b[39m \u001b[43m    \u001b[49m\u001b[43mtensors\u001b[49m\u001b[43m,\u001b[49m\n\u001b[32m    355\u001b[39m \u001b[43m    \u001b[49m\u001b[43mgrad_tensors_\u001b[49m\u001b[43m,\u001b[49m\n\u001b[32m    356\u001b[39m \u001b[43m    \u001b[49m\u001b[43mretain_graph\u001b[49m\u001b[43m,\u001b[49m\n\u001b[32m    357\u001b[39m \u001b[43m    \u001b[49m\u001b[43mcreate_graph\u001b[49m\u001b[43m,\u001b[49m\n\u001b[32m    358\u001b[39m \u001b[43m    \u001b[49m\u001b[43minputs\u001b[49m\u001b[43m,\u001b[49m\n\u001b[32m    359\u001b[39m \u001b[43m    \u001b[49m\u001b[43mallow_unreachable\u001b[49m\u001b[43m=\u001b[49m\u001b[38;5;28;43;01mTrue\u001b[39;49;00m\u001b[43m,\u001b[49m\n\u001b[32m    360\u001b[39m \u001b[43m    \u001b[49m\u001b[43maccumulate_grad\u001b[49m\u001b[43m=\u001b[49m\u001b[38;5;28;43;01mTrue\u001b[39;49;00m\u001b[43m,\u001b[49m\n\u001b[32m    361\u001b[39m \u001b[43m\u001b[49m\u001b[43m)\u001b[49m\n",
      "\u001b[36mFile \u001b[39m\u001b[32m~/Studia/WzTUM/projekt/wztum-project/.venv/lib/python3.13/site-packages/torch/autograd/graph.py:824\u001b[39m, in \u001b[36m_engine_run_backward\u001b[39m\u001b[34m(t_outputs, *args, **kwargs)\u001b[39m\n\u001b[32m    822\u001b[39m     unregister_hooks = _register_logging_hooks_on_whole_graph(t_outputs)\n\u001b[32m    823\u001b[39m \u001b[38;5;28;01mtry\u001b[39;00m:\n\u001b[32m--> \u001b[39m\u001b[32m824\u001b[39m     \u001b[38;5;28;01mreturn\u001b[39;00m \u001b[43mVariable\u001b[49m\u001b[43m.\u001b[49m\u001b[43m_execution_engine\u001b[49m\u001b[43m.\u001b[49m\u001b[43mrun_backward\u001b[49m\u001b[43m(\u001b[49m\u001b[43m  \u001b[49m\u001b[38;5;66;43;03m# Calls into the C++ engine to run the backward pass\u001b[39;49;00m\n\u001b[32m    825\u001b[39m \u001b[43m        \u001b[49m\u001b[43mt_outputs\u001b[49m\u001b[43m,\u001b[49m\u001b[43m \u001b[49m\u001b[43m*\u001b[49m\u001b[43margs\u001b[49m\u001b[43m,\u001b[49m\u001b[43m \u001b[49m\u001b[43m*\u001b[49m\u001b[43m*\u001b[49m\u001b[43mkwargs\u001b[49m\n\u001b[32m    826\u001b[39m \u001b[43m    \u001b[49m\u001b[43m)\u001b[49m  \u001b[38;5;66;03m# Calls into the C++ engine to run the backward pass\u001b[39;00m\n\u001b[32m    827\u001b[39m \u001b[38;5;28;01mfinally\u001b[39;00m:\n\u001b[32m    828\u001b[39m     \u001b[38;5;28;01mif\u001b[39;00m attach_logging_hooks:\n",
      "\u001b[31mOutOfMemoryError\u001b[39m: CUDA out of memory. Tried to allocate 476.00 MiB. GPU 0 has a total capacity of 3.68 GiB of which 141.38 MiB is free. Including non-PyTorch memory, this process has 3.52 GiB memory in use. Of the allocated memory 2.87 GiB is allocated by PyTorch, and 553.86 MiB is reserved by PyTorch but unallocated. If reserved but unallocated memory is large try setting PYTORCH_CUDA_ALLOC_CONF=expandable_segments:True to avoid fragmentation.  See documentation for Memory Management  (https://pytorch.org/docs/stable/notes/cuda.html#environment-variables)"
     ]
    }
   ],
   "source": [
    "        model_stride1 = SimpleCNN(num_classes)\n",
    "model_stride2 = SimpleCNN(num_classes)\n",
    "\n",
    "model_stride1.conv1 = nn.Conv2d(1, 8, kernel_size=3, stride=1, padding=1)\n",
    "model_stride2.conv1 = nn.Conv2d(1, 8, kernel_size=5, stride=2, padding=2)\n",
    "\n",
    "acc_stride1 = train_and_evaluate(model_stride1, train_loader, val_loader, optim.Adam(model_stride1.parameters(), lr=0.001))\n",
    "acc_stride2 = train_and_evaluate(model_stride2, train_loader, val_loader, optim.Adam(model_stride2.parameters(), lr=0.001))\n",
    "\n",
    "print(f\"Stride 1 (3x3) Accuracy: {acc_stride1:.2f}%\")\n",
    "print(f\"Stride 2 (5x5) Accuracy: {acc_stride2:.2f}%\")"
   ]
  },
  {
   "cell_type": "markdown",
   "metadata": {},
   "source": [
    "4. Activation fuction (ReLU vs Sigmoid)"
   ]
  },
  {
   "cell_type": "code",
   "execution_count": null,
   "metadata": {},
   "outputs": [],
   "source": [
    "def test_activation_function():\n",
    "    relu_model = SimpleCNN(num_classes=10)\n",
    "    sigmoid_model = SimpleCNN(num_classes=10)\n",
    "\n",
    "    relu_model.conv1 = nn.Sequential(nn.Conv2d(1, 8, 3, 1, 1), nn.ReLU())\n",
    "    sigmoid_model.conv1 = nn.Sequential(nn.Conv2d(1, 8, 3, 1, 1), nn.Sigmoid())\n",
    "\n",
    "    dummy_input = torch.randn(2, 1, 64, 100)  # [batch, channels, n_mels, time]\n",
    "    relu_out = relu_model(dummy_input)\n",
    "    sigmoid_out = sigmoid_model(dummy_input)\n",
    "\n",
    "    assert relu_out.shape == sigmoid_out.shape == (2, 10)"
   ]
  },
  {
   "cell_type": "code",
   "execution_count": null,
   "metadata": {},
   "outputs": [
    {
     "name": "stdout",
     "output_type": "stream",
     "text": [
      "Epoch 1/2 | Train Loss: 0.8932 | Val Loss: 0.6043 | Val Acc: 80.43%\n",
      "Epoch 2/2 | Train Loss: 0.5078 | Val Loss: 0.4737 | Val Acc: 84.84%\n",
      "Epoch 1/2 | Train Loss: 1.2490 | Val Loss: 1.0138 | Val Acc: 68.08%\n",
      "Epoch 2/2 | Train Loss: 0.8685 | Val Loss: 0.7572 | Val Acc: 75.46%\n",
      "ReLU Accuracy: 84.84%\n",
      "Sigmoid Accuracy: 75.46%\n"
     ]
    }
   ],
   "source": [
    "model_relu = SimpleCNN(num_classes)\n",
    "model_relu.conv1 = nn.Conv2d(1, 8, kernel_size=3, stride=1, padding=1)\n",
    "model_relu.conv2 = nn.Conv2d(8, 16, kernel_size=3, stride=1, padding=1)\n",
    "\n",
    "model_sigmoid = SimpleCNN(num_classes)\n",
    "model_sigmoid.conv1 = nn.Sequential(nn.Conv2d(1, 8, 3, 1, 1), nn.Sigmoid())\n",
    "model_sigmoid.conv2 = nn.Sequential(nn.Conv2d(8, 16, 3, 1, 1), nn.Sigmoid())\n",
    "\n",
    "acc_relu = train_and_evaluate(model_relu, train_loader, val_loader, optim.Adam(model_relu.parameters(), lr=0.001))\n",
    "acc_sigmoid = train_and_evaluate(model_sigmoid, train_loader, val_loader, optim.Adam(model_sigmoid.parameters(), lr=0.001))\n",
    "\n",
    "print(f\"ReLU Accuracy: {acc_relu:.2f}%\")\n",
    "print(f\"Sigmoid Accuracy: {acc_sigmoid:.2f}%\")"
   ]
  },
  {
   "cell_type": "markdown",
   "metadata": {},
   "source": [
    "5. Pooling"
   ]
  },
  {
   "cell_type": "code",
   "execution_count": null,
   "metadata": {},
   "outputs": [],
   "source": [
    "def test_pooling_variants():\n",
    "    input_tensor = torch.randn(4, 8, 32, 32)\n",
    "\n",
    "    max_pool = nn.AdaptiveMaxPool2d((8, 8))(input_tensor)\n",
    "    avg_pool = nn.AdaptiveAvgPool2d((8, 8))(input_tensor)\n",
    "    global_pool = nn.AdaptiveMaxPool2d((1, 1))(input_tensor)\n",
    "\n",
    "    assert max_pool.shape == avg_pool.shape == (4, 8, 8, 8)\n",
    "    assert global_pool.shape == (4, 8, 1, 1)"
   ]
  },
  {
   "cell_type": "code",
   "execution_count": null,
   "metadata": {},
   "outputs": [
    {
     "name": "stdout",
     "output_type": "stream",
     "text": [
      "Epoch 1/2 | Train Loss: 0.7925 | Val Loss: 0.5001 | Val Acc: 83.61%\n",
      "Epoch 2/2 | Train Loss: 0.4387 | Val Loss: 0.4492 | Val Acc: 85.98%\n",
      "Epoch 1/2 | Train Loss: 1.0038 | Val Loss: 0.6988 | Val Acc: 76.74%\n",
      "Epoch 2/2 | Train Loss: 0.5644 | Val Loss: 0.4887 | Val Acc: 84.30%\n",
      "MaxPool Accuracy: 85.98%\n",
      "AvgPool Accuracy: 84.30%\n"
     ]
    }
   ],
   "source": [
    "class CNN_MaxPool(SimpleCNN):\n",
    "    def __init__(self, num_classes):\n",
    "        super().__init__(num_classes)\n",
    "        self.pool = nn.AdaptiveMaxPool2d((8, 8))\n",
    "\n",
    "class CNN_AvgPool(SimpleCNN):\n",
    "    def __init__(self, num_classes):\n",
    "        super().__init__(num_classes)\n",
    "        self.pool = nn.AdaptiveAvgPool2d((8, 8))\n",
    "\n",
    "model_max = CNN_MaxPool(num_classes)\n",
    "model_avg = CNN_AvgPool(num_classes)\n",
    "\n",
    "acc_max = train_and_evaluate(model_max, train_loader, val_loader, optim.Adam(model_max.parameters(), lr=0.001))\n",
    "acc_avg = train_and_evaluate(model_avg, train_loader, val_loader, optim.Adam(model_avg.parameters(), lr=0.001))\n",
    "\n",
    "print(f\"MaxPool Accuracy: {acc_max:.2f}%\")\n",
    "print(f\"AvgPool Accuracy: {acc_avg:.2f}%\")"
   ]
  },
  {
   "cell_type": "markdown",
   "metadata": {},
   "source": [
    "6. Initialization"
   ]
  },
  {
   "cell_type": "code",
   "execution_count": null,
   "metadata": {},
   "outputs": [],
   "source": [
    "def test_initialization_methods():\n",
    "    conv = nn.Conv2d(1, 8, kernel_size=3, stride=1, padding=1)\n",
    "    torch.nn.init.kaiming_normal_(conv.weight, nonlinearity='relu')\n",
    "    kaiming_std = conv.weight.std().item()\n",
    "\n",
    "    conv = nn.Conv2d(1, 8, kernel_size=3, stride=1, padding=1)\n",
    "    torch.nn.init.xavier_normal_(conv.weight)\n",
    "    xavier_std = conv.weight.std().item()\n",
    "\n",
    "    assert kaiming_std != xavier_std "
   ]
  },
  {
   "cell_type": "code",
   "execution_count": null,
   "metadata": {},
   "outputs": [
    {
     "name": "stdout",
     "output_type": "stream",
     "text": [
      "Epoch 1/2 | Train Loss: 1.5924 | Val Loss: 1.2898 | Val Acc: 64.78%\n",
      "Epoch 2/2 | Train Loss: 1.2698 | Val Loss: 1.2493 | Val Acc: 64.78%\n",
      "Epoch 1/2 | Train Loss: 1.0605 | Val Loss: 0.7315 | Val Acc: 75.84%\n",
      "Epoch 2/2 | Train Loss: 0.5920 | Val Loss: 0.5241 | Val Acc: 82.62%\n",
      "He Init Accuracy: 64.78%\n",
      "Xavier Init Accuracy: 82.62%\n"
     ]
    }
   ],
   "source": [
    "def apply_he(model):\n",
    "    for m in model.modules():\n",
    "        if isinstance(m, (nn.Conv2d, nn.Linear)):\n",
    "            nn.init.kaiming_uniform_(m.weight, nonlinearity='relu')\n",
    "\n",
    "def apply_xavier(model):\n",
    "    for m in model.modules():\n",
    "        if isinstance(m, (nn.Conv2d, nn.Linear)):\n",
    "            nn.init.xavier_uniform_(m.weight)\n",
    "\n",
    "model_he = SimpleCNN(num_classes)\n",
    "model_xavier = SimpleCNN(num_classes)\n",
    "\n",
    "apply_he(model_he)\n",
    "apply_xavier(model_xavier)\n",
    "\n",
    "acc_he = train_and_evaluate(model_he, train_loader, val_loader, optim.Adam(model_he.parameters(), lr=0.001))\n",
    "acc_xavier = train_and_evaluate(model_xavier, train_loader, val_loader, optim.Adam(model_xavier.parameters(), lr=0.001))\n",
    "\n",
    "print(f\"He Init Accuracy: {acc_he:.2f}%\")\n",
    "print(f\"Xavier Init Accuracy: {acc_xavier:.2f}%\")"
   ]
  },
  {
   "cell_type": "markdown",
   "metadata": {},
   "source": [
    "7. Optimizer: SGD vs Adam vs SGD+Momentum"
   ]
  },
  {
   "cell_type": "code",
   "execution_count": null,
   "metadata": {},
   "outputs": [],
   "source": [
    "def test_optimizer_variants():\n",
    "    model = SimpleCNN(num_classes=10)\n",
    "    sgd = optim.SGD(model.parameters(), lr=0.01)\n",
    "    adam = optim.Adam(model.parameters(), lr=0.01)\n",
    "    momentum = optim.SGD(model.parameters(), lr=0.01, momentum=0.9)\n",
    "\n",
    "    assert isinstance(sgd, optim.Optimizer)\n",
    "    assert isinstance(adam, optim.Optimizer)\n",
    "    assert isinstance(momentum, optim.Optimizer)"
   ]
  },
  {
   "cell_type": "code",
   "execution_count": null,
   "metadata": {},
   "outputs": [
    {
     "name": "stdout",
     "output_type": "stream",
     "text": [
      "Epoch 1/2 | Train Loss: 1.0162 | Val Loss: 0.6863 | Val Acc: 77.59%\n",
      "Epoch 2/2 | Train Loss: 0.5541 | Val Loss: 0.4376 | Val Acc: 85.75%\n",
      "Epoch 1/2 | Train Loss: 0.8652 | Val Loss: 0.5509 | Val Acc: 81.74%\n",
      "Epoch 2/2 | Train Loss: 0.4788 | Val Loss: 0.4700 | Val Acc: 84.58%\n",
      "Epoch 1/2 | Train Loss: 1.0182 | Val Loss: 0.8749 | Val Acc: 72.46%\n",
      "Epoch 2/2 | Train Loss: 0.8240 | Val Loss: 0.8358 | Val Acc: 73.60%\n",
      "SGD Accuracy: 85.75%\n",
      "Adam Accuracy: 84.58%\n",
      "Momentum Accuracy: 73.60%\n"
     ]
    }
   ],
   "source": [
    "model_sgd = SimpleCNN(num_classes)\n",
    "model_adam = SimpleCNN(num_classes)\n",
    "model_momentum = SimpleCNN(num_classes)\n",
    "\n",
    "opt_sgd = optim.SGD(model_sgd.parameters(), lr=0.01)\n",
    "opt_adam = optim.Adam(model_adam.parameters(), lr=0.001)\n",
    "opt_momentum = optim.SGD(model_momentum.parameters(), lr=0.01, momentum=0.9)\n",
    "\n",
    "acc_sgd = train_and_evaluate(model_sgd, train_loader, val_loader, opt_sgd)\n",
    "acc_adam = train_and_evaluate(model_adam, train_loader, val_loader, opt_adam)\n",
    "acc_momentum = train_and_evaluate(model_momentum, train_loader, val_loader, opt_momentum)\n",
    "\n",
    "print(f\"SGD Accuracy: {acc_sgd:.2f}%\")\n",
    "print(f\"Adam Accuracy: {acc_adam:.2f}%\")\n",
    "print(f\"Momentum Accuracy: {acc_momentum:.2f}%\")"
   ]
  },
  {
   "cell_type": "markdown",
   "metadata": {},
   "source": [
    "8. Batch Size"
   ]
  },
  {
   "cell_type": "code",
   "execution_count": null,
   "metadata": {},
   "outputs": [],
   "source": [
    "def test_batch_size_effect():\n",
    "    from torch.utils.data import TensorDataset, DataLoader\n",
    "\n",
    "    dummy_data = torch.randn(100, 1, 64, 50)\n",
    "    dummy_labels = torch.randint(0, 10, (100,))\n",
    "    dataset = TensorDataset(dummy_data, dummy_labels)\n",
    "\n",
    "    loader_small = DataLoader(dataset, batch_size=8)\n",
    "    loader_large = DataLoader(dataset, batch_size=32)\n",
    "\n",
    "    assert len(list(loader_small)) > len(list(loader_large))"
   ]
  },
  {
   "cell_type": "code",
   "execution_count": null,
   "metadata": {},
   "outputs": [
    {
     "name": "stdout",
     "output_type": "stream",
     "text": [
      "Epoch 1/2 | Train Loss: 0.8433 | Val Loss: 0.6108 | Val Acc: 79.93%\n",
      "Epoch 2/2 | Train Loss: 0.5184 | Val Loss: 0.4720 | Val Acc: 84.56%\n",
      "Epoch 1/2 | Train Loss: 0.8124 | Val Loss: 0.5175 | Val Acc: 83.00%\n",
      "Epoch 2/2 | Train Loss: 0.4538 | Val Loss: 0.4192 | Val Acc: 86.96%\n",
      "Epoch 1/2 | Train Loss: 0.9190 | Val Loss: 0.6060 | Val Acc: 80.60%\n",
      "Epoch 2/2 | Train Loss: 0.5243 | Val Loss: 0.4956 | Val Acc: 84.13%\n",
      "Batch Size 8 Accuracy: 84.56%\n",
      "Batch Size 16 Accuracy: 86.96%\n",
      "Batch Size 32 Accuracy: 84.13%\n"
     ]
    }
   ],
   "source": [
    "# Needs more than 4 GB of GPU memory\n",
    "\n",
    "model_bs8 = SimpleCNN(num_classes)\n",
    "model_bs16 = SimpleCNN(num_classes)\n",
    "model_bs32 = SimpleCNN(num_classes)\n",
    "\n",
    "loader_bs8 = DataLoader(train_dataset, batch_size=8, shuffle=True, collate_fn=pad_collate_fn)\n",
    "loader_bs16 = DataLoader(train_dataset, batch_size=16, shuffle=True, collate_fn=pad_collate_fn)\n",
    "loader_bs32 = DataLoader(train_dataset, batch_size=32, shuffle=True, collate_fn=pad_collate_fn)\n",
    "\n",
    "acc_bs8 = train_and_evaluate(model_bs8, loader_bs8, val_loader, optim.Adam(model_bs8.parameters(), lr=0.001))\n",
    "acc_bs16 = train_and_evaluate(model_bs16, loader_bs16, val_loader, optim.Adam(model_bs16.parameters(), lr=0.001))\n",
    "acc_bs32 = train_and_evaluate(model_bs32, loader_bs32, val_loader, optim.Adam(model_bs32.parameters(), lr=0.001))\n",
    "\n",
    "print(f\"Batch Size 8 Accuracy: {acc_bs8:.2f}%\")\n",
    "print(f\"Batch Size 16 Accuracy: {acc_bs16:.2f}%\")\n",
    "print(f\"Batch Size 32 Accuracy: {acc_bs32:.2f}%\")"
   ]
  },
  {
   "cell_type": "markdown",
   "metadata": {},
   "source": [
    "9. Learning Rate Schedule"
   ]
  },
  {
   "cell_type": "code",
   "execution_count": null,
   "metadata": {},
   "outputs": [],
   "source": [
    "def test_lr_scheduler_step():\n",
    "    model = SimpleCNN(num_classes=10)\n",
    "    optimizer = optim.Adam(model.parameters(), lr=0.01)\n",
    "    scheduler = optim.lr_scheduler.StepLR(optimizer, step_size=1, gamma=0.1)\n",
    "\n",
    "    lrs = []\n",
    "    for _ in range(3):\n",
    "        optimizer.step()\n",
    "        scheduler.step()\n",
    "        lrs.append(optimizer.param_groups[0]['lr'])\n",
    "\n",
    "    assert lrs == [0.01, 0.001, 0.0001]"
   ]
  },
  {
   "cell_type": "code",
   "execution_count": null,
   "metadata": {},
   "outputs": [
    {
     "name": "stdout",
     "output_type": "stream",
     "text": [
      "Epoch 1/2 | Train Loss: 0.8234 | Val Loss: 0.5368 | Val Acc: 82.59%\n",
      "Epoch 2/2 | Train Loss: 0.4619 | Val Loss: 0.4352 | Val Acc: 86.54%\n",
      "Epoch 1/2 | Train Loss: 0.7995 | Val Loss: 0.5340 | Val Acc: 82.47%\n",
      "Epoch 2/2 | Train Loss: 0.4455 | Val Loss: 0.4135 | Val Acc: 86.59%\n",
      "Epoch 1/2 | Train Loss: 0.8060 | Val Loss: 0.5145 | Val Acc: 83.39%\n",
      "Epoch 2/2 | Train Loss: 0.4383 | Val Loss: 0.4054 | Val Acc: 87.06%\n",
      "No Scheduler Accuracy: 86.54%\n",
      "StepLR Accuracy: 86.59%\n",
      "ReduceLROnPlateau Accuracy: 87.06%\n"
     ]
    }
   ],
   "source": [
    "model_nosched = SimpleCNN(num_classes)\n",
    "model_step = SimpleCNN(num_classes)\n",
    "model_plateau = SimpleCNN(num_classes)\n",
    "\n",
    "opt_nosched = optim.Adam(model_nosched.parameters(), lr=0.001)\n",
    "opt_step = optim.Adam(model_step.parameters(), lr=0.001)\n",
    "opt_plateau = optim.Adam(model_plateau.parameters(), lr=0.001)\n",
    "\n",
    "sched_step = optim.lr_scheduler.StepLR(opt_step, step_size=1, gamma=0.9)\n",
    "sched_plateau = optim.lr_scheduler.ReduceLROnPlateau(opt_plateau, patience=1)\n",
    "\n",
    "acc_nosched = train_and_evaluate(model_nosched, train_loader, val_loader, opt_nosched, scheduler=None)\n",
    "acc_step = train_and_evaluate(model_step, train_loader, val_loader, opt_step, scheduler=sched_step)\n",
    "acc_plateau = train_and_evaluate(model_plateau, train_loader, val_loader, opt_plateau, scheduler=sched_plateau)\n",
    "\n",
    "print(f\"No Scheduler Accuracy: {acc_nosched:.2f}%\")\n",
    "print(f\"StepLR Accuracy: {acc_step:.2f}%\")\n",
    "print(f\"ReduceLROnPlateau Accuracy: {acc_plateau:.2f}%\")"
   ]
  },
  {
   "cell_type": "markdown",
   "metadata": {},
   "source": [
    "10. Batch Normalization: With vs Without"
   ]
  },
  {
   "cell_type": "code",
   "execution_count": null,
   "metadata": {},
   "outputs": [],
   "source": [
    "class CNN_BatchNorm(SimpleCNN):\n",
    "    def __init__(self, num_classes):\n",
    "        super().__init__(num_classes)\n",
    "        self.bn1 = nn.BatchNorm2d(8)\n",
    "        self.bn2 = nn.BatchNorm2d(16)\n",
    "\n",
    "    def forward(self, x):\n",
    "        x = F.relu(self.bn1(self.conv1(x)))\n",
    "        x = F.relu(self.bn2(self.conv2(x)))\n",
    "        x = self.pool(x)\n",
    "        x = x.view(x.size(0), -1)\n",
    "        return self.fc(x)\n",
    "\n",
    "model_no_bn = SimpleCNN(num_classes)\n",
    "model_bn = CNN_BatchNorm(num_classes)\n",
    "\n",
    "acc_no_bn = train_and_evaluate(model_no_bn, train_loader, val_loader, optim.Adam(model_no_bn.parameters(), lr=0.001))\n",
    "acc_bn = train_and_evaluate(model_bn, train_loader, val_loader, optim.Adam(model_bn.parameters(), lr=0.001))\n",
    "\n",
    "print(f\"No BatchNorm Accuracy: {acc_no_bn:.2f}%\")\n",
    "print(f\"With BatchNorm Accuracy: {acc_bn:.2f}%\")"
   ]
  },
  {
   "cell_type": "markdown",
   "metadata": {},
   "source": [
    "11. Skip Connections (Residual Block)"
   ]
  },
  {
   "cell_type": "code",
   "execution_count": null,
   "metadata": {},
   "outputs": [],
   "source": [
    "class CNN_Skip(nn.Module):\n",
    "    def __init__(self, num_classes):\n",
    "        super().__init__()\n",
    "        self.conv1 = nn.Conv2d(1, 8, 3, 1, 1)\n",
    "        self.conv2 = nn.Conv2d(8, 8, 3, 1, 1)\n",
    "        self.pool = nn.AdaptiveAvgPool2d((4, 4))\n",
    "        self.fc = nn.Linear(8 * 4 * 4, num_classes)\n",
    "\n",
    "    def forward(self, x):\n",
    "        residual = F.relu(self.conv1(x))\n",
    "        out = F.relu(self.conv2(residual))\n",
    "        out += residual  # skip connection\n",
    "        out = self.pool(out)\n",
    "        out = out.view(out.size(0), -1)\n",
    "        return self.fc(out)\n",
    "\n",
    "model_skip = CNN_Skip(num_classes)\n",
    "model_noskip = SimpleCNN(num_classes)\n",
    "\n",
    "acc_noskip = train_and_evaluate(model_noskip, train_loader, val_loader, optim.Adam(model_noskip.parameters(), lr=0.001))\n",
    "acc_skip = train_and_evaluate(model_skip, train_loader, val_loader, optim.Adam(model_skip.parameters(), lr=0.001))\n",
    "\n",
    "print(f\"No Skip Accuracy: {acc_noskip:.2f}%\")\n",
    "print(f\"Skip Connection Accuracy: {acc_skip:.2f}%\")"
   ]
  },
  {
   "cell_type": "markdown",
   "metadata": {},
   "source": [
    "12. Weight Decay"
   ]
  },
  {
   "cell_type": "code",
   "execution_count": null,
   "metadata": {},
   "outputs": [],
   "source": [
    "model_wd0 = SimpleCNN(num_classes)\n",
    "model_wd1 = SimpleCNN(num_classes)\n",
    "model_wd2 = SimpleCNN(num_classes)\n",
    "\n",
    "opt_wd0 = optim.Adam(model_wd0.parameters(), lr=0.001, weight_decay=0.0)\n",
    "opt_wd1 = optim.Adam(model_wd1.parameters(), lr=0.001, weight_decay=0.001)\n",
    "opt_wd2 = optim.Adam(model_wd2.parameters(), lr=0.001, weight_decay=0.01)\n",
    "\n",
    "acc_wd0 = train_and_evaluate(model_wd0, train_loader, val_loader, opt_wd0)\n",
    "acc_wd1 = train_and_evaluate(model_wd1, train_loader, val_loader, opt_wd1)\n",
    "acc_wd2 = train_and_evaluate(model_wd2, train_loader, val_loader, opt_wd2)\n",
    "\n",
    "print(f\"No Weight Decay Accuracy: {acc_wd0:.2f}%\")\n",
    "print(f\"Weight Decay 0.001 Accuracy: {acc_wd1:.2f}%\")\n",
    "print(f\"Weight Decay 0.01 Accuracy: {acc_wd2:.2f}%\")"
   ]
  }
 ],
 "metadata": {
  "kernelspec": {
   "display_name": "Python 3",
   "language": "python",
   "name": "python3"
  },
  "language_info": {
   "codemirror_mode": {
    "name": "ipython",
    "version": 3
   },
   "file_extension": ".py",
   "mimetype": "text/x-python",
   "name": "python",
   "nbconvert_exporter": "python",
   "pygments_lexer": "ipython3",
   "version": "3.12.2"
  }
 },
 "nbformat": 4,
 "nbformat_minor": 2
}
