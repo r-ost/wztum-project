{
 "cells": [
  {
   "cell_type": "code",
   "execution_count": 1,
   "metadata": {},
   "outputs": [],
   "source": [
    "import os\n",
    "import torch\n",
    "import torchaudio\n",
    "import matplotlib.pyplot as plt\n",
    "\n",
    "from torch.utils.data import Dataset, DataLoader, random_split\n",
    "import torch.nn as nn\n",
    "import torch.nn.functional as F\n",
    "import torch.optim as optim\n",
    "import soundfile as sf\n",
    "import torchaudio.transforms as T\n"
   ]
  },
  {
   "cell_type": "markdown",
   "metadata": {},
   "source": [
    "# Wczytywanie plików audio"
   ]
  },
  {
   "cell_type": "code",
   "execution_count": 2,
   "metadata": {},
   "outputs": [],
   "source": [
    "class AudioDataset(Dataset):\n",
    "    def __init__(self, root_dir, transform=None):\n",
    "        \"\"\"\n",
    "        If root_dir contains subfolders, each is treated as a label.\n",
    "        Otherwise, root_dir is assumed to be a single class.\n",
    "        Labels are remapped so that only allowed test classes are kept;\n",
    "        all other labels are mapped to \"unknown\".\n",
    "        \"\"\"\n",
    "        self.root_dir = root_dir\n",
    "        self.transform = transform\n",
    "        self.filepaths = []\n",
    "        self.labels = []\n",
    "        self.label2idx = {}\n",
    "        self.idx2label = {}\n",
    "\n",
    "        # Allowed test classes from train (silence is not expected in train)\n",
    "        allowed = {\"yes\", \"no\", \"up\", \"down\", \"left\", \"right\", \"on\", \"off\", \"stop\", \"go\"}\n",
    "        \n",
    "        subdirs = [d for d in os.listdir(root_dir) if os.path.isdir(os.path.join(root_dir, d))]\n",
    "        \n",
    "        if subdirs:\n",
    "            # Find allowed labels that appear in the training folders.\n",
    "            allowed_in_train = sorted([d for d in subdirs if d in allowed])\n",
    "            # If any subfolder is not in allowed, we will assign it the label \"unknown\"\n",
    "            has_unknown = any(d not in allowed for d in subdirs)\n",
    "            \n",
    "            # Create label-to-index mapping:\n",
    "            current_idx = 0\n",
    "            for label in allowed_in_train:\n",
    "                self.label2idx[label] = current_idx\n",
    "                self.idx2label[current_idx] = label\n",
    "                current_idx += 1\n",
    "            if has_unknown:\n",
    "                self.label2idx[\"unknown\"] = current_idx\n",
    "                self.idx2label[current_idx] = \"unknown\"\n",
    "            \n",
    "            # Read files and map labels accordingly.\n",
    "            for label in subdirs:\n",
    "                label_path = os.path.join(root_dir, label)\n",
    "                for f in os.listdir(label_path):\n",
    "                    if f.endswith(\".wav\"):\n",
    "                        filepath = os.path.join(label_path, f)\n",
    "                        # If label is allowed, keep it; otherwise, use \"unknown\"\n",
    "                        mapped_label = label if label in allowed else \"unknown\"\n",
    "                        self.filepaths.append(filepath)\n",
    "                        self.labels.append(self.label2idx[mapped_label])\n",
    "        else:\n",
    "            # No subdirectories – root_dir is treated as one class.\n",
    "            label = os.path.basename(root_dir)\n",
    "            mapped_label = label if label in allowed else \"unknown\"\n",
    "            self.label2idx[mapped_label] = 0\n",
    "            self.idx2label[0] = mapped_label\n",
    "            for f in os.listdir(root_dir):\n",
    "                if f.endswith(\".wav\"):\n",
    "                    self.filepaths.append(os.path.join(root_dir, f))\n",
    "                    self.labels.append(0)\n",
    "\n",
    "    def __len__(self):\n",
    "        return len(self.filepaths)\n",
    "\n",
    "    def __getitem__(self, idx):\n",
    "        filepath = self.filepaths[idx]\n",
    "        label = self.labels[idx]\n",
    "    \n",
    "        # Load audio using soundfile\n",
    "        data, sample_rate = sf.read(filepath)\n",
    "        waveform = torch.tensor(data, dtype=torch.float32).unsqueeze(0)  # Add channel dimension\n",
    "     \n",
    "        if self.transform:\n",
    "            waveform = self.transform(waveform)\n",
    "    \n",
    "        return waveform, label\n",
    "\n",
    "# Transformation: MelSpectrogram + AmplitudeToDB\n",
    "mel_transform = T.MelSpectrogram(sample_rate=16000, n_mels=64)\n",
    "db_transform = T.AmplitudeToDB()\n",
    "\n",
    "def to_mel_spectrogram(waveform):\n",
    "    waveform = waveform.float() \n",
    "    spec = mel_transform(waveform)\n",
    "    spec_db = db_transform(spec)\n",
    "    return spec_db  # shape: [1, n_mels, time]\n",
    "\n",
    "# Function collate, which pads spectrograms of different time lengths\n",
    "def pad_collate_fn(batch):\n",
    "    \"\"\"\n",
    "    batch: list of tuples (spectrogram, label)\n",
    "    We assume each spectrogram has shape [1, n_mels, time]\n",
    "    \"\"\"\n",
    "    spectrograms, labels = zip(*batch)\n",
    "    \n",
    "    max_time = max(s.size(2) for s in spectrograms)\n",
    "    \n",
    "    padded_spectrograms = []\n",
    "    for s in spectrograms:\n",
    "        pad_amount = max_time - s.size(2)\n",
    "        s_padded = F.pad(s, (0, pad_amount), mode='constant', value=0)\n",
    "        padded_spectrograms.append(s_padded)\n",
    "    \n",
    "    batch_spectrograms = torch.stack(padded_spectrograms)\n",
    "    batch_labels = torch.tensor(labels)\n",
    "    return batch_spectrograms, batch_labels"
   ]
  },
  {
   "cell_type": "markdown",
   "metadata": {},
   "source": [
    "# EDA"
   ]
  },
  {
   "cell_type": "code",
   "execution_count": null,
   "metadata": {},
   "outputs": [
    {
     "ename": "FileNotFoundError",
     "evalue": "[Errno 2] No such file or directory: 'data/train/audio'",
     "output_type": "error",
     "traceback": [
      "\u001b[31m---------------------------------------------------------------------------\u001b[39m",
      "\u001b[31mFileNotFoundError\u001b[39m                         Traceback (most recent call last)",
      "\u001b[36mCell\u001b[39m\u001b[36m \u001b[39m\u001b[32mIn[3]\u001b[39m\u001b[32m, line 2\u001b[39m\n\u001b[32m      1\u001b[39m \u001b[38;5;66;03m# Test usage of AudioDataset\u001b[39;00m\n\u001b[32m----> \u001b[39m\u001b[32m2\u001b[39m dataset = \u001b[43mAudioDataset\u001b[49m\u001b[43m(\u001b[49m\u001b[43mroot_dir\u001b[49m\u001b[43m=\u001b[49m\u001b[43mos\u001b[49m\u001b[43m.\u001b[49m\u001b[43mpath\u001b[49m\u001b[43m.\u001b[49m\u001b[43mjoin\u001b[49m\u001b[43m(\u001b[49m\u001b[33;43m\"\u001b[39;49m\u001b[33;43mdata\u001b[39;49m\u001b[33;43m\"\u001b[39;49m\u001b[43m,\u001b[49m\u001b[43m \u001b[49m\u001b[33;43m\"\u001b[39;49m\u001b[33;43mtrain\u001b[39;49m\u001b[33;43m\"\u001b[39;49m\u001b[43m,\u001b[49m\u001b[43m \u001b[49m\u001b[33;43m\"\u001b[39;49m\u001b[33;43maudio\u001b[39;49m\u001b[33;43m\"\u001b[39;49m\u001b[43m)\u001b[49m\u001b[43m,\u001b[49m\u001b[43m \u001b[49m\u001b[43mtransform\u001b[49m\u001b[43m=\u001b[49m\u001b[38;5;28;43;01mNone\u001b[39;49;00m\u001b[43m)\u001b[49m\n\u001b[32m      4\u001b[39m \u001b[38;5;28mprint\u001b[39m(\u001b[33m\"\u001b[39m\u001b[33mLiczba przykładów w dataset:\u001b[39m\u001b[33m\"\u001b[39m, \u001b[38;5;28mlen\u001b[39m(dataset))\n\u001b[32m      6\u001b[39m waveform, label = dataset[\u001b[32m2000\u001b[39m]\n",
      "\u001b[36mCell\u001b[39m\u001b[36m \u001b[39m\u001b[32mIn[2]\u001b[39m\u001b[32m, line 19\u001b[39m, in \u001b[36mAudioDataset.__init__\u001b[39m\u001b[34m(self, root_dir, transform)\u001b[39m\n\u001b[32m     16\u001b[39m \u001b[38;5;66;03m# Allowed test classes from train (silence is not expected in train)\u001b[39;00m\n\u001b[32m     17\u001b[39m allowed = {\u001b[33m\"\u001b[39m\u001b[33myes\u001b[39m\u001b[33m\"\u001b[39m, \u001b[33m\"\u001b[39m\u001b[33mno\u001b[39m\u001b[33m\"\u001b[39m, \u001b[33m\"\u001b[39m\u001b[33mup\u001b[39m\u001b[33m\"\u001b[39m, \u001b[33m\"\u001b[39m\u001b[33mdown\u001b[39m\u001b[33m\"\u001b[39m, \u001b[33m\"\u001b[39m\u001b[33mleft\u001b[39m\u001b[33m\"\u001b[39m, \u001b[33m\"\u001b[39m\u001b[33mright\u001b[39m\u001b[33m\"\u001b[39m, \u001b[33m\"\u001b[39m\u001b[33mon\u001b[39m\u001b[33m\"\u001b[39m, \u001b[33m\"\u001b[39m\u001b[33moff\u001b[39m\u001b[33m\"\u001b[39m, \u001b[33m\"\u001b[39m\u001b[33mstop\u001b[39m\u001b[33m\"\u001b[39m, \u001b[33m\"\u001b[39m\u001b[33mgo\u001b[39m\u001b[33m\"\u001b[39m}\n\u001b[32m---> \u001b[39m\u001b[32m19\u001b[39m subdirs = [d \u001b[38;5;28;01mfor\u001b[39;00m d \u001b[38;5;129;01min\u001b[39;00m \u001b[43mos\u001b[49m\u001b[43m.\u001b[49m\u001b[43mlistdir\u001b[49m\u001b[43m(\u001b[49m\u001b[43mroot_dir\u001b[49m\u001b[43m)\u001b[49m \u001b[38;5;28;01mif\u001b[39;00m os.path.isdir(os.path.join(root_dir, d))]\n\u001b[32m     21\u001b[39m \u001b[38;5;28;01mif\u001b[39;00m subdirs:\n\u001b[32m     22\u001b[39m     \u001b[38;5;66;03m# Find allowed labels that appear in the training folders.\u001b[39;00m\n\u001b[32m     23\u001b[39m     allowed_in_train = \u001b[38;5;28msorted\u001b[39m([d \u001b[38;5;28;01mfor\u001b[39;00m d \u001b[38;5;129;01min\u001b[39;00m subdirs \u001b[38;5;28;01mif\u001b[39;00m d \u001b[38;5;129;01min\u001b[39;00m allowed])\n",
      "\u001b[31mFileNotFoundError\u001b[39m: [Errno 2] No such file or directory: 'data/train/audio'"
     ]
    }
   ],
   "source": [
    "# Test usage of AudioDataset\n",
    "dataset = AudioDataset(root_dir=os.path.join(\"..\", \"data\", \"train\", \"audio\"), transform=None)\n",
    "\n",
    "print(\"Liczba przykładów w dataset:\", len(dataset))\n",
    "\n",
    "waveform, label = dataset[2000]\n",
    "print(\"Kształt waveforma:\", waveform.shape)  # [1, no. of samples]\n",
    "print(\"Etykieta (indeks):\", label)\n",
    "print(\"Etykieta (nazwisko):\", dataset.idx2label[label])\n",
    "\n",
    "plt.figure(figsize=(10, 3))\n",
    "plt.title(f\"Waveform - klasa: {dataset.idx2label[label]}\")\n",
    "plt.plot(waveform.t().numpy())\n",
    "plt.show()\n"
   ]
  },
  {
   "cell_type": "markdown",
   "metadata": {},
   "source": [
    "# Spektogram"
   ]
  },
  {
   "cell_type": "code",
   "execution_count": 6,
   "metadata": {},
   "outputs": [],
   "source": [
    "mel_transform = torchaudio.transforms.MelSpectrogram(\n",
    "    sample_rate=16000, \n",
    "    n_mels=64\n",
    ")\n",
    "db_transform = torchaudio.transforms.AmplitudeToDB()\n",
    "\n",
    "def to_mel_spectrogram(waveform):\n",
    "    spec = mel_transform(waveform)\n",
    "    spec_db = db_transform(spec)\n",
    "    return spec_db\n"
   ]
  },
  {
   "cell_type": "code",
   "execution_count": 7,
   "metadata": {},
   "outputs": [
    {
     "name": "stdout",
     "output_type": "stream",
     "text": [
      "Kształt spektrogramu (Mel, dB): torch.Size([1, 64, 81])\n"
     ]
    },
    {
     "data": {
      "image/png": "[encoded data removed]",
      "text/plain": [
       "<Figure size 800x600 with 2 Axes>"
      ]
     },
     "metadata": {},
     "output_type": "display_data"
    }
   ],
   "source": [
    "waveform, label = dataset[0]\n",
    "waveform = waveform.float()  # conversion to float32\n",
    "spec_db = to_mel_spectrogram(waveform)\n",
    "\n",
    "print(\"Kształt spektrogramu (Mel, dB):\", spec_db.shape)  # [1, n_mels, time]\n",
    "\n",
    "plt.figure(figsize=(8, 6))\n",
    "plt.title(f\"Mel Spectrogram (dB) - {dataset.idx2label[label]}\")\n",
    "plt.imshow(spec_db.squeeze().numpy(), origin=\"lower\", aspect=\"auto\", cmap=\"viridis\")\n",
    "plt.colorbar()\n",
    "plt.show()\n"
   ]
  },
  {
   "cell_type": "markdown",
   "metadata": {},
   "source": [
    "# Zaladowanie danych treningowych"
   ]
  },
  {
   "cell_type": "code",
   "execution_count": 8,
   "metadata": {},
   "outputs": [
    {
     "name": "stdout",
     "output_type": "stream",
     "text": [
      "Kształt X (spektrogramu): torch.Size([1, 64, 81])\n",
      "Etykieta: 4 off\n"
     ]
    }
   ],
   "source": [
    "dataset_spec = AudioDataset(root_dir=os.path.join(\"data\", \"train\", \"audio\"), transform=to_mel_spectrogram)\n",
    "\n",
    "# Checking of shape\n",
    "x, y = dataset_spec[0]\n",
    "print(\"Kształt X (spektrogramu):\", x.shape)  # [1, n_mels, time]\n",
    "print(\"Etykieta:\", y, dataset_spec.idx2label[y])\n"
   ]
  },
  {
   "cell_type": "markdown",
   "metadata": {},
   "source": [
    "## Podział na zbiór treningowy i walidacyjny"
   ]
  },
  {
   "cell_type": "code",
   "execution_count": 9,
   "metadata": {},
   "outputs": [
    {
     "name": "stdout",
     "output_type": "stream",
     "text": [
      "Liczba próbek w train_loader: 53701\n",
      "Liczba próbek w val_loader: 13426\n"
     ]
    }
   ],
   "source": [
    "train_size = int(0.8 * len(dataset_spec))\n",
    "val_size = len(dataset_spec) - train_size\n",
    "\n",
    "train_dataset, val_dataset = random_split(dataset_spec, [train_size, val_size])\n",
    "\n",
    "batch_size = 16\n",
    "train_loader = DataLoader(train_dataset, batch_size=batch_size, shuffle=True, collate_fn=pad_collate_fn)\n",
    "val_loader = DataLoader(val_dataset, batch_size=batch_size, shuffle=False, collate_fn=pad_collate_fn)\n",
    "\n",
    "print(\"Liczba próbek w train_loader:\", len(train_dataset))\n",
    "print(\"Liczba próbek w val_loader:\", len(val_dataset))\n"
   ]
  },
  {
   "cell_type": "markdown",
   "metadata": {},
   "source": [
    "## Accuracy dla przypisania najliczniej reprezentowanej klasy"
   ]
  },
  {
   "cell_type": "code",
   "execution_count": 10,
   "metadata": {},
   "outputs": [
    {
     "name": "stdout",
     "output_type": "stream",
     "text": [
      "Najczęstsza klasa: unknown\n",
      "Baseline accuracy (majority class): 64.72%\n"
     ]
    }
   ],
   "source": [
    "all_labels = [dataset_spec[i][1] for i in range(len(dataset_spec))]\n",
    "most_common_label = max(set(all_labels), key=all_labels.count)\n",
    "baseline_acc = all_labels.count(most_common_label) / len(all_labels) * 100\n",
    "\n",
    "print(f\"Najczęstsza klasa: {dataset_spec.idx2label[most_common_label]}\")\n",
    "print(f\"Baseline accuracy (majority class): {baseline_acc:.2f}%\")\n"
   ]
  },
  {
   "cell_type": "markdown",
   "metadata": {},
   "source": [
    "# CNN"
   ]
  },
  {
   "cell_type": "code",
   "execution_count": 12,
   "metadata": {},
   "outputs": [],
   "source": [
    "class SimpleCNN(nn.Module):\n",
    "    def __init__(self, num_classes):\n",
    "        super(SimpleCNN, self).__init__()\n",
    "        # Input: [batch, 1, n_mels, time]\n",
    "\n",
    "        self.conv1 = nn.Conv2d(1, 8, kernel_size=3, stride=1, padding=1)\n",
    "        self.conv2 = nn.Conv2d(8, 16, kernel_size=3, stride=1, padding=1)\n",
    "        \n",
    "        self.pool = nn.AdaptiveMaxPool2d((8, 8))  # -> [batch, 16, 8, 8]\n",
    "\n",
    "        self.fc1 = nn.Linear(16 * 8 * 8, 64)\n",
    "        self.fc2 = nn.Linear(64, num_classes)\n",
    "\n",
    "    def forward(self, x):\n",
    "        # x: [batch, 1, n_mels, time]\n",
    "        x = F.relu(self.conv1(x))    # -> [batch, 8, n_mels, time]\n",
    "        x = F.relu(self.conv2(x))    # -> [batch, 16, n_mels, time]\n",
    "        x = self.pool(x)            # -> [batch, 16, 8, 8]\n",
    "        x = x.view(x.size(0), -1)   # flattening to [batch, 16*8*8]\n",
    "        x = F.relu(self.fc1(x))     # -> [batch, 64]\n",
    "        x = self.fc2(x)             # -> [batch, num_classes]\n",
    "        return x\n"
   ]
  },
  {
   "cell_type": "code",
   "execution_count": 13,
   "metadata": {},
   "outputs": [
    {
     "name": "stdout",
     "output_type": "stream",
     "text": [
      "Urządzenie: cpu\n"
     ]
    }
   ],
   "source": [
    "device = torch.device(\"cuda\" if torch.cuda.is_available() else \"cpu\")\n",
    "print(\"Urządzenie:\", device)"
   ]
  },
  {
   "cell_type": "markdown",
   "metadata": {},
   "source": [
    "## Trening CNN"
   ]
  },
  {
   "cell_type": "code",
   "execution_count": 14,
   "metadata": {},
   "outputs": [
    {
     "name": "stdout",
     "output_type": "stream",
     "text": [
      "[Epoch 1/2] Loss: 0.8470\n",
      "[Epoch 2/2] Loss: 0.5036\n"
     ]
    }
   ],
   "source": [
    "num_classes = len(dataset_spec.label2idx)\n",
    "model = SimpleCNN(num_classes).to(device)\n",
    "\n",
    "criterion = nn.CrossEntropyLoss()\n",
    "optimizer = optim.Adam(model.parameters(), lr=0.001)\n",
    "\n",
    "num_epochs = 2  \n",
    "\n",
    "for epoch in range(num_epochs):\n",
    "    model.train()\n",
    "    running_loss = 0.0\n",
    "\n",
    "    for i, (inputs, labels) in enumerate(train_loader):\n",
    "        # inputs: [batch_size, 1, n_mels, time]\n",
    "        # labels: [batch_size]\n",
    "        inputs = inputs.to(device)\n",
    "        labels = labels.to(device)\n",
    "\n",
    "        \n",
    "        optimizer.zero_grad()\n",
    "\n",
    "        # Forward\n",
    "        outputs = model(inputs)\n",
    "        loss = criterion(outputs, labels)\n",
    "\n",
    "        # Backward + opt\n",
    "        loss.backward()\n",
    "        optimizer.step()\n",
    "\n",
    "        running_loss += loss.item()\n",
    "\n",
    "    # Average loss per epoch\n",
    "    epoch_loss = running_loss / len(train_loader)\n",
    "    print(f\"[Epoch {epoch+1}/{num_epochs}] Loss: {epoch_loss:.4f}\")\n"
   ]
  },
  {
   "cell_type": "markdown",
   "metadata": {},
   "source": [
    "# Walidacja"
   ]
  },
  {
   "cell_type": "code",
   "execution_count": 15,
   "metadata": {},
   "outputs": [
    {
     "name": "stdout",
     "output_type": "stream",
     "text": [
      "Val Accuracy: 83.41%\n",
      "\n"
     ]
    }
   ],
   "source": [
    "# Validation\n",
    "model.eval()\n",
    "correct = 0\n",
    "total = 0\n",
    "with torch.no_grad():\n",
    "    for inputs_val, labels_val in val_loader:\n",
    "        inputs_val = inputs_val.to(device)\n",
    "        labels_val = labels_val.to(device)\n",
    "\n",
    "        outputs_val = model(inputs_val)\n",
    "        _, predicted = torch.max(outputs_val, 1)\n",
    "        total += labels_val.size(0)\n",
    "        correct += (predicted == labels_val).sum().item()\n",
    "\n",
    "val_acc = 100.0 * correct / total\n",
    "print(f\"Val Accuracy: {val_acc:.2f}%\\n\")"
   ]
  },
  {
   "cell_type": "markdown",
   "metadata": {},
   "source": [
    "# Testy"
   ]
  },
  {
   "cell_type": "markdown",
   "metadata": {},
   "source": [
    "1. Activation fuction (ReLU vs Sigmoid)"
   ]
  },
  {
   "cell_type": "code",
   "execution_count": null,
   "metadata": {},
   "outputs": [],
   "source": [
    "def test_activation_function():\n",
    "    relu_model = SimpleCNN(num_classes=10)\n",
    "    sigmoid_model = SimpleCNN(num_classes=10)\n",
    "\n",
    "    relu_model.conv1 = nn.Sequential(nn.Conv2d(1, 8, 3, 1, 1), nn.ReLU())\n",
    "    sigmoid_model.conv1 = nn.Sequential(nn.Conv2d(1, 8, 3, 1, 1), nn.Sigmoid())\n",
    "\n",
    "    dummy_input = torch.randn(2, 1, 64, 100)  # [batch, channels, n_mels, time]\n",
    "    relu_out = relu_model(dummy_input)\n",
    "    sigmoid_out = sigmoid_model(dummy_input)\n",
    "\n",
    "    assert relu_out.shape == sigmoid_out.shape == (2, 10)"
   ]
  },
  {
   "cell_type": "markdown",
   "metadata": {},
   "source": [
    "2. Pooling"
   ]
  },
  {
   "cell_type": "code",
   "execution_count": null,
   "metadata": {},
   "outputs": [],
   "source": [
    "def test_pooling_variants():\n",
    "    input_tensor = torch.randn(4, 8, 32, 32)\n",
    "\n",
    "    max_pool = nn.AdaptiveMaxPool2d((8, 8))(input_tensor)\n",
    "    avg_pool = nn.AdaptiveAvgPool2d((8, 8))(input_tensor)\n",
    "    global_pool = nn.AdaptiveMaxPool2d((1, 1))(input_tensor)\n",
    "\n",
    "    assert max_pool.shape == avg_pool.shape == (4, 8, 8, 8)\n",
    "    assert global_pool.shape == (4, 8, 1, 1)"
   ]
  }
 ],
 "metadata": {
  "kernelspec": {
   "display_name": ".venv",
   "language": "python",
   "name": "python3"
  },
  "language_info": {
   "codemirror_mode": {
    "name": "ipython",
    "version": 3
   },
   "file_extension": ".py",
   "mimetype": "text/x-python",
   "name": "python",
   "nbconvert_exporter": "python",
   "pygments_lexer": "ipython3",
   "version": "3.13.3"
  }
 },
 "nbformat": 4,
 "nbformat_minor": 2
}
