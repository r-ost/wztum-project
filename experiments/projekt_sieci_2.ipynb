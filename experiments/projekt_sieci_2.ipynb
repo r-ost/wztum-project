{
 "cells": [
  {
   "cell_type": "code",
   "execution_count": 1,
   "metadata": {},
   "outputs": [],
   "source": [
    "import os\n",
    "import torch\n",
    "import torchaudio\n",
    "import matplotlib.pyplot as plt\n",
    "import time\n",
    "import wandb\n",
    "\n",
    "from torch.utils.data import Dataset, DataLoader, random_split\n",
    "import torch.nn as nn\n",
    "import torch.nn.functional as F\n",
    "import torch.optim as optim\n",
    "import soundfile as sf\n",
    "import torchaudio.transforms as T\n",
    "\n",
    "from sklearn.metrics import f1_score"
   ]
  },
  {
   "cell_type": "code",
   "execution_count": null,
   "metadata": {},
   "outputs": [
    {
     "name": "stderr",
     "output_type": "stream",
     "text": [
      "\u001b[34m\u001b[1mwandb\u001b[0m: \u001b[33mWARNING\u001b[0m If you're specifying your api key in code, ensure this code is not shared publicly.\n",
      "\u001b[34m\u001b[1mwandb\u001b[0m: \u001b[33mWARNING\u001b[0m Consider setting the WANDB_API_KEY environment variable, or running `wandb login` from the command line.\n",
      "\u001b[34m\u001b[1mwandb\u001b[0m: Appending key for api.wandb.ai to your netrc file: C:\\Users\\maksy\\_netrc\n",
      "\u001b[34m\u001b[1mwandb\u001b[0m: Currently logged in as: \u001b[33mmaksymiuk-radoslaw\u001b[0m (\u001b[33mmaksymiuk-radoslaw-politechnika-warszawska\u001b[0m) to \u001b[32mhttps://api.wandb.ai\u001b[0m. Use \u001b[1m`wandb login --relogin`\u001b[0m to force relogin\n"
     ]
    }
   ],
   "source": [
    "wandb.login(key=\"put you wandb api key here\")\n",
    "\n",
    "class WandbExperimentManager:\n",
    "    def __init__(self):\n",
    "        self.entity = \"maksymiuk-radoslaw-politechnika-warszawska\"\n",
    "        self.project = \"wztum-2025L-project\"\n",
    "    \n",
    "    def start_run(self, name, config):\n",
    "        return wandb.init(\n",
    "            entity=self.entity,\n",
    "            project=self.project,\n",
    "            name=name,\n",
    "            config=config,\n",
    "            reinit=True  \n",
    "        )\n",
    "    \n",
    "    def finish(self):\n",
    "        wandb.finish()\n",
    "\n",
    "wandb_experiment_manager = WandbExperimentManager()"
   ]
  },
  {
   "cell_type": "markdown",
   "metadata": {},
   "source": [
    "# Wczytywanie plików audio"
   ]
  },
  {
   "cell_type": "code",
   "execution_count": 3,
   "metadata": {},
   "outputs": [],
   "source": [
    "class AudioDataset(Dataset):\n",
    "    def __init__(self, root_dir, transform=None):\n",
    "        \"\"\"\n",
    "        If root_dir contains subfolders, each is treated as a label.\n",
    "        Otherwise, root_dir is assumed to be a single class.\n",
    "        Labels are remapped so that only allowed test classes are kept;\n",
    "        all other labels are mapped to \"unknown\".\n",
    "        \"\"\"\n",
    "        self.root_dir = root_dir\n",
    "        self.transform = transform\n",
    "        self.filepaths = []\n",
    "        self.labels = []\n",
    "        self.label2idx = {}\n",
    "        self.idx2label = {}\n",
    "\n",
    "        # Allowed test classes from train (silence is not expected in train)\n",
    "        allowed = {\"yes\", \"no\", \"up\", \"down\", \"left\", \"right\", \"on\", \"off\", \"stop\", \"go\"}\n",
    "        \n",
    "        subdirs = [d for d in os.listdir(root_dir) if os.path.isdir(os.path.join(root_dir, d))]\n",
    "        \n",
    "        if subdirs:\n",
    "            # Find allowed labels that appear in the training folders.\n",
    "            allowed_in_train = sorted([d for d in subdirs if d in allowed])\n",
    "            # If any subfolder is not in allowed, we will assign it the label \"unknown\"\n",
    "            has_unknown = any(d not in allowed for d in subdirs)\n",
    "            \n",
    "            # Create label-to-index mapping:\n",
    "            current_idx = 0\n",
    "            for label in allowed_in_train:\n",
    "                self.label2idx[label] = current_idx\n",
    "                self.idx2label[current_idx] = label\n",
    "                current_idx += 1\n",
    "            if has_unknown:\n",
    "                self.label2idx[\"unknown\"] = current_idx\n",
    "                self.idx2label[current_idx] = \"unknown\"\n",
    "            \n",
    "            # Read files and map labels accordingly.\n",
    "            for label in subdirs:\n",
    "                label_path = os.path.join(root_dir, label)\n",
    "                for f in os.listdir(label_path):\n",
    "                    if f.endswith(\".wav\"):\n",
    "                        filepath = os.path.join(label_path, f)\n",
    "                        # If label is allowed, keep it; otherwise, use \"unknown\"\n",
    "                        mapped_label = label if label in allowed else \"unknown\"\n",
    "                        self.filepaths.append(filepath)\n",
    "                        self.labels.append(self.label2idx[mapped_label])\n",
    "        else:\n",
    "            # No subdirectories – root_dir is treated as one class.\n",
    "            label = os.path.basename(root_dir)\n",
    "            mapped_label = label if label in allowed else \"unknown\"\n",
    "            self.label2idx[mapped_label] = 0\n",
    "            self.idx2label[0] = mapped_label\n",
    "            for f in os.listdir(root_dir):\n",
    "                if f.endswith(\".wav\"):\n",
    "                    self.filepaths.append(os.path.join(root_dir, f))\n",
    "                    self.labels.append(0)\n",
    "\n",
    "    def __len__(self):\n",
    "        return len(self.filepaths)\n",
    "\n",
    "    def __getitem__(self, idx):\n",
    "        filepath = self.filepaths[idx]\n",
    "        label = self.labels[idx]\n",
    "    \n",
    "        # Load audio using soundfile\n",
    "        data, sample_rate = sf.read(filepath)\n",
    "        waveform = torch.tensor(data, dtype=torch.float32).unsqueeze(0)  # Add channel dimension\n",
    "     \n",
    "        if self.transform:\n",
    "            waveform = self.transform(waveform)\n",
    "    \n",
    "        return waveform, label\n",
    "\n",
    "# Transformation: MelSpectrogram + AmplitudeToDB\n",
    "mel_transform = T.MelSpectrogram(sample_rate=16000, n_mels=64)\n",
    "db_transform = T.AmplitudeToDB()\n",
    "\n",
    "def to_mel_spectrogram(waveform):\n",
    "    waveform = waveform.float() \n",
    "    spec = mel_transform(waveform)\n",
    "    spec_db = db_transform(spec)\n",
    "    return spec_db  # shape: [1, n_mels, time]\n",
    "\n",
    "# Function collate, which pads spectrograms of different time lengths\n",
    "def pad_collate_fn(batch):\n",
    "    \"\"\"\n",
    "    batch: list of tuples (spectrogram, label)\n",
    "    We assume each spectrogram has shape [1, n_mels, time]\n",
    "    \"\"\"\n",
    "    spectrograms, labels = zip(*batch)\n",
    "    \n",
    "    max_time = max(s.size(2) for s in spectrograms)\n",
    "    \n",
    "    padded_spectrograms = []\n",
    "    for s in spectrograms:\n",
    "        pad_amount = max_time - s.size(2)\n",
    "        s_padded = F.pad(s, (0, pad_amount), mode='constant', value=0)\n",
    "        padded_spectrograms.append(s_padded)\n",
    "    \n",
    "    batch_spectrograms = torch.stack(padded_spectrograms)\n",
    "    batch_labels = torch.tensor(labels)\n",
    "    return batch_spectrograms, batch_labels"
   ]
  },
  {
   "cell_type": "markdown",
   "metadata": {},
   "source": [
    "# EDA"
   ]
  },
  {
   "cell_type": "code",
   "execution_count": 4,
   "metadata": {},
   "outputs": [
    {
     "name": "stdout",
     "output_type": "stream",
     "text": [
      "Liczba przykładów w dataset: 64727\n",
      "Kształt waveforma: torch.Size([1, 16000])\n",
      "Etykieta (indeks): 10\n",
      "Etykieta (nazwisko): unknown\n"
     ]
    },
    {
     "data": {
      "image/png": "[encoded data removed]",
      "text/plain": [
       "<Figure size 1000x300 with 1 Axes>"
      ]
     },
     "metadata": {},
     "output_type": "display_data"
    }
   ],
   "source": [
    "# Test usage of AudioDataset\n",
    "dataset = AudioDataset(root_dir=os.path.join(\"..\", \"data\", \"train\", \"audio\"), transform=None)\n",
    "\n",
    "print(\"Liczba przykładów w dataset:\", len(dataset))\n",
    "\n",
    "waveform, label = dataset[2000]\n",
    "print(\"Kształt waveforma:\", waveform.shape)  # [1, no. of samples]\n",
    "print(\"Etykieta (indeks):\", label)\n",
    "print(\"Etykieta (nazwisko):\", dataset.idx2label[label])\n",
    "\n",
    "plt.figure(figsize=(10, 3))\n",
    "plt.title(f\"Waveform - klasa: {dataset.idx2label[label]}\")\n",
    "plt.plot(waveform.t().numpy())\n",
    "plt.show()\n"
   ]
  },
  {
   "cell_type": "markdown",
   "metadata": {},
   "source": [
    "# Spektogram"
   ]
  },
  {
   "cell_type": "code",
   "execution_count": 5,
   "metadata": {},
   "outputs": [],
   "source": [
    "mel_transform = torchaudio.transforms.MelSpectrogram(\n",
    "    sample_rate=16000, \n",
    "    n_mels=64\n",
    ")\n",
    "db_transform = torchaudio.transforms.AmplitudeToDB()\n",
    "\n",
    "def to_mel_spectrogram(waveform):\n",
    "    spec = mel_transform(waveform)\n",
    "    spec_db = db_transform(spec)\n",
    "    return spec_db\n"
   ]
  },
  {
   "cell_type": "code",
   "execution_count": 6,
   "metadata": {},
   "outputs": [
    {
     "name": "stdout",
     "output_type": "stream",
     "text": [
      "Kształt spektrogramu (Mel, dB): torch.Size([1, 64, 81])\n"
     ]
    },
    {
     "data": {
      "image/png": "[encoded data removed]",
      "text/plain": [
       "<Figure size 800x600 with 2 Axes>"
      ]
     },
     "metadata": {},
     "output_type": "display_data"
    }
   ],
   "source": [
    "waveform, label = dataset[0]\n",
    "waveform = waveform.float()  # conversion to float32\n",
    "spec_db = to_mel_spectrogram(waveform)\n",
    "\n",
    "print(\"Kształt spektrogramu (Mel, dB):\", spec_db.shape)  # [1, n_mels, time]\n",
    "\n",
    "plt.figure(figsize=(8, 6))\n",
    "plt.title(f\"Mel Spectrogram (dB) - {dataset.idx2label[label]}\")\n",
    "plt.imshow(spec_db.squeeze().numpy(), origin=\"lower\", aspect=\"auto\", cmap=\"viridis\")\n",
    "plt.colorbar()\n",
    "plt.show()\n"
   ]
  },
  {
   "cell_type": "markdown",
   "metadata": {},
   "source": [
    "# Zaladowanie danych treningowych"
   ]
  },
  {
   "cell_type": "code",
   "execution_count": 7,
   "metadata": {},
   "outputs": [
    {
     "name": "stdout",
     "output_type": "stream",
     "text": [
      "Kształt X (spektrogramu): torch.Size([1, 64, 81])\n",
      "Etykieta: 10 unknown\n"
     ]
    }
   ],
   "source": [
    "dataset_spec = AudioDataset(root_dir=os.path.join(\"..\", \"data\", \"train\", \"audio\"), transform=to_mel_spectrogram)\n",
    "\n",
    "# Checking of shape\n",
    "x, y = dataset_spec[0]\n",
    "print(\"Kształt X (spektrogramu):\", x.shape)  # [1, n_mels, time]\n",
    "print(\"Etykieta:\", y, dataset_spec.idx2label[y])\n"
   ]
  },
  {
   "cell_type": "markdown",
   "metadata": {},
   "source": [
    "## Podział na zbiór treningowy i walidacyjny"
   ]
  },
  {
   "cell_type": "code",
   "execution_count": 8,
   "metadata": {},
   "outputs": [
    {
     "name": "stdout",
     "output_type": "stream",
     "text": [
      "Liczba próbek w train_loader: 51781\n",
      "Liczba próbek w val_loader: 12946\n"
     ]
    }
   ],
   "source": [
    "train_size = int(0.8 * len(dataset_spec))\n",
    "val_size = len(dataset_spec) - train_size\n",
    "\n",
    "train_dataset, val_dataset = random_split(dataset_spec, [train_size, val_size])\n",
    "\n",
    "batch_size = 16\n",
    "train_loader = DataLoader(train_dataset, batch_size=batch_size, shuffle=True, collate_fn=pad_collate_fn)\n",
    "val_loader = DataLoader(val_dataset, batch_size=batch_size, shuffle=False, collate_fn=pad_collate_fn)\n",
    "\n",
    "print(\"Liczba próbek w train_loader:\", len(train_dataset))\n",
    "print(\"Liczba próbek w val_loader:\", len(val_dataset))\n"
   ]
  },
  {
   "cell_type": "markdown",
   "metadata": {},
   "source": [
    "## Accuracy dla przypisania najliczniej reprezentowanej klasy"
   ]
  },
  {
   "cell_type": "code",
   "execution_count": 9,
   "metadata": {},
   "outputs": [
    {
     "name": "stdout",
     "output_type": "stream",
     "text": [
      "Najczęstsza klasa: unknown\n",
      "Baseline accuracy (majority class): 63.41%\n"
     ]
    }
   ],
   "source": [
    "all_labels = [dataset_spec[i][1] for i in range(len(dataset_spec))]\n",
    "most_common_label = max(set(all_labels), key=all_labels.count)\n",
    "baseline_acc = all_labels.count(most_common_label) / len(all_labels) * 100\n",
    "\n",
    "print(f\"Najczęstsza klasa: {dataset_spec.idx2label[most_common_label]}\")\n",
    "print(f\"Baseline accuracy (majority class): {baseline_acc:.2f}%\")\n"
   ]
  },
  {
   "cell_type": "markdown",
   "metadata": {},
   "source": [
    "# CNN"
   ]
  },
  {
   "cell_type": "code",
   "execution_count": 10,
   "metadata": {},
   "outputs": [],
   "source": [
    "class SimpleCNN(nn.Module):\n",
    "    def __init__(self, num_classes):\n",
    "        super(SimpleCNN, self).__init__()\n",
    "        # Input: [batch, 1, n_mels, time]\n",
    "\n",
    "        self.conv1 = nn.Conv2d(1, 8, kernel_size=3, stride=1, padding=1)\n",
    "        self.conv2 = nn.Conv2d(8, 16, kernel_size=3, stride=1, padding=1)\n",
    "        \n",
    "        self.pool = nn.AdaptiveMaxPool2d((8, 8))  # -> [batch, 16, 8, 8]\n",
    "\n",
    "        self.fc1 = nn.Linear(16 * 8 * 8, 64)\n",
    "        self.fc2 = nn.Linear(64, num_classes)\n",
    "\n",
    "    def forward(self, x):\n",
    "        # x: [batch, 1, n_mels, time]\n",
    "        x = F.relu(self.conv1(x))    # -> [batch, 8, n_mels, time]\n",
    "        x = F.relu(self.conv2(x))    # -> [batch, 16, n_mels, time]\n",
    "        x = self.pool(x)            # -> [batch, 16, 8, 8]\n",
    "        x = x.view(x.size(0), -1)   # flattening to [batch, 16*8*8]\n",
    "        x = F.relu(self.fc1(x))     # -> [batch, 64]\n",
    "        x = self.fc2(x)             # -> [batch, num_classes]\n",
    "        return x\n"
   ]
  },
  {
   "cell_type": "code",
   "execution_count": 11,
   "metadata": {},
   "outputs": [
    {
     "name": "stdout",
     "output_type": "stream",
     "text": [
      "Urządzenie: cpu\n"
     ]
    }
   ],
   "source": [
    "device = torch.device(\"cuda\" if torch.cuda.is_available() else \"cpu\")\n",
    "print(\"Urządzenie:\", device)"
   ]
  },
  {
   "cell_type": "markdown",
   "metadata": {},
   "source": [
    "## Trening CNN"
   ]
  },
  {
   "cell_type": "code",
   "execution_count": null,
   "metadata": {},
   "outputs": [
    {
     "name": "stdout",
     "output_type": "stream",
     "text": [
      "[Epoch 1/2] Loss: 0.8881\n"
     ]
    }
   ],
   "source": [
    "num_classes = len(dataset_spec.label2idx)\n",
    "model = SimpleCNN(num_classes).to(device)\n",
    "\n",
    "criterion = nn.CrossEntropyLoss()\n",
    "optimizer = optim.Adam(model.parameters(), lr=0.001)\n",
    "\n",
    "num_epochs = 2  \n",
    "\n",
    "for epoch in range(num_epochs):\n",
    "    model.train()\n",
    "    running_loss = 0.0\n",
    "\n",
    "    for i, (inputs, labels) in enumerate(train_loader):\n",
    "        # inputs: [batch_size, 1, n_mels, time]\n",
    "        # labels: [batch_size]\n",
    "        inputs = inputs.to(device)\n",
    "        labels = labels.to(device)\n",
    "\n",
    "        \n",
    "        optimizer.zero_grad()\n",
    "\n",
    "        # Forward\n",
    "        outputs = model(inputs)\n",
    "        loss = criterion(outputs, labels)\n",
    "\n",
    "        # Backward + opt\n",
    "        loss.backward()\n",
    "        optimizer.step()\n",
    "\n",
    "        running_loss += loss.item()\n",
    "\n",
    "    # Average loss per epoch\n",
    "    epoch_loss = running_loss / len(train_loader)\n",
    "    print(f\"[Epoch {epoch+1}/{num_epochs}] Loss: {epoch_loss:.4f}\")\n"
   ]
  },
  {
   "cell_type": "markdown",
   "metadata": {},
   "source": [
    "# Walidacja"
   ]
  },
  {
   "cell_type": "code",
   "execution_count": null,
   "metadata": {},
   "outputs": [
    {
     "name": "stdout",
     "output_type": "stream",
     "text": [
      "Val Accuracy: 84.00%\n",
      "\n"
     ]
    }
   ],
   "source": [
    "# Validation\n",
    "model.eval()\n",
    "correct = 0\n",
    "total = 0\n",
    "with torch.no_grad():\n",
    "    for inputs_val, labels_val in val_loader:\n",
    "        inputs_val = inputs_val.to(device)\n",
    "        labels_val = labels_val.to(device)\n",
    "\n",
    "        outputs_val = model(inputs_val)\n",
    "        _, predicted = torch.max(outputs_val, 1)\n",
    "        total += labels_val.size(0)\n",
    "        correct += (predicted == labels_val).sum().item()\n",
    "\n",
    "val_acc = 100.0 * correct / total\n",
    "print(f\"Val Accuracy: {val_acc:.2f}%\\n\")"
   ]
  },
  {
   "cell_type": "markdown",
   "metadata": {},
   "source": [
    "# Testy"
   ]
  },
  {
   "cell_type": "markdown",
   "metadata": {},
   "source": [
    "0. Validation setup"
   ]
  },
  {
   "cell_type": "code",
   "execution_count": null,
   "metadata": {},
   "outputs": [],
   "source": [
    "def train_and_evaluate(model, train_loader, val_loader, optimizer, scheduler=None, num_epochs=2,\n",
    "                       experiment_name=None, config=None):\n",
    "    model.to(device)\n",
    "    criterion = nn.CrossEntropyLoss()\n",
    "\n",
    "    if experiment_name and config:\n",
    "        runWANDB = wandb_experiment_manager.start_run(experiment_name, config)\n",
    "\n",
    "    start_time = time.time()\n",
    "\n",
    "    for epoch in range(num_epochs):\n",
    "        model.train()\n",
    "        running_loss = 0.0\n",
    "\n",
    "        for inputs, labels in train_loader:\n",
    "            inputs = inputs.to(device)\n",
    "            labels = labels.to(device)\n",
    "\n",
    "            optimizer.zero_grad()\n",
    "            outputs = model(inputs)\n",
    "            loss = criterion(outputs, labels)\n",
    "            loss.backward()\n",
    "            optimizer.step()\n",
    "\n",
    "            running_loss += loss.item()\n",
    "\n",
    "        avg_train_loss = running_loss / len(train_loader)\n",
    "\n",
    "        # Validation phase\n",
    "        model.eval()\n",
    "        correct = 0\n",
    "        total = 0\n",
    "        val_loss = 0.0\n",
    "\n",
    "        # For F1 score\n",
    "        all_preds = []\n",
    "        all_labels = []\n",
    "\n",
    "        with torch.no_grad():\n",
    "            for inputs_val, labels_val in val_loader:\n",
    "                inputs_val = inputs_val.to(device)\n",
    "                labels_val = labels_val.to(device)\n",
    "\n",
    "                outputs_val = model(inputs_val)\n",
    "                loss_val = criterion(outputs_val, labels_val)\n",
    "                val_loss += loss_val.item()\n",
    "\n",
    "                _, predicted = torch.max(outputs_val, 1)\n",
    "                total += labels_val.size(0)\n",
    "                correct += (predicted == labels_val).sum().item()\n",
    "\n",
    "                all_preds.append(predicted.cpu())\n",
    "                all_labels.append(labels_val.cpu())\n",
    "\n",
    "        all_preds = torch.cat(all_preds).numpy()\n",
    "        all_labels = torch.cat(all_labels).numpy()\n",
    "        f1_micro = 100.0 * f1_score(all_labels, all_preds, average='micro')\n",
    "        f1_macro = 100.0 * f1_score(all_labels, all_preds, average='macro')\n",
    "\n",
    "        avg_val_loss = val_loss / len(val_loader)\n",
    "        val_acc = 100.0 * correct / total\n",
    "\n",
    "        # Learning rate scheduling\n",
    "        if scheduler:\n",
    "            if isinstance(scheduler, torch.optim.lr_scheduler.ReduceLROnPlateau):\n",
    "                scheduler.step(avg_val_loss)\n",
    "            else:\n",
    "                scheduler.step()\n",
    "\n",
    "        if experiment_name and config:\n",
    "            wandb.log({\n",
    "                \"epoch\": epoch + 1,\n",
    "                \"train_loss\": avg_train_loss,\n",
    "                \"val_loss\": avg_val_loss,\n",
    "                \"val_accuracy\": val_acc,\n",
    "                \"f1_micro\": f1_micro,\n",
    "                \"f1_macro\": f1_macro,\n",
    "                \"learning_rate\": optimizer.param_groups[0]['lr']\n",
    "            })\n",
    "\n",
    "        print(f\"Epoch {epoch+1}/{num_epochs} | Train Loss: {avg_train_loss:.4f} | Val Loss: {avg_val_loss:.4f} | Val Acc: {val_acc:.2f}%\")\n",
    "        print(f\"F1 Micro: {f1_micro:.2f}% | F1 Macro: {f1_macro:.2f}%\")\n",
    "\n",
    "    training_time = time.time() - start_time\n",
    "    print(f\"Total training time: {training_time:.2f} seconds\")\n",
    "\n",
    "    if experiment_name and config:\n",
    "        wandb_experiment_manager.finish()\n",
    "\n",
    "    return val_acc"
   ]
  },
  {
   "cell_type": "markdown",
   "metadata": {},
   "source": [
    "1. Learning Rate"
   ]
  },
  {
   "cell_type": "code",
   "execution_count": null,
   "metadata": {},
   "outputs": [
    {
     "name": "stdout",
     "output_type": "stream",
     "text": [
      "Epoch 1/2 | Train Loss: 1.3088 | Val Loss: 1.1691 | Val Acc: 65.16%\n",
      "F1 Micro: 65.16% | F1 Macro: 19.78%\n",
      "Epoch 2/2 | Train Loss: 1.1518 | Val Loss: 1.0848 | Val Acc: 66.67%\n",
      "F1 Micro: 66.67% | F1 Macro: 26.70%\n",
      "Total training time: 62.05 seconds\n",
      "Epoch 1/2 | Train Loss: 0.9409 | Val Loss: 0.6507 | Val Acc: 78.03%\n",
      "F1 Micro: 78.03% | F1 Macro: 60.20%\n",
      "Epoch 2/2 | Train Loss: 0.5633 | Val Loss: 0.5331 | Val Acc: 82.21%\n",
      "F1 Micro: 82.21% | F1 Macro: 69.07%\n",
      "Total training time: 62.10 seconds\n",
      "Epoch 1/2 | Train Loss: 1.1802 | Val Loss: 0.9495 | Val Acc: 70.34%\n",
      "F1 Micro: 70.34% | F1 Macro: 39.55%\n",
      "Epoch 2/2 | Train Loss: 0.8289 | Val Loss: 0.7221 | Val Acc: 76.26%\n",
      "F1 Micro: 76.26% | F1 Macro: 55.05%\n",
      "Total training time: 67.00 seconds\n",
      "LR=0.01 Accuracy: 66.67%\n",
      "LR=0.001 Accuracy: 82.21%\n",
      "LR=0.0001 Accuracy: 76.26%\n"
     ]
    }
   ],
   "source": [
    "learning_rates = [0.01, 0.001, 0.0001]\n",
    "    \n",
    "for lr in learning_rates:\n",
    "    model = SimpleCNN(num_classes)\n",
    "    \n",
    "    optimizer = optim.Adam(model.parameters(), lr=lr)\n",
    "    \n",
    "    config = {\n",
    "        \"model_type\": \"SimpleCNN\",\n",
    "        \"optimizer\": \"Adam\",\n",
    "        \"learning_rate\": lr,\n",
    "        \"epochs\": 2,\n",
    "    }\n",
    "    \n",
    "    acc = train_and_evaluate(\n",
    "        model=model,\n",
    "        train_loader=train_loader,\n",
    "        val_loader=val_loader,\n",
    "        optimizer=optimizer,\n",
    "        num_epochs=2,\n",
    "        experiment_name=f\"LR_Experiment_{lr}\",\n",
    "        config=config\n",
    "    )\n",
    "    \n",
    "    print(f\"LR={lr} Accuracy: {acc:.2f}%\")"
   ]
  },
  {
   "cell_type": "markdown",
   "metadata": {},
   "source": [
    "2. Number of Layers and Neurons"
   ]
  },
  {
   "cell_type": "code",
   "execution_count": null,
   "metadata": {},
   "outputs": [
    {
     "name": "stdout",
     "output_type": "stream",
     "text": [
      "Epoch 1/2 | Train Loss: 0.9639 | Val Loss: 0.6959 | Val Acc: 76.84%\n",
      "F1 Micro: 76.84% | F1 Macro: 57.82%\n",
      "Epoch 2/2 | Train Loss: 0.6251 | Val Loss: 0.5883 | Val Acc: 80.54%\n",
      "F1 Micro: 80.54% | F1 Macro: 66.38%\n",
      "Total training time: 64.23 seconds\n",
      "Epoch 1/2 | Train Loss: 0.9574 | Val Loss: 0.6191 | Val Acc: 79.99%\n",
      "F1 Micro: 79.99% | F1 Macro: 65.45%\n",
      "Epoch 2/2 | Train Loss: 0.5544 | Val Loss: 0.5224 | Val Acc: 82.44%\n",
      "F1 Micro: 82.44% | F1 Macro: 69.25%\n",
      "Total training time: 68.51 seconds\n",
      "Shallow CNN Accuracy: 80.54%\n",
      "Deeper CNN Accuracy: 82.44%\n"
     ]
    }
   ],
   "source": [
    "class DeeperCNN(nn.Module):\n",
    "    def __init__(self, num_classes):\n",
    "        super().__init__()\n",
    "        self.conv1 = nn.Conv2d(1, 8, 3, 1, 1)\n",
    "        self.conv2 = nn.Conv2d(8, 16, 3, 1, 1)\n",
    "        self.conv3 = nn.Conv2d(16, 32, 3, 1, 1)\n",
    "        self.pool = nn.AdaptiveAvgPool2d((4, 4))\n",
    "        self.fc = nn.Linear(32 * 4 * 4, num_classes)\n",
    "    \n",
    "    def forward(self, x):\n",
    "        x = F.relu(self.conv1(x))\n",
    "        x = F.relu(self.conv2(x))\n",
    "        x = F.relu(self.conv3(x))\n",
    "        x = self.pool(x)\n",
    "        x = x.view(x.size(0), -1)\n",
    "        return self.fc(x)\n",
    "\n",
    "model_shallow = SimpleCNN(num_classes)\n",
    "model_deep = DeeperCNN(num_classes)\n",
    "\n",
    "lr = 0.001\n",
    "\n",
    "config_shallow = {\n",
    "    \"model_type\": \"SimpleCNN\",\n",
    "    \"optimizer\": \"Adam\",\n",
    "    \"learning_rate\": lr,\n",
    "}\n",
    "config_deep = {\n",
    "    \"model_type\": \"DeeperCNN\",\n",
    "    \"optimizer\": \"Adam\",\n",
    "    \"learning_rate\": lr,\n",
    "}\n",
    "\n",
    "acc_shallow = train_and_evaluate(\n",
    "    model_shallow, \n",
    "    train_loader, \n",
    "    val_loader, \n",
    "    optim.Adam(model_shallow.parameters(), lr=lr),\n",
    "    experiment_name=\"Shallow_CNN_Experiment\",\n",
    "    config=config_shallow,\n",
    ")\n",
    "acc_deep = train_and_evaluate(\n",
    "    model_deep, \n",
    "    train_loader, \n",
    "    val_loader, \n",
    "    optim.Adam(model_deep.parameters(), lr=0.001),\n",
    "    experiment_name=\"Deeper_CNN_Experiment\",\n",
    "    config=config_deep,\n",
    ")\n",
    "\n",
    "print(f\"Shallow CNN Accuracy: {acc_shallow:.2f}%\")\n",
    "print(f\"Deeper CNN Accuracy: {acc_deep:.2f}%\")"
   ]
  },
  {
   "cell_type": "markdown",
   "metadata": {},
   "source": [
    "3. Conv Layer Params (Stride and Filter Size)"
   ]
  },
  {
   "cell_type": "code",
   "execution_count": null,
   "metadata": {},
   "outputs": [
    {
     "name": "stdout",
     "output_type": "stream",
     "text": [
      "Epoch 1/2 | Train Loss: 0.8316 | Val Loss: 0.6091 | Val Acc: 80.59%\n",
      "F1 Micro: 80.59% | F1 Macro: 63.59%\n",
      "Epoch 2/2 | Train Loss: 0.4423 | Val Loss: 0.4304 | Val Acc: 86.22%\n",
      "F1 Micro: 86.22% | F1 Macro: 75.77%\n",
      "Total training time: 64.82 seconds\n",
      "Epoch 1/2 | Train Loss: 0.7661 | Val Loss: 0.4910 | Val Acc: 83.61%\n",
      "F1 Micro: 83.61% | F1 Macro: 71.54%\n",
      "Epoch 2/2 | Train Loss: 0.4011 | Val Loss: 0.3676 | Val Acc: 88.40%\n",
      "F1 Micro: 88.40% | F1 Macro: 80.82%\n",
      "Total training time: 62.04 seconds\n",
      "Stride 1 (3x3) Accuracy: 86.22%\n",
      "Stride 2 (5x5) Accuracy: 88.40%\n"
     ]
    }
   ],
   "source": [
    "model_stride1 = SimpleCNN(num_classes)\n",
    "model_stride2 = SimpleCNN(num_classes)\n",
    "\n",
    "model_stride1.conv1 = nn.Conv2d(1, 8, kernel_size=3, stride=1, padding=1)\n",
    "model_stride2.conv1 = nn.Conv2d(1, 8, kernel_size=5, stride=2, padding=2)\n",
    "\n",
    "acc_stride1 = train_and_evaluate(model_stride1, train_loader, val_loader, optim.Adam(model_stride1.parameters(), lr=0.001))\n",
    "acc_stride2 = train_and_evaluate(model_stride2, train_loader, val_loader, optim.Adam(model_stride2.parameters(), lr=0.001))\n",
    "\n",
    "print(f\"Stride 1 (3x3) Accuracy: {acc_stride1:.2f}%\")\n",
    "print(f\"Stride 2 (5x5) Accuracy: {acc_stride2:.2f}%\")"
   ]
  },
  {
   "cell_type": "markdown",
   "metadata": {},
   "source": [
    "4. Activation fuction (ReLU vs Sigmoid)"
   ]
  },
  {
   "cell_type": "code",
   "execution_count": null,
   "metadata": {},
   "outputs": [],
   "source": [
    "def test_activation_function():\n",
    "    relu_model = SimpleCNN(num_classes=10)\n",
    "    sigmoid_model = SimpleCNN(num_classes=10)\n",
    "\n",
    "    relu_model.conv1 = nn.Sequential(nn.Conv2d(1, 8, 3, 1, 1), nn.ReLU())\n",
    "    sigmoid_model.conv1 = nn.Sequential(nn.Conv2d(1, 8, 3, 1, 1), nn.Sigmoid())\n",
    "\n",
    "    dummy_input = torch.randn(2, 1, 64, 100)  # [batch, channels, n_mels, time]\n",
    "    relu_out = relu_model(dummy_input)\n",
    "    sigmoid_out = sigmoid_model(dummy_input)\n",
    "\n",
    "    assert relu_out.shape == sigmoid_out.shape == (2, 10)"
   ]
  },
  {
   "cell_type": "code",
   "execution_count": null,
   "metadata": {},
   "outputs": [
    {
     "name": "stdout",
     "output_type": "stream",
     "text": [
      "Epoch 1/2 | Train Loss: 0.9524 | Val Loss: 0.6050 | Val Acc: 79.75%\n",
      "F1 Micro: 79.75% | F1 Macro: 63.98%\n",
      "Epoch 2/2 | Train Loss: 0.5163 | Val Loss: 0.4788 | Val Acc: 84.23%\n",
      "F1 Micro: 84.23% | F1 Macro: 73.11%\n",
      "Total training time: 62.06 seconds\n",
      "Epoch 1/2 | Train Loss: 1.2802 | Val Loss: 1.0779 | Val Acc: 66.70%\n",
      "F1 Micro: 66.70% | F1 Macro: 24.11%\n",
      "Epoch 2/2 | Train Loss: 0.8639 | Val Loss: 0.7239 | Val Acc: 75.42%\n",
      "F1 Micro: 75.42% | F1 Macro: 51.46%\n",
      "Total training time: 59.61 seconds\n",
      "ReLU Accuracy: 84.23%\n",
      "Sigmoid Accuracy: 75.42%\n"
     ]
    }
   ],
   "source": [
    "model_relu = SimpleCNN(num_classes)\n",
    "model_relu.conv1 = nn.Conv2d(1, 8, kernel_size=3, stride=1, padding=1)\n",
    "model_relu.conv2 = nn.Conv2d(8, 16, kernel_size=3, stride=1, padding=1)\n",
    "\n",
    "model_sigmoid = SimpleCNN(num_classes)\n",
    "model_sigmoid.conv1 = nn.Sequential(nn.Conv2d(1, 8, 3, 1, 1), nn.Sigmoid())\n",
    "model_sigmoid.conv2 = nn.Sequential(nn.Conv2d(8, 16, 3, 1, 1), nn.Sigmoid())\n",
    "\n",
    "acc_relu = train_and_evaluate(model_relu, train_loader, val_loader, optim.Adam(model_relu.parameters(), lr=0.001))\n",
    "acc_sigmoid = train_and_evaluate(model_sigmoid, train_loader, val_loader, optim.Adam(model_sigmoid.parameters(), lr=0.001))\n",
    "\n",
    "print(f\"ReLU Accuracy: {acc_relu:.2f}%\")\n",
    "print(f\"Sigmoid Accuracy: {acc_sigmoid:.2f}%\")"
   ]
  },
  {
   "cell_type": "markdown",
   "metadata": {},
   "source": [
    "5. Pooling"
   ]
  },
  {
   "cell_type": "code",
   "execution_count": null,
   "metadata": {},
   "outputs": [],
   "source": [
    "def test_pooling_variants():\n",
    "    input_tensor = torch.randn(4, 8, 32, 32)\n",
    "\n",
    "    max_pool = nn.AdaptiveMaxPool2d((8, 8))(input_tensor)\n",
    "    avg_pool = nn.AdaptiveAvgPool2d((8, 8))(input_tensor)\n",
    "    global_pool = nn.AdaptiveMaxPool2d((1, 1))(input_tensor)\n",
    "\n",
    "    assert max_pool.shape == avg_pool.shape == (4, 8, 8, 8)\n",
    "    assert global_pool.shape == (4, 8, 1, 1)"
   ]
  },
  {
   "cell_type": "code",
   "execution_count": null,
   "metadata": {},
   "outputs": [
    {
     "name": "stdout",
     "output_type": "stream",
     "text": [
      "Epoch 1/2 | Train Loss: 0.9256 | Val Loss: 0.6816 | Val Acc: 76.56%\n",
      "F1 Micro: 76.56% | F1 Macro: 58.37%\n",
      "Epoch 2/2 | Train Loss: 0.5684 | Val Loss: 0.4860 | Val Acc: 84.03%\n",
      "F1 Micro: 84.03% | F1 Macro: 72.40%\n",
      "Total training time: 58.77 seconds\n",
      "Epoch 1/2 | Train Loss: 0.9936 | Val Loss: 0.6575 | Val Acc: 78.40%\n",
      "F1 Micro: 78.40% | F1 Macro: 60.18%\n",
      "Epoch 2/2 | Train Loss: 0.5456 | Val Loss: 0.4725 | Val Acc: 85.15%\n",
      "F1 Micro: 85.15% | F1 Macro: 74.86%\n",
      "Total training time: 60.57 seconds\n",
      "MaxPool Accuracy: 84.03%\n",
      "AvgPool Accuracy: 85.15%\n"
     ]
    }
   ],
   "source": [
    "class CNN_MaxPool(SimpleCNN):\n",
    "    def __init__(self, num_classes):\n",
    "        super().__init__(num_classes)\n",
    "        self.pool = nn.AdaptiveMaxPool2d((8, 8))\n",
    "\n",
    "class CNN_AvgPool(SimpleCNN):\n",
    "    def __init__(self, num_classes):\n",
    "        super().__init__(num_classes)\n",
    "        self.pool = nn.AdaptiveAvgPool2d((8, 8))\n",
    "\n",
    "model_max = CNN_MaxPool(num_classes)\n",
    "model_avg = CNN_AvgPool(num_classes)\n",
    "\n",
    "acc_max = train_and_evaluate(model_max, train_loader, val_loader, optim.Adam(model_max.parameters(), lr=0.001))\n",
    "acc_avg = train_and_evaluate(model_avg, train_loader, val_loader, optim.Adam(model_avg.parameters(), lr=0.001))\n",
    "\n",
    "print(f\"MaxPool Accuracy: {acc_max:.2f}%\")\n",
    "print(f\"AvgPool Accuracy: {acc_avg:.2f}%\")"
   ]
  },
  {
   "cell_type": "markdown",
   "metadata": {},
   "source": [
    "6. Initialization"
   ]
  },
  {
   "cell_type": "code",
   "execution_count": null,
   "metadata": {},
   "outputs": [],
   "source": [
    "def test_initialization_methods():\n",
    "    conv = nn.Conv2d(1, 8, kernel_size=3, stride=1, padding=1)\n",
    "    torch.nn.init.kaiming_normal_(conv.weight, nonlinearity='relu')\n",
    "    kaiming_std = conv.weight.std().item()\n",
    "\n",
    "    conv = nn.Conv2d(1, 8, kernel_size=3, stride=1, padding=1)\n",
    "    torch.nn.init.xavier_normal_(conv.weight)\n",
    "    xavier_std = conv.weight.std().item()\n",
    "\n",
    "    assert kaiming_std != xavier_std "
   ]
  },
  {
   "cell_type": "code",
   "execution_count": null,
   "metadata": {},
   "outputs": [
    {
     "name": "stdout",
     "output_type": "stream",
     "text": [
      "Epoch 1/2 | Train Loss: 2.0172 | Val Loss: 1.2660 | Val Acc: 63.05%\n",
      "F1 Micro: 63.05% | F1 Macro: 7.11%\n",
      "Epoch 2/2 | Train Loss: 1.1663 | Val Loss: 1.1108 | Val Acc: 64.07%\n",
      "F1 Micro: 64.07% | F1 Macro: 15.65%\n",
      "Total training time: 63.72 seconds\n",
      "Epoch 1/2 | Train Loss: 1.0167 | Val Loss: 0.5905 | Val Acc: 80.63%\n",
      "F1 Micro: 80.63% | F1 Macro: 66.27%\n",
      "Epoch 2/2 | Train Loss: 0.5309 | Val Loss: 0.5124 | Val Acc: 83.15%\n",
      "F1 Micro: 83.15% | F1 Macro: 71.29%\n",
      "Total training time: 65.93 seconds\n",
      "He Init Accuracy: 64.07%\n",
      "Xavier Init Accuracy: 83.15%\n"
     ]
    }
   ],
   "source": [
    "def apply_he(model):\n",
    "    for m in model.modules():\n",
    "        if isinstance(m, (nn.Conv2d, nn.Linear)):\n",
    "            nn.init.kaiming_uniform_(m.weight, nonlinearity='relu')\n",
    "\n",
    "def apply_xavier(model):\n",
    "    for m in model.modules():\n",
    "        if isinstance(m, (nn.Conv2d, nn.Linear)):\n",
    "            nn.init.xavier_uniform_(m.weight)\n",
    "\n",
    "model_he = SimpleCNN(num_classes)\n",
    "model_xavier = SimpleCNN(num_classes)\n",
    "\n",
    "apply_he(model_he)\n",
    "apply_xavier(model_xavier)\n",
    "\n",
    "acc_he = train_and_evaluate(model_he, train_loader, val_loader, optim.Adam(model_he.parameters(), lr=0.001))\n",
    "acc_xavier = train_and_evaluate(model_xavier, train_loader, val_loader, optim.Adam(model_xavier.parameters(), lr=0.001))\n",
    "\n",
    "print(f\"He Init Accuracy: {acc_he:.2f}%\")\n",
    "print(f\"Xavier Init Accuracy: {acc_xavier:.2f}%\")"
   ]
  },
  {
   "cell_type": "markdown",
   "metadata": {},
   "source": [
    "7. Optimizer: SGD vs Adam vs SGD+Momentum"
   ]
  },
  {
   "cell_type": "code",
   "execution_count": null,
   "metadata": {},
   "outputs": [],
   "source": [
    "def test_optimizer_variants():\n",
    "    model = SimpleCNN(num_classes=10)\n",
    "    sgd = optim.SGD(model.parameters(), lr=0.01)\n",
    "    adam = optim.Adam(model.parameters(), lr=0.01)\n",
    "    momentum = optim.SGD(model.parameters(), lr=0.01, momentum=0.9)\n",
    "\n",
    "    assert isinstance(sgd, optim.Optimizer)\n",
    "    assert isinstance(adam, optim.Optimizer)\n",
    "    assert isinstance(momentum, optim.Optimizer)"
   ]
  },
  {
   "cell_type": "code",
   "execution_count": null,
   "metadata": {},
   "outputs": [
    {
     "name": "stdout",
     "output_type": "stream",
     "text": [
      "Epoch 1/2 | Train Loss: 0.9715 | Val Loss: 0.7250 | Val Acc: 75.80%\n",
      "F1 Micro: 75.80% | F1 Macro: 59.90%\n",
      "Epoch 2/2 | Train Loss: 0.5363 | Val Loss: 0.4865 | Val Acc: 84.20%\n",
      "F1 Micro: 84.20% | F1 Macro: 74.68%\n",
      "Total training time: 64.63 seconds\n",
      "Epoch 1/2 | Train Loss: 0.8552 | Val Loss: 0.5589 | Val Acc: 82.02%\n",
      "F1 Micro: 82.02% | F1 Macro: 69.72%\n",
      "Epoch 2/2 | Train Loss: 0.4933 | Val Loss: 0.4890 | Val Acc: 84.03%\n",
      "F1 Micro: 84.03% | F1 Macro: 73.69%\n",
      "Total training time: 66.74 seconds\n",
      "Epoch 1/2 | Train Loss: 1.0747 | Val Loss: 0.9942 | Val Acc: 69.31%\n",
      "F1 Micro: 69.31% | F1 Macro: 36.99%\n",
      "Epoch 2/2 | Train Loss: 0.8883 | Val Loss: 0.8497 | Val Acc: 73.10%\n",
      "F1 Micro: 73.10% | F1 Macro: 46.67%\n",
      "Total training time: 61.24 seconds\n",
      "SGD Accuracy: 84.20%\n",
      "Adam Accuracy: 84.03%\n",
      "Momentum Accuracy: 73.10%\n"
     ]
    }
   ],
   "source": [
    "model_sgd = SimpleCNN(num_classes)\n",
    "model_adam = SimpleCNN(num_classes)\n",
    "model_momentum = SimpleCNN(num_classes)\n",
    "\n",
    "opt_sgd = optim.SGD(model_sgd.parameters(), lr=0.01)\n",
    "opt_adam = optim.Adam(model_adam.parameters(), lr=0.001)\n",
    "opt_momentum = optim.SGD(model_momentum.parameters(), lr=0.01, momentum=0.9)\n",
    "\n",
    "acc_sgd = train_and_evaluate(model_sgd, train_loader, val_loader, opt_sgd)\n",
    "acc_adam = train_and_evaluate(model_adam, train_loader, val_loader, opt_adam)\n",
    "acc_momentum = train_and_evaluate(model_momentum, train_loader, val_loader, opt_momentum)\n",
    "\n",
    "print(f\"SGD Accuracy: {acc_sgd:.2f}%\")\n",
    "print(f\"Adam Accuracy: {acc_adam:.2f}%\")\n",
    "print(f\"Momentum Accuracy: {acc_momentum:.2f}%\")"
   ]
  },
  {
   "cell_type": "markdown",
   "metadata": {},
   "source": [
    "8. Batch Size"
   ]
  },
  {
   "cell_type": "code",
   "execution_count": null,
   "metadata": {},
   "outputs": [],
   "source": [
    "def test_batch_size_effect():\n",
    "    from torch.utils.data import TensorDataset, DataLoader\n",
    "\n",
    "    dummy_data = torch.randn(100, 1, 64, 50)\n",
    "    dummy_labels = torch.randint(0, 10, (100,))\n",
    "    dataset = TensorDataset(dummy_data, dummy_labels)\n",
    "\n",
    "    loader_small = DataLoader(dataset, batch_size=8)\n",
    "    loader_large = DataLoader(dataset, batch_size=32)\n",
    "\n",
    "    assert len(list(loader_small)) > len(list(loader_large))"
   ]
  },
  {
   "cell_type": "code",
   "execution_count": null,
   "metadata": {},
   "outputs": [
    {
     "name": "stdout",
     "output_type": "stream",
     "text": [
      "Epoch 1/2 | Train Loss: 0.7558 | Val Loss: 0.5654 | Val Acc: 81.81%\n",
      "F1 Micro: 81.81% | F1 Macro: 65.76%\n",
      "Epoch 2/2 | Train Loss: 0.4222 | Val Loss: 0.4310 | Val Acc: 86.39%\n",
      "F1 Micro: 86.39% | F1 Macro: 77.19%\n",
      "Total training time: 73.55 seconds\n",
      "Epoch 1/2 | Train Loss: 0.9039 | Val Loss: 0.5865 | Val Acc: 80.38%\n",
      "F1 Micro: 80.38% | F1 Macro: 65.35%\n",
      "Epoch 2/2 | Train Loss: 0.5245 | Val Loss: 0.5092 | Val Acc: 83.59%\n",
      "F1 Micro: 83.59% | F1 Macro: 70.92%\n",
      "Total training time: 62.39 seconds\n",
      "Epoch 1/2 | Train Loss: 1.0983 | Val Loss: 0.7595 | Val Acc: 74.43%\n",
      "F1 Micro: 74.43% | F1 Macro: 52.05%\n",
      "Epoch 2/2 | Train Loss: 0.6435 | Val Loss: 0.5582 | Val Acc: 81.68%\n",
      "F1 Micro: 81.68% | F1 Macro: 68.04%\n",
      "Total training time: 57.30 seconds\n",
      "Batch Size 8 Accuracy: 86.39%\n",
      "Batch Size 16 Accuracy: 83.59%\n",
      "Batch Size 32 Accuracy: 81.68%\n"
     ]
    }
   ],
   "source": [
    "# Needs more than 4 GB of GPU memory\n",
    "\n",
    "model_bs8 = SimpleCNN(num_classes)\n",
    "model_bs16 = SimpleCNN(num_classes)\n",
    "model_bs32 = SimpleCNN(num_classes)\n",
    "\n",
    "loader_bs8 = DataLoader(train_dataset, batch_size=8, shuffle=True, collate_fn=pad_collate_fn)\n",
    "loader_bs16 = DataLoader(train_dataset, batch_size=16, shuffle=True, collate_fn=pad_collate_fn)\n",
    "loader_bs32 = DataLoader(train_dataset, batch_size=32, shuffle=True, collate_fn=pad_collate_fn)\n",
    "\n",
    "acc_bs8 = train_and_evaluate(model_bs8, loader_bs8, val_loader, optim.Adam(model_bs8.parameters(), lr=0.001))\n",
    "acc_bs16 = train_and_evaluate(model_bs16, loader_bs16, val_loader, optim.Adam(model_bs16.parameters(), lr=0.001))\n",
    "acc_bs32 = train_and_evaluate(model_bs32, loader_bs32, val_loader, optim.Adam(model_bs32.parameters(), lr=0.001))\n",
    "\n",
    "print(f\"Batch Size 8 Accuracy: {acc_bs8:.2f}%\")\n",
    "print(f\"Batch Size 16 Accuracy: {acc_bs16:.2f}%\")\n",
    "print(f\"Batch Size 32 Accuracy: {acc_bs32:.2f}%\")"
   ]
  },
  {
   "cell_type": "markdown",
   "metadata": {},
   "source": [
    "9. Learning Rate Schedule"
   ]
  },
  {
   "cell_type": "code",
   "execution_count": null,
   "metadata": {},
   "outputs": [],
   "source": [
    "def test_lr_scheduler_step():\n",
    "    model = SimpleCNN(num_classes=10)\n",
    "    optimizer = optim.Adam(model.parameters(), lr=0.01)\n",
    "    scheduler = optim.lr_scheduler.StepLR(optimizer, step_size=1, gamma=0.1)\n",
    "\n",
    "    lrs = []\n",
    "    for _ in range(3):\n",
    "        optimizer.step()\n",
    "        scheduler.step()\n",
    "        lrs.append(optimizer.param_groups[0]['lr'])\n",
    "\n",
    "    assert lrs == [0.01, 0.001, 0.0001]"
   ]
  },
  {
   "cell_type": "code",
   "execution_count": null,
   "metadata": {},
   "outputs": [
    {
     "name": "stdout",
     "output_type": "stream",
     "text": [
      "Epoch 1/2 | Train Loss: 1.0309 | Val Loss: 0.7561 | Val Acc: 75.54%\n",
      "F1 Micro: 75.54% | F1 Macro: 54.97%\n",
      "Epoch 2/2 | Train Loss: 0.6657 | Val Loss: 0.6240 | Val Acc: 79.22%\n",
      "F1 Micro: 79.22% | F1 Macro: 64.36%\n",
      "Total training time: 59.80 seconds\n",
      "Epoch 1/2 | Train Loss: 0.8692 | Val Loss: 0.6291 | Val Acc: 78.87%\n",
      "F1 Micro: 78.87% | F1 Macro: 62.19%\n",
      "Epoch 2/2 | Train Loss: 0.4938 | Val Loss: 0.4735 | Val Acc: 85.33%\n",
      "F1 Micro: 85.33% | F1 Macro: 76.09%\n",
      "Total training time: 60.38 seconds\n",
      "Epoch 1/2 | Train Loss: 0.7921 | Val Loss: 0.5482 | Val Acc: 81.97%\n",
      "F1 Micro: 81.97% | F1 Macro: 67.51%\n",
      "Epoch 2/2 | Train Loss: 0.4577 | Val Loss: 0.4315 | Val Acc: 86.08%\n",
      "F1 Micro: 86.08% | F1 Macro: 76.82%\n",
      "Total training time: 63.80 seconds\n",
      "No Scheduler Accuracy: 79.22%\n",
      "StepLR Accuracy: 85.33%\n",
      "ReduceLROnPlateau Accuracy: 86.08%\n"
     ]
    }
   ],
   "source": [
    "model_nosched = SimpleCNN(num_classes)\n",
    "model_step = SimpleCNN(num_classes)\n",
    "model_plateau = SimpleCNN(num_classes)\n",
    "\n",
    "opt_nosched = optim.Adam(model_nosched.parameters(), lr=0.001)\n",
    "opt_step = optim.Adam(model_step.parameters(), lr=0.001)\n",
    "opt_plateau = optim.Adam(model_plateau.parameters(), lr=0.001)\n",
    "\n",
    "sched_step = optim.lr_scheduler.StepLR(opt_step, step_size=1, gamma=0.9)\n",
    "sched_plateau = optim.lr_scheduler.ReduceLROnPlateau(opt_plateau, patience=1)\n",
    "\n",
    "acc_nosched = train_and_evaluate(model_nosched, train_loader, val_loader, opt_nosched, scheduler=None)\n",
    "acc_step = train_and_evaluate(model_step, train_loader, val_loader, opt_step, scheduler=sched_step)\n",
    "acc_plateau = train_and_evaluate(model_plateau, train_loader, val_loader, opt_plateau, scheduler=sched_plateau)\n",
    "\n",
    "print(f\"No Scheduler Accuracy: {acc_nosched:.2f}%\")\n",
    "print(f\"StepLR Accuracy: {acc_step:.2f}%\")\n",
    "print(f\"ReduceLROnPlateau Accuracy: {acc_plateau:.2f}%\")"
   ]
  },
  {
   "cell_type": "markdown",
   "metadata": {},
   "source": [
    "10. Batch Normalization: With vs Without"
   ]
  },
  {
   "cell_type": "code",
   "execution_count": null,
   "metadata": {},
   "outputs": [
    {
     "name": "stdout",
     "output_type": "stream",
     "text": [
      "Epoch 1/2 | Train Loss: 0.8035 | Val Loss: 0.5176 | Val Acc: 83.14%\n",
      "F1 Micro: 83.14% | F1 Macro: 72.51%\n",
      "Epoch 2/2 | Train Loss: 0.4375 | Val Loss: 0.4186 | Val Acc: 86.69%\n",
      "F1 Micro: 86.69% | F1 Macro: 78.02%\n",
      "Total training time: 62.02 seconds\n"
     ]
    },
    {
     "ename": "AttributeError",
     "evalue": "'CNN_BatchNorm' object has no attribute 'fc'",
     "output_type": "error",
     "traceback": [
      "\u001b[31m---------------------------------------------------------------------------\u001b[39m",
      "\u001b[31mAttributeError\u001b[39m                            Traceback (most recent call last)",
      "\u001b[36mCell\u001b[39m\u001b[36m \u001b[39m\u001b[32mIn[29]\u001b[39m\u001b[32m, line 18\u001b[39m\n\u001b[32m     15\u001b[39m model_bn = CNN_BatchNorm(num_classes)\n\u001b[32m     17\u001b[39m acc_no_bn = train_and_evaluate(model_no_bn, train_loader, val_loader, optim.Adam(model_no_bn.parameters(), lr=\u001b[32m0.001\u001b[39m))\n\u001b[32m---> \u001b[39m\u001b[32m18\u001b[39m acc_bn = \u001b[43mtrain_and_evaluate\u001b[49m\u001b[43m(\u001b[49m\u001b[43mmodel_bn\u001b[49m\u001b[43m,\u001b[49m\u001b[43m \u001b[49m\u001b[43mtrain_loader\u001b[49m\u001b[43m,\u001b[49m\u001b[43m \u001b[49m\u001b[43mval_loader\u001b[49m\u001b[43m,\u001b[49m\u001b[43m \u001b[49m\u001b[43moptim\u001b[49m\u001b[43m.\u001b[49m\u001b[43mAdam\u001b[49m\u001b[43m(\u001b[49m\u001b[43mmodel_bn\u001b[49m\u001b[43m.\u001b[49m\u001b[43mparameters\u001b[49m\u001b[43m(\u001b[49m\u001b[43m)\u001b[49m\u001b[43m,\u001b[49m\u001b[43m \u001b[49m\u001b[43mlr\u001b[49m\u001b[43m=\u001b[49m\u001b[32;43m0.001\u001b[39;49m\u001b[43m)\u001b[49m\u001b[43m)\u001b[49m\n\u001b[32m     20\u001b[39m \u001b[38;5;28mprint\u001b[39m(\u001b[33mf\u001b[39m\u001b[33m\"\u001b[39m\u001b[33mNo BatchNorm Accuracy: \u001b[39m\u001b[38;5;132;01m{\u001b[39;00macc_no_bn\u001b[38;5;132;01m:\u001b[39;00m\u001b[33m.2f\u001b[39m\u001b[38;5;132;01m}\u001b[39;00m\u001b[33m%\u001b[39m\u001b[33m\"\u001b[39m)\n\u001b[32m     21\u001b[39m \u001b[38;5;28mprint\u001b[39m(\u001b[33mf\u001b[39m\u001b[33m\"\u001b[39m\u001b[33mWith BatchNorm Accuracy: \u001b[39m\u001b[38;5;132;01m{\u001b[39;00macc_bn\u001b[38;5;132;01m:\u001b[39;00m\u001b[33m.2f\u001b[39m\u001b[38;5;132;01m}\u001b[39;00m\u001b[33m%\u001b[39m\u001b[33m\"\u001b[39m)\n",
      "\u001b[36mCell\u001b[39m\u001b[36m \u001b[39m\u001b[32mIn[13]\u001b[39m\u001b[32m, line 16\u001b[39m, in \u001b[36mtrain_and_evaluate\u001b[39m\u001b[34m(model, train_loader, val_loader, optimizer, scheduler, num_epochs)\u001b[39m\n\u001b[32m     13\u001b[39m labels = labels.to(device)\n\u001b[32m     15\u001b[39m optimizer.zero_grad()\n\u001b[32m---> \u001b[39m\u001b[32m16\u001b[39m outputs = \u001b[43mmodel\u001b[49m\u001b[43m(\u001b[49m\u001b[43minputs\u001b[49m\u001b[43m)\u001b[49m\n\u001b[32m     17\u001b[39m loss = criterion(outputs, labels)\n\u001b[32m     18\u001b[39m loss.backward()\n",
      "\u001b[36mFile \u001b[39m\u001b[32md:\\Projects\\wztum-project\\.venv\\Lib\\site-packages\\torch\\nn\\modules\\module.py:1751\u001b[39m, in \u001b[36mModule._wrapped_call_impl\u001b[39m\u001b[34m(self, *args, **kwargs)\u001b[39m\n\u001b[32m   1749\u001b[39m     \u001b[38;5;28;01mreturn\u001b[39;00m \u001b[38;5;28mself\u001b[39m._compiled_call_impl(*args, **kwargs)  \u001b[38;5;66;03m# type: ignore[misc]\u001b[39;00m\n\u001b[32m   1750\u001b[39m \u001b[38;5;28;01melse\u001b[39;00m:\n\u001b[32m-> \u001b[39m\u001b[32m1751\u001b[39m     \u001b[38;5;28;01mreturn\u001b[39;00m \u001b[38;5;28;43mself\u001b[39;49m\u001b[43m.\u001b[49m\u001b[43m_call_impl\u001b[49m\u001b[43m(\u001b[49m\u001b[43m*\u001b[49m\u001b[43margs\u001b[49m\u001b[43m,\u001b[49m\u001b[43m \u001b[49m\u001b[43m*\u001b[49m\u001b[43m*\u001b[49m\u001b[43mkwargs\u001b[49m\u001b[43m)\u001b[49m\n",
      "\u001b[36mFile \u001b[39m\u001b[32md:\\Projects\\wztum-project\\.venv\\Lib\\site-packages\\torch\\nn\\modules\\module.py:1762\u001b[39m, in \u001b[36mModule._call_impl\u001b[39m\u001b[34m(self, *args, **kwargs)\u001b[39m\n\u001b[32m   1757\u001b[39m \u001b[38;5;66;03m# If we don't have any hooks, we want to skip the rest of the logic in\u001b[39;00m\n\u001b[32m   1758\u001b[39m \u001b[38;5;66;03m# this function, and just call forward.\u001b[39;00m\n\u001b[32m   1759\u001b[39m \u001b[38;5;28;01mif\u001b[39;00m \u001b[38;5;129;01mnot\u001b[39;00m (\u001b[38;5;28mself\u001b[39m._backward_hooks \u001b[38;5;129;01mor\u001b[39;00m \u001b[38;5;28mself\u001b[39m._backward_pre_hooks \u001b[38;5;129;01mor\u001b[39;00m \u001b[38;5;28mself\u001b[39m._forward_hooks \u001b[38;5;129;01mor\u001b[39;00m \u001b[38;5;28mself\u001b[39m._forward_pre_hooks\n\u001b[32m   1760\u001b[39m         \u001b[38;5;129;01mor\u001b[39;00m _global_backward_pre_hooks \u001b[38;5;129;01mor\u001b[39;00m _global_backward_hooks\n\u001b[32m   1761\u001b[39m         \u001b[38;5;129;01mor\u001b[39;00m _global_forward_hooks \u001b[38;5;129;01mor\u001b[39;00m _global_forward_pre_hooks):\n\u001b[32m-> \u001b[39m\u001b[32m1762\u001b[39m     \u001b[38;5;28;01mreturn\u001b[39;00m \u001b[43mforward_call\u001b[49m\u001b[43m(\u001b[49m\u001b[43m*\u001b[49m\u001b[43margs\u001b[49m\u001b[43m,\u001b[49m\u001b[43m \u001b[49m\u001b[43m*\u001b[49m\u001b[43m*\u001b[49m\u001b[43mkwargs\u001b[49m\u001b[43m)\u001b[49m\n\u001b[32m   1764\u001b[39m result = \u001b[38;5;28;01mNone\u001b[39;00m\n\u001b[32m   1765\u001b[39m called_always_called_hooks = \u001b[38;5;28mset\u001b[39m()\n",
      "\u001b[36mCell\u001b[39m\u001b[36m \u001b[39m\u001b[32mIn[29]\u001b[39m\u001b[32m, line 12\u001b[39m, in \u001b[36mCNN_BatchNorm.forward\u001b[39m\u001b[34m(self, x)\u001b[39m\n\u001b[32m     10\u001b[39m x = \u001b[38;5;28mself\u001b[39m.pool(x)\n\u001b[32m     11\u001b[39m x = x.view(x.size(\u001b[32m0\u001b[39m), -\u001b[32m1\u001b[39m)\n\u001b[32m---> \u001b[39m\u001b[32m12\u001b[39m \u001b[38;5;28;01mreturn\u001b[39;00m \u001b[38;5;28;43mself\u001b[39;49m\u001b[43m.\u001b[49m\u001b[43mfc\u001b[49m(x)\n",
      "\u001b[36mFile \u001b[39m\u001b[32md:\\Projects\\wztum-project\\.venv\\Lib\\site-packages\\torch\\nn\\modules\\module.py:1940\u001b[39m, in \u001b[36mModule.__getattr__\u001b[39m\u001b[34m(self, name)\u001b[39m\n\u001b[32m   1938\u001b[39m     \u001b[38;5;28;01mif\u001b[39;00m name \u001b[38;5;129;01min\u001b[39;00m modules:\n\u001b[32m   1939\u001b[39m         \u001b[38;5;28;01mreturn\u001b[39;00m modules[name]\n\u001b[32m-> \u001b[39m\u001b[32m1940\u001b[39m \u001b[38;5;28;01mraise\u001b[39;00m \u001b[38;5;167;01mAttributeError\u001b[39;00m(\n\u001b[32m   1941\u001b[39m     \u001b[33mf\u001b[39m\u001b[33m\"\u001b[39m\u001b[33m'\u001b[39m\u001b[38;5;132;01m{\u001b[39;00m\u001b[38;5;28mtype\u001b[39m(\u001b[38;5;28mself\u001b[39m).\u001b[34m__name__\u001b[39m\u001b[38;5;132;01m}\u001b[39;00m\u001b[33m'\u001b[39m\u001b[33m object has no attribute \u001b[39m\u001b[33m'\u001b[39m\u001b[38;5;132;01m{\u001b[39;00mname\u001b[38;5;132;01m}\u001b[39;00m\u001b[33m'\u001b[39m\u001b[33m\"\u001b[39m\n\u001b[32m   1942\u001b[39m )\n",
      "\u001b[31mAttributeError\u001b[39m: 'CNN_BatchNorm' object has no attribute 'fc'"
     ]
    }
   ],
   "source": [
    "class CNN_BatchNorm(SimpleCNN):\n",
    "    def __init__(self, num_classes):\n",
    "        super().__init__(num_classes)\n",
    "        self.bn1 = nn.BatchNorm2d(8)\n",
    "        self.bn2 = nn.BatchNorm2d(16)\n",
    "\n",
    "    def forward(self, x):\n",
    "        x = F.relu(self.bn1(self.conv1(x)))\n",
    "        x = F.relu(self.bn2(self.conv2(x)))\n",
    "        x = self.pool(x)\n",
    "        x = x.view(x.size(0), -1)\n",
    "        return self.fc(x)\n",
    "\n",
    "model_no_bn = SimpleCNN(num_classes)\n",
    "model_bn = CNN_BatchNorm(num_classes)\n",
    "\n",
    "acc_no_bn = train_and_evaluate(model_no_bn, train_loader, val_loader, optim.Adam(model_no_bn.parameters(), lr=0.001))\n",
    "acc_bn = train_and_evaluate(model_bn, train_loader, val_loader, optim.Adam(model_bn.parameters(), lr=0.001))\n",
    "\n",
    "print(f\"No BatchNorm Accuracy: {acc_no_bn:.2f}%\")\n",
    "print(f\"With BatchNorm Accuracy: {acc_bn:.2f}%\")"
   ]
  },
  {
   "cell_type": "markdown",
   "metadata": {},
   "source": [
    "11. Skip Connections (Residual Block)"
   ]
  },
  {
   "cell_type": "code",
   "execution_count": null,
   "metadata": {},
   "outputs": [
    {
     "name": "stdout",
     "output_type": "stream",
     "text": [
      "Epoch 1/2 | Train Loss: 0.8566 | Val Loss: 0.5648 | Val Acc: 81.21%\n",
      "F1 Micro: 81.21% | F1 Macro: 68.20%\n",
      "Epoch 2/2 | Train Loss: 0.4777 | Val Loss: 0.4588 | Val Acc: 85.34%\n",
      "F1 Micro: 85.34% | F1 Macro: 74.92%\n",
      "Total training time: 62.47 seconds\n"
     ]
    },
    {
     "ename": "RuntimeError",
     "evalue": "one of the variables needed for gradient computation has been modified by an inplace operation: [torch.cuda.FloatTensor [16, 8, 64, 81]], which is output 0 of ReluBackward0, is at version 1; expected version 0 instead. Hint: enable anomaly detection to find the operation that failed to compute its gradient, with torch.autograd.set_detect_anomaly(True).",
     "output_type": "error",
     "traceback": [
      "\u001b[31m---------------------------------------------------------------------------\u001b[39m",
      "\u001b[31mRuntimeError\u001b[39m                              Traceback (most recent call last)",
      "\u001b[36mCell\u001b[39m\u001b[36m \u001b[39m\u001b[32mIn[30]\u001b[39m\u001b[32m, line 21\u001b[39m\n\u001b[32m     18\u001b[39m model_noskip = SimpleCNN(num_classes)\n\u001b[32m     20\u001b[39m acc_noskip = train_and_evaluate(model_noskip, train_loader, val_loader, optim.Adam(model_noskip.parameters(), lr=\u001b[32m0.001\u001b[39m))\n\u001b[32m---> \u001b[39m\u001b[32m21\u001b[39m acc_skip = \u001b[43mtrain_and_evaluate\u001b[49m\u001b[43m(\u001b[49m\u001b[43mmodel_skip\u001b[49m\u001b[43m,\u001b[49m\u001b[43m \u001b[49m\u001b[43mtrain_loader\u001b[49m\u001b[43m,\u001b[49m\u001b[43m \u001b[49m\u001b[43mval_loader\u001b[49m\u001b[43m,\u001b[49m\u001b[43m \u001b[49m\u001b[43moptim\u001b[49m\u001b[43m.\u001b[49m\u001b[43mAdam\u001b[49m\u001b[43m(\u001b[49m\u001b[43mmodel_skip\u001b[49m\u001b[43m.\u001b[49m\u001b[43mparameters\u001b[49m\u001b[43m(\u001b[49m\u001b[43m)\u001b[49m\u001b[43m,\u001b[49m\u001b[43m \u001b[49m\u001b[43mlr\u001b[49m\u001b[43m=\u001b[49m\u001b[32;43m0.001\u001b[39;49m\u001b[43m)\u001b[49m\u001b[43m)\u001b[49m\n\u001b[32m     23\u001b[39m \u001b[38;5;28mprint\u001b[39m(\u001b[33mf\u001b[39m\u001b[33m\"\u001b[39m\u001b[33mNo Skip Accuracy: \u001b[39m\u001b[38;5;132;01m{\u001b[39;00macc_noskip\u001b[38;5;132;01m:\u001b[39;00m\u001b[33m.2f\u001b[39m\u001b[38;5;132;01m}\u001b[39;00m\u001b[33m%\u001b[39m\u001b[33m\"\u001b[39m)\n\u001b[32m     24\u001b[39m \u001b[38;5;28mprint\u001b[39m(\u001b[33mf\u001b[39m\u001b[33m\"\u001b[39m\u001b[33mSkip Connection Accuracy: \u001b[39m\u001b[38;5;132;01m{\u001b[39;00macc_skip\u001b[38;5;132;01m:\u001b[39;00m\u001b[33m.2f\u001b[39m\u001b[38;5;132;01m}\u001b[39;00m\u001b[33m%\u001b[39m\u001b[33m\"\u001b[39m)\n",
      "\u001b[36mCell\u001b[39m\u001b[36m \u001b[39m\u001b[32mIn[13]\u001b[39m\u001b[32m, line 18\u001b[39m, in \u001b[36mtrain_and_evaluate\u001b[39m\u001b[34m(model, train_loader, val_loader, optimizer, scheduler, num_epochs)\u001b[39m\n\u001b[32m     16\u001b[39m outputs = model(inputs)\n\u001b[32m     17\u001b[39m loss = criterion(outputs, labels)\n\u001b[32m---> \u001b[39m\u001b[32m18\u001b[39m \u001b[43mloss\u001b[49m\u001b[43m.\u001b[49m\u001b[43mbackward\u001b[49m\u001b[43m(\u001b[49m\u001b[43m)\u001b[49m\n\u001b[32m     19\u001b[39m optimizer.step()\n\u001b[32m     21\u001b[39m running_loss += loss.item()\n",
      "\u001b[36mFile \u001b[39m\u001b[32md:\\Projects\\wztum-project\\.venv\\Lib\\site-packages\\torch\\_tensor.py:648\u001b[39m, in \u001b[36mTensor.backward\u001b[39m\u001b[34m(self, gradient, retain_graph, create_graph, inputs)\u001b[39m\n\u001b[32m    638\u001b[39m \u001b[38;5;28;01mif\u001b[39;00m has_torch_function_unary(\u001b[38;5;28mself\u001b[39m):\n\u001b[32m    639\u001b[39m     \u001b[38;5;28;01mreturn\u001b[39;00m handle_torch_function(\n\u001b[32m    640\u001b[39m         Tensor.backward,\n\u001b[32m    641\u001b[39m         (\u001b[38;5;28mself\u001b[39m,),\n\u001b[32m   (...)\u001b[39m\u001b[32m    646\u001b[39m         inputs=inputs,\n\u001b[32m    647\u001b[39m     )\n\u001b[32m--> \u001b[39m\u001b[32m648\u001b[39m \u001b[43mtorch\u001b[49m\u001b[43m.\u001b[49m\u001b[43mautograd\u001b[49m\u001b[43m.\u001b[49m\u001b[43mbackward\u001b[49m\u001b[43m(\u001b[49m\n\u001b[32m    649\u001b[39m \u001b[43m    \u001b[49m\u001b[38;5;28;43mself\u001b[39;49m\u001b[43m,\u001b[49m\u001b[43m \u001b[49m\u001b[43mgradient\u001b[49m\u001b[43m,\u001b[49m\u001b[43m \u001b[49m\u001b[43mretain_graph\u001b[49m\u001b[43m,\u001b[49m\u001b[43m \u001b[49m\u001b[43mcreate_graph\u001b[49m\u001b[43m,\u001b[49m\u001b[43m \u001b[49m\u001b[43minputs\u001b[49m\u001b[43m=\u001b[49m\u001b[43minputs\u001b[49m\n\u001b[32m    650\u001b[39m \u001b[43m\u001b[49m\u001b[43m)\u001b[49m\n",
      "\u001b[36mFile \u001b[39m\u001b[32md:\\Projects\\wztum-project\\.venv\\Lib\\site-packages\\torch\\autograd\\__init__.py:353\u001b[39m, in \u001b[36mbackward\u001b[39m\u001b[34m(tensors, grad_tensors, retain_graph, create_graph, grad_variables, inputs)\u001b[39m\n\u001b[32m    348\u001b[39m     retain_graph = create_graph\n\u001b[32m    350\u001b[39m \u001b[38;5;66;03m# The reason we repeat the same comment below is that\u001b[39;00m\n\u001b[32m    351\u001b[39m \u001b[38;5;66;03m# some Python versions print out the first line of a multi-line function\u001b[39;00m\n\u001b[32m    352\u001b[39m \u001b[38;5;66;03m# calls in the traceback and some print out the last line\u001b[39;00m\n\u001b[32m--> \u001b[39m\u001b[32m353\u001b[39m \u001b[43m_engine_run_backward\u001b[49m\u001b[43m(\u001b[49m\n\u001b[32m    354\u001b[39m \u001b[43m    \u001b[49m\u001b[43mtensors\u001b[49m\u001b[43m,\u001b[49m\n\u001b[32m    355\u001b[39m \u001b[43m    \u001b[49m\u001b[43mgrad_tensors_\u001b[49m\u001b[43m,\u001b[49m\n\u001b[32m    356\u001b[39m \u001b[43m    \u001b[49m\u001b[43mretain_graph\u001b[49m\u001b[43m,\u001b[49m\n\u001b[32m    357\u001b[39m \u001b[43m    \u001b[49m\u001b[43mcreate_graph\u001b[49m\u001b[43m,\u001b[49m\n\u001b[32m    358\u001b[39m \u001b[43m    \u001b[49m\u001b[43minputs\u001b[49m\u001b[43m,\u001b[49m\n\u001b[32m    359\u001b[39m \u001b[43m    \u001b[49m\u001b[43mallow_unreachable\u001b[49m\u001b[43m=\u001b[49m\u001b[38;5;28;43;01mTrue\u001b[39;49;00m\u001b[43m,\u001b[49m\n\u001b[32m    360\u001b[39m \u001b[43m    \u001b[49m\u001b[43maccumulate_grad\u001b[49m\u001b[43m=\u001b[49m\u001b[38;5;28;43;01mTrue\u001b[39;49;00m\u001b[43m,\u001b[49m\n\u001b[32m    361\u001b[39m \u001b[43m\u001b[49m\u001b[43m)\u001b[49m\n",
      "\u001b[36mFile \u001b[39m\u001b[32md:\\Projects\\wztum-project\\.venv\\Lib\\site-packages\\torch\\autograd\\graph.py:824\u001b[39m, in \u001b[36m_engine_run_backward\u001b[39m\u001b[34m(t_outputs, *args, **kwargs)\u001b[39m\n\u001b[32m    822\u001b[39m     unregister_hooks = _register_logging_hooks_on_whole_graph(t_outputs)\n\u001b[32m    823\u001b[39m \u001b[38;5;28;01mtry\u001b[39;00m:\n\u001b[32m--> \u001b[39m\u001b[32m824\u001b[39m     \u001b[38;5;28;01mreturn\u001b[39;00m \u001b[43mVariable\u001b[49m\u001b[43m.\u001b[49m\u001b[43m_execution_engine\u001b[49m\u001b[43m.\u001b[49m\u001b[43mrun_backward\u001b[49m\u001b[43m(\u001b[49m\u001b[43m  \u001b[49m\u001b[38;5;66;43;03m# Calls into the C++ engine to run the backward pass\u001b[39;49;00m\n\u001b[32m    825\u001b[39m \u001b[43m        \u001b[49m\u001b[43mt_outputs\u001b[49m\u001b[43m,\u001b[49m\u001b[43m \u001b[49m\u001b[43m*\u001b[49m\u001b[43margs\u001b[49m\u001b[43m,\u001b[49m\u001b[43m \u001b[49m\u001b[43m*\u001b[49m\u001b[43m*\u001b[49m\u001b[43mkwargs\u001b[49m\n\u001b[32m    826\u001b[39m \u001b[43m    \u001b[49m\u001b[43m)\u001b[49m  \u001b[38;5;66;03m# Calls into the C++ engine to run the backward pass\u001b[39;00m\n\u001b[32m    827\u001b[39m \u001b[38;5;28;01mfinally\u001b[39;00m:\n\u001b[32m    828\u001b[39m     \u001b[38;5;28;01mif\u001b[39;00m attach_logging_hooks:\n",
      "\u001b[31mRuntimeError\u001b[39m: one of the variables needed for gradient computation has been modified by an inplace operation: [torch.cuda.FloatTensor [16, 8, 64, 81]], which is output 0 of ReluBackward0, is at version 1; expected version 0 instead. Hint: enable anomaly detection to find the operation that failed to compute its gradient, with torch.autograd.set_detect_anomaly(True)."
     ]
    }
   ],
   "source": [
    "class CNN_Skip(nn.Module):\n",
    "    def __init__(self, num_classes):\n",
    "        super().__init__()\n",
    "        self.conv1 = nn.Conv2d(1, 8, 3, 1, 1)\n",
    "        self.conv2 = nn.Conv2d(8, 8, 3, 1, 1)\n",
    "        self.pool = nn.AdaptiveAvgPool2d((4, 4))\n",
    "        self.fc = nn.Linear(8 * 4 * 4, num_classes)\n",
    "\n",
    "    def forward(self, x):\n",
    "        residual = F.relu(self.conv1(x))\n",
    "        out = F.relu(self.conv2(residual))\n",
    "        out += residual  # skip connection\n",
    "        out = self.pool(out)\n",
    "        out = out.view(out.size(0), -1)\n",
    "        return self.fc(out)\n",
    "\n",
    "model_skip = CNN_Skip(num_classes)\n",
    "model_noskip = SimpleCNN(num_classes)\n",
    "\n",
    "acc_noskip = train_and_evaluate(model_noskip, train_loader, val_loader, optim.Adam(model_noskip.parameters(), lr=0.001))\n",
    "acc_skip = train_and_evaluate(model_skip, train_loader, val_loader, optim.Adam(model_skip.parameters(), lr=0.001))\n",
    "\n",
    "print(f\"No Skip Accuracy: {acc_noskip:.2f}%\")\n",
    "print(f\"Skip Connection Accuracy: {acc_skip:.2f}%\")"
   ]
  },
  {
   "cell_type": "markdown",
   "metadata": {},
   "source": [
    "12. Weight Decay"
   ]
  },
  {
   "cell_type": "code",
   "execution_count": null,
   "metadata": {},
   "outputs": [
    {
     "name": "stdout",
     "output_type": "stream",
     "text": [
      "Epoch 1/2 | Train Loss: 0.8776 | Val Loss: 0.5789 | Val Acc: 80.53%\n",
      "F1 Micro: 80.53% | F1 Macro: 64.26%\n",
      "Epoch 2/2 | Train Loss: 0.4753 | Val Loss: 0.4513 | Val Acc: 85.86%\n",
      "F1 Micro: 85.86% | F1 Macro: 75.21%\n",
      "Total training time: 64.58 seconds\n",
      "Epoch 1/2 | Train Loss: 0.8507 | Val Loss: 0.5542 | Val Acc: 82.64%\n",
      "F1 Micro: 82.64% | F1 Macro: 70.39%\n",
      "Epoch 2/2 | Train Loss: 0.4714 | Val Loss: 0.4473 | Val Acc: 85.22%\n",
      "F1 Micro: 85.22% | F1 Macro: 75.09%\n",
      "Total training time: 65.86 seconds\n",
      "Epoch 1/2 | Train Loss: 0.9353 | Val Loss: 0.6453 | Val Acc: 79.42%\n",
      "F1 Micro: 79.42% | F1 Macro: 64.10%\n",
      "Epoch 2/2 | Train Loss: 0.6053 | Val Loss: 0.6011 | Val Acc: 80.30%\n",
      "F1 Micro: 80.30% | F1 Macro: 66.15%\n",
      "Total training time: 64.63 seconds\n",
      "No Weight Decay Accuracy: 85.86%\n",
      "Weight Decay 0.001 Accuracy: 85.22%\n",
      "Weight Decay 0.01 Accuracy: 80.30%\n"
     ]
    }
   ],
   "source": [
    "model_wd0 = SimpleCNN(num_classes)\n",
    "model_wd1 = SimpleCNN(num_classes)\n",
    "model_wd2 = SimpleCNN(num_classes)\n",
    "\n",
    "opt_wd0 = optim.Adam(model_wd0.parameters(), lr=0.001, weight_decay=0.0)\n",
    "opt_wd1 = optim.Adam(model_wd1.parameters(), lr=0.001, weight_decay=0.001)\n",
    "opt_wd2 = optim.Adam(model_wd2.parameters(), lr=0.001, weight_decay=0.01)\n",
    "\n",
    "acc_wd0 = train_and_evaluate(model_wd0, train_loader, val_loader, opt_wd0)\n",
    "acc_wd1 = train_and_evaluate(model_wd1, train_loader, val_loader, opt_wd1)\n",
    "acc_wd2 = train_and_evaluate(model_wd2, train_loader, val_loader, opt_wd2)\n",
    "\n",
    "print(f\"No Weight Decay Accuracy: {acc_wd0:.2f}%\")\n",
    "print(f\"Weight Decay 0.001 Accuracy: {acc_wd1:.2f}%\")\n",
    "print(f\"Weight Decay 0.01 Accuracy: {acc_wd2:.2f}%\")"
   ]
  },
  {
   "cell_type": "markdown",
   "metadata": {},
   "source": [
    "13. Dropout"
   ]
  },
  {
   "cell_type": "code",
   "execution_count": null,
   "metadata": {},
   "outputs": [
    {
     "name": "stdout",
     "output_type": "stream",
     "text": [
      "Epoch 1/2 | Train Loss: 0.8977 | Val Loss: 0.5943 | Val Acc: 80.08%\n",
      "F1 Micro: 80.08% | F1 Macro: 66.01%\n",
      "Epoch 2/2 | Train Loss: 0.5209 | Val Loss: 0.4862 | Val Acc: 84.11%\n",
      "F1 Micro: 84.11% | F1 Macro: 72.73%\n",
      "Total training time: 67.64 seconds\n",
      "Epoch 1/2 | Train Loss: 1.0785 | Val Loss: 0.6782 | Val Acc: 77.19%\n",
      "F1 Micro: 77.19% | F1 Macro: 56.43%\n",
      "Epoch 2/2 | Train Loss: 0.7152 | Val Loss: 0.5240 | Val Acc: 82.64%\n",
      "F1 Micro: 82.64% | F1 Macro: 68.85%\n",
      "Total training time: 68.06 seconds\n",
      "Epoch 1/2 | Train Loss: 1.2044 | Val Loss: 0.8014 | Val Acc: 69.31%\n",
      "F1 Micro: 69.31% | F1 Macro: 30.15%\n",
      "Epoch 2/2 | Train Loss: 0.8685 | Val Loss: 0.6401 | Val Acc: 76.62%\n",
      "F1 Micro: 76.62% | F1 Macro: 53.47%\n",
      "Total training time: 69.46 seconds\n",
      "No Dropout Accuracy: 84.11%\n",
      "Dropout 0.25 Accuracy: 82.64%\n",
      "Dropout 0.50 Accuracy: 76.62%\n"
     ]
    }
   ],
   "source": [
    "class CNN_Dropout(SimpleCNN):\n",
    "    def __init__(self, num_classes, dropout_rate=0.5):\n",
    "        super().__init__(num_classes)\n",
    "        self.dropout = nn.Dropout(dropout_rate)\n",
    "        \n",
    "    def forward(self, x):\n",
    "        x = F.relu(self.conv1(x))\n",
    "        x = F.relu(self.conv2(x))\n",
    "        x = self.pool(x)\n",
    "        x = x.view(x.size(0), -1)\n",
    "        x = F.relu(self.fc1(x))\n",
    "        x = self.dropout(x)\n",
    "        x = self.fc2(x)\n",
    "        return x\n",
    "\n",
    "model_no_dropout = SimpleCNN(num_classes)\n",
    "model_dropout25 = CNN_Dropout(num_classes, dropout_rate=0.25)\n",
    "model_dropout50 = CNN_Dropout(num_classes, dropout_rate=0.5)\n",
    "\n",
    "acc_no_dropout = train_and_evaluate(model_no_dropout, train_loader, val_loader, optim.Adam(model_no_dropout.parameters(), lr=0.001))\n",
    "acc_dropout25 = train_and_evaluate(model_dropout25, train_loader, val_loader, optim.Adam(model_dropout25.parameters(), lr=0.001))\n",
    "acc_dropout50 = train_and_evaluate(model_dropout50, train_loader, val_loader, optim.Adam(model_dropout50.parameters(), lr=0.001))\n",
    "\n",
    "print(f\"No Dropout Accuracy: {acc_no_dropout:.2f}%\")\n",
    "print(f\"Dropout 0.25 Accuracy: {acc_dropout25:.2f}%\")\n",
    "print(f\"Dropout 0.50 Accuracy: {acc_dropout50:.2f}%\")"
   ]
  },
  {
   "cell_type": "code",
   "execution_count": null,
   "metadata": {},
   "outputs": [],
   "source": []
  }
 ],
 "metadata": {
  "kernelspec": {
   "display_name": ".venv",
   "language": "python",
   "name": "python3"
  },
  "language_info": {
   "codemirror_mode": {
    "name": "ipython",
    "version": 3
   },
   "file_extension": ".py",
   "mimetype": "text/x-python",
   "name": "python",
   "nbconvert_exporter": "python",
   "pygments_lexer": "ipython3",
   "version": "3.11.9"
  }
 },
 "nbformat": 4,
 "nbformat_minor": 2
}
