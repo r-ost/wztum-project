{
 "cells": [
  {
   "cell_type": "code",
   "execution_count": 1,
   "metadata": {},
   "outputs": [],
   "source": [
    "import os\n",
    "import torch\n",
    "import torchaudio\n",
    "import matplotlib.pyplot as plt\n",
    "\n",
    "from torch.utils.data import Dataset, DataLoader, random_split\n",
    "import torch.nn as nn\n",
    "import torch.nn.functional as F\n",
    "import torch.optim as optim\n",
    "import soundfile as sf\n",
    "import torchaudio.transforms as T\n"
   ]
  },
  {
   "cell_type": "markdown",
   "metadata": {},
   "source": [
    "# Wczytywanie plików audio"
   ]
  },
  {
   "cell_type": "code",
   "execution_count": 2,
   "metadata": {},
   "outputs": [],
   "source": [
    "class AudioDataset(Dataset):\n",
    "    def __init__(self, root_dir, transform=None):\n",
    "        \"\"\"\n",
    "        If root_dir contains subfolders, each is treated as a label.\n",
    "        Otherwise, root_dir is assumed to be a single class.\n",
    "        Labels are remapped so that only allowed test classes are kept;\n",
    "        all other labels are mapped to \"unknown\".\n",
    "        \"\"\"\n",
    "        self.root_dir = root_dir\n",
    "        self.transform = transform\n",
    "        self.filepaths = []\n",
    "        self.labels = []\n",
    "        self.label2idx = {}\n",
    "        self.idx2label = {}\n",
    "\n",
    "        # Allowed test classes from train (silence is not expected in train)\n",
    "        allowed = {\"yes\", \"no\", \"up\", \"down\", \"left\", \"right\", \"on\", \"off\", \"stop\", \"go\"}\n",
    "        \n",
    "        subdirs = [d for d in os.listdir(root_dir) if os.path.isdir(os.path.join(root_dir, d))]\n",
    "        \n",
    "        if subdirs:\n",
    "            # Find allowed labels that appear in the training folders.\n",
    "            allowed_in_train = sorted([d for d in subdirs if d in allowed])\n",
    "            # If any subfolder is not in allowed, we will assign it the label \"unknown\"\n",
    "            has_unknown = any(d not in allowed for d in subdirs)\n",
    "            \n",
    "            # Create label-to-index mapping:\n",
    "            current_idx = 0\n",
    "            for label in allowed_in_train:\n",
    "                self.label2idx[label] = current_idx\n",
    "                self.idx2label[current_idx] = label\n",
    "                current_idx += 1\n",
    "            if has_unknown:\n",
    "                self.label2idx[\"unknown\"] = current_idx\n",
    "                self.idx2label[current_idx] = \"unknown\"\n",
    "            \n",
    "            # Read files and map labels accordingly.\n",
    "            for label in subdirs:\n",
    "                label_path = os.path.join(root_dir, label)\n",
    "                for f in os.listdir(label_path):\n",
    "                    if f.endswith(\".wav\"):\n",
    "                        filepath = os.path.join(label_path, f)\n",
    "                        # If label is allowed, keep it; otherwise, use \"unknown\"\n",
    "                        mapped_label = label if label in allowed else \"unknown\"\n",
    "                        self.filepaths.append(filepath)\n",
    "                        self.labels.append(self.label2idx[mapped_label])\n",
    "        else:\n",
    "            # No subdirectories – root_dir is treated as one class.\n",
    "            label = os.path.basename(root_dir)\n",
    "            mapped_label = label if label in allowed else \"unknown\"\n",
    "            self.label2idx[mapped_label] = 0\n",
    "            self.idx2label[0] = mapped_label\n",
    "            for f in os.listdir(root_dir):\n",
    "                if f.endswith(\".wav\"):\n",
    "                    self.filepaths.append(os.path.join(root_dir, f))\n",
    "                    self.labels.append(0)\n",
    "\n",
    "    def __len__(self):\n",
    "        return len(self.filepaths)\n",
    "\n",
    "    def __getitem__(self, idx):\n",
    "        filepath = self.filepaths[idx]\n",
    "        label = self.labels[idx]\n",
    "    \n",
    "        # Load audio using soundfile\n",
    "        data, sample_rate = sf.read(filepath)\n",
    "        waveform = torch.tensor(data, dtype=torch.float32).unsqueeze(0)  # Add channel dimension\n",
    "     \n",
    "        if self.transform:\n",
    "            waveform = self.transform(waveform)\n",
    "    \n",
    "        return waveform, label\n",
    "\n",
    "# Transformation: MelSpectrogram + AmplitudeToDB\n",
    "mel_transform = T.MelSpectrogram(sample_rate=16000, n_mels=64)\n",
    "db_transform = T.AmplitudeToDB()\n",
    "\n",
    "def to_mel_spectrogram(waveform):\n",
    "    waveform = waveform.float() \n",
    "    spec = mel_transform(waveform)\n",
    "    spec_db = db_transform(spec)\n",
    "    return spec_db  # shape: [1, n_mels, time]\n",
    "\n",
    "# Function collate, which pads spectrograms of different time lengths\n",
    "def pad_collate_fn(batch):\n",
    "    \"\"\"\n",
    "    batch: list of tuples (spectrogram, label)\n",
    "    We assume each spectrogram has shape [1, n_mels, time]\n",
    "    \"\"\"\n",
    "    spectrograms, labels = zip(*batch)\n",
    "    \n",
    "    max_time = max(s.size(2) for s in spectrograms)\n",
    "    \n",
    "    padded_spectrograms = []\n",
    "    for s in spectrograms:\n",
    "        pad_amount = max_time - s.size(2)\n",
    "        s_padded = F.pad(s, (0, pad_amount), mode='constant', value=0)\n",
    "        padded_spectrograms.append(s_padded)\n",
    "    \n",
    "    batch_spectrograms = torch.stack(padded_spectrograms)\n",
    "    batch_labels = torch.tensor(labels)\n",
    "    return batch_spectrograms, batch_labels"
   ]
  },
  {
   "cell_type": "markdown",
   "metadata": {},
   "source": [
    "# EDA"
   ]
  },
  {
   "cell_type": "code",
   "execution_count": 3,
   "metadata": {},
   "outputs": [
    {
     "name": "stdout",
     "output_type": "stream",
     "text": [
      "Liczba przykładów w dataset: 67127\n",
      "Kształt waveforma: torch.Size([1, 15604])\n",
      "Etykieta (indeks): 4\n",
      "Etykieta (nazwisko): off\n"
     ]
    },
    {
     "data": {
      "image/png": "[encoded data removed]",
      "text/plain": [
       "<Figure size 1000x300 with 1 Axes>"
      ]
     },
     "metadata": {},
     "output_type": "display_data"
    }
   ],
   "source": [
    "# Test usage of AudioDataset\n",
    "dataset = AudioDataset(root_dir=os.path.join(\"..\", \"data\", \"train\", \"audio\"), transform=None)\n",
    "\n",
    "print(\"Liczba przykładów w dataset:\", len(dataset))\n",
    "\n",
    "waveform, label = dataset[2000]\n",
    "print(\"Kształt waveforma:\", waveform.shape)  # [1, no. of samples]\n",
    "print(\"Etykieta (indeks):\", label)\n",
    "print(\"Etykieta (nazwisko):\", dataset.idx2label[label])\n",
    "\n",
    "plt.figure(figsize=(10, 3))\n",
    "plt.title(f\"Waveform - klasa: {dataset.idx2label[label]}\")\n",
    "plt.plot(waveform.t().numpy())\n",
    "plt.show()\n"
   ]
  },
  {
   "cell_type": "markdown",
   "metadata": {},
   "source": [
    "# Spektogram"
   ]
  },
  {
   "cell_type": "code",
   "execution_count": 4,
   "metadata": {},
   "outputs": [],
   "source": [
    "mel_transform = torchaudio.transforms.MelSpectrogram(\n",
    "    sample_rate=16000, \n",
    "    n_mels=64\n",
    ")\n",
    "db_transform = torchaudio.transforms.AmplitudeToDB()\n",
    "\n",
    "def to_mel_spectrogram(waveform):\n",
    "    spec = mel_transform(waveform)\n",
    "    spec_db = db_transform(spec)\n",
    "    return spec_db\n"
   ]
  },
  {
   "cell_type": "code",
   "execution_count": 5,
   "metadata": {},
   "outputs": [
    {
     "name": "stdout",
     "output_type": "stream",
     "text": [
      "Kształt spektrogramu (Mel, dB): torch.Size([1, 64, 81])\n"
     ]
    },
    {
     "data": {
      "image/png": "[encoded data removed]",
      "text/plain": [
       "<Figure size 800x600 with 2 Axes>"
      ]
     },
     "metadata": {},
     "output_type": "display_data"
    }
   ],
   "source": [
    "waveform, label = dataset[0]\n",
    "waveform = waveform.float()  # conversion to float32\n",
    "spec_db = to_mel_spectrogram(waveform)\n",
    "\n",
    "print(\"Kształt spektrogramu (Mel, dB):\", spec_db.shape)  # [1, n_mels, time]\n",
    "\n",
    "plt.figure(figsize=(8, 6))\n",
    "plt.title(f\"Mel Spectrogram (dB) - {dataset.idx2label[label]}\")\n",
    "plt.imshow(spec_db.squeeze().numpy(), origin=\"lower\", aspect=\"auto\", cmap=\"viridis\")\n",
    "plt.colorbar()\n",
    "plt.show()\n"
   ]
  },
  {
   "cell_type": "markdown",
   "metadata": {},
   "source": [
    "# Zaladowanie danych treningowych"
   ]
  },
  {
   "cell_type": "code",
   "execution_count": 6,
   "metadata": {},
   "outputs": [
    {
     "name": "stdout",
     "output_type": "stream",
     "text": [
      "Kształt X (spektrogramu): torch.Size([1, 64, 81])\n",
      "Etykieta: 4 off\n"
     ]
    }
   ],
   "source": [
    "dataset_spec = AudioDataset(root_dir=os.path.join(\"..\", \"data\", \"train\", \"audio\"), transform=to_mel_spectrogram)\n",
    "\n",
    "# Checking of shape\n",
    "x, y = dataset_spec[0]\n",
    "print(\"Kształt X (spektrogramu):\", x.shape)  # [1, n_mels, time]\n",
    "print(\"Etykieta:\", y, dataset_spec.idx2label[y])\n"
   ]
  },
  {
   "cell_type": "markdown",
   "metadata": {},
   "source": [
    "## Podział na zbiór treningowy i walidacyjny"
   ]
  },
  {
   "cell_type": "code",
   "execution_count": 7,
   "metadata": {},
   "outputs": [
    {
     "name": "stdout",
     "output_type": "stream",
     "text": [
      "Liczba próbek w train_loader: 53701\n",
      "Liczba próbek w val_loader: 13426\n"
     ]
    }
   ],
   "source": [
    "train_size = int(0.8 * len(dataset_spec))\n",
    "val_size = len(dataset_spec) - train_size\n",
    "\n",
    "train_dataset, val_dataset = random_split(dataset_spec, [train_size, val_size])\n",
    "\n",
    "batch_size = 16\n",
    "train_loader = DataLoader(train_dataset, batch_size=batch_size, shuffle=True, collate_fn=pad_collate_fn)\n",
    "val_loader = DataLoader(val_dataset, batch_size=batch_size, shuffle=False, collate_fn=pad_collate_fn)\n",
    "\n",
    "print(\"Liczba próbek w train_loader:\", len(train_dataset))\n",
    "print(\"Liczba próbek w val_loader:\", len(val_dataset))\n"
   ]
  },
  {
   "cell_type": "markdown",
   "metadata": {},
   "source": [
    "## Accuracy dla przypisania najliczniej reprezentowanej klasy"
   ]
  },
  {
   "cell_type": "code",
   "execution_count": 8,
   "metadata": {},
   "outputs": [
    {
     "name": "stdout",
     "output_type": "stream",
     "text": [
      "Najczęstsza klasa: unknown\n",
      "Baseline accuracy (majority class): 64.72%\n"
     ]
    }
   ],
   "source": [
    "all_labels = [dataset_spec[i][1] for i in range(len(dataset_spec))]\n",
    "most_common_label = max(set(all_labels), key=all_labels.count)\n",
    "baseline_acc = all_labels.count(most_common_label) / len(all_labels) * 100\n",
    "\n",
    "print(f\"Najczęstsza klasa: {dataset_spec.idx2label[most_common_label]}\")\n",
    "print(f\"Baseline accuracy (majority class): {baseline_acc:.2f}%\")\n"
   ]
  },
  {
   "cell_type": "markdown",
   "metadata": {},
   "source": [
    "# CNN"
   ]
  },
  {
   "cell_type": "code",
   "execution_count": 9,
   "metadata": {},
   "outputs": [],
   "source": [
    "class SimpleCNN(nn.Module):\n",
    "    def __init__(self, num_classes):\n",
    "        super(SimpleCNN, self).__init__()\n",
    "        # Input: [batch, 1, n_mels, time]\n",
    "\n",
    "        self.conv1 = nn.Conv2d(1, 8, kernel_size=3, stride=1, padding=1)\n",
    "        self.conv2 = nn.Conv2d(8, 16, kernel_size=3, stride=1, padding=1)\n",
    "        \n",
    "        self.pool = nn.AdaptiveMaxPool2d((8, 8))  # -> [batch, 16, 8, 8]\n",
    "\n",
    "        self.fc1 = nn.Linear(16 * 8 * 8, 64)\n",
    "        self.fc2 = nn.Linear(64, num_classes)\n",
    "\n",
    "    def forward(self, x):\n",
    "        # x: [batch, 1, n_mels, time]\n",
    "        x = F.relu(self.conv1(x))    # -> [batch, 8, n_mels, time]\n",
    "        x = F.relu(self.conv2(x))    # -> [batch, 16, n_mels, time]\n",
    "        x = self.pool(x)            # -> [batch, 16, 8, 8]\n",
    "        x = x.view(x.size(0), -1)   # flattening to [batch, 16*8*8]\n",
    "        x = F.relu(self.fc1(x))     # -> [batch, 64]\n",
    "        x = self.fc2(x)             # -> [batch, num_classes]\n",
    "        return x\n"
   ]
  },
  {
   "cell_type": "code",
   "execution_count": 10,
   "metadata": {},
   "outputs": [
    {
     "name": "stdout",
     "output_type": "stream",
     "text": [
      "Urządzenie: cuda\n"
     ]
    }
   ],
   "source": [
    "device = torch.device(\"cuda\" if torch.cuda.is_available() else \"cpu\")\n",
    "print(\"Urządzenie:\", device)"
   ]
  },
  {
   "cell_type": "markdown",
   "metadata": {},
   "source": [
    "## Trening CNN"
   ]
  },
  {
   "cell_type": "code",
   "execution_count": 11,
   "metadata": {},
   "outputs": [
    {
     "name": "stdout",
     "output_type": "stream",
     "text": [
      "[Epoch 1/2] Loss: 0.8458\n",
      "[Epoch 2/2] Loss: 0.4453\n"
     ]
    }
   ],
   "source": [
    "num_classes = len(dataset_spec.label2idx)\n",
    "model = SimpleCNN(num_classes).to(device)\n",
    "\n",
    "criterion = nn.CrossEntropyLoss()\n",
    "optimizer = optim.Adam(model.parameters(), lr=0.001)\n",
    "\n",
    "num_epochs = 2  \n",
    "\n",
    "for epoch in range(num_epochs):\n",
    "    model.train()\n",
    "    running_loss = 0.0\n",
    "\n",
    "    for i, (inputs, labels) in enumerate(train_loader):\n",
    "        # inputs: [batch_size, 1, n_mels, time]\n",
    "        # labels: [batch_size]\n",
    "        inputs = inputs.to(device)\n",
    "        labels = labels.to(device)\n",
    "\n",
    "        \n",
    "        optimizer.zero_grad()\n",
    "\n",
    "        # Forward\n",
    "        outputs = model(inputs)\n",
    "        loss = criterion(outputs, labels)\n",
    "\n",
    "        # Backward + opt\n",
    "        loss.backward()\n",
    "        optimizer.step()\n",
    "\n",
    "        running_loss += loss.item()\n",
    "\n",
    "    # Average loss per epoch\n",
    "    epoch_loss = running_loss / len(train_loader)\n",
    "    print(f\"[Epoch {epoch+1}/{num_epochs}] Loss: {epoch_loss:.4f}\")\n"
   ]
  },
  {
   "cell_type": "markdown",
   "metadata": {},
   "source": [
    "# Walidacja"
   ]
  },
  {
   "cell_type": "code",
   "execution_count": 12,
   "metadata": {},
   "outputs": [
    {
     "name": "stdout",
     "output_type": "stream",
     "text": [
      "Val Accuracy: 86.48%\n",
      "\n"
     ]
    }
   ],
   "source": [
    "# Validation\n",
    "model.eval()\n",
    "correct = 0\n",
    "total = 0\n",
    "with torch.no_grad():\n",
    "    for inputs_val, labels_val in val_loader:\n",
    "        inputs_val = inputs_val.to(device)\n",
    "        labels_val = labels_val.to(device)\n",
    "\n",
    "        outputs_val = model(inputs_val)\n",
    "        _, predicted = torch.max(outputs_val, 1)\n",
    "        total += labels_val.size(0)\n",
    "        correct += (predicted == labels_val).sum().item()\n",
    "\n",
    "val_acc = 100.0 * correct / total\n",
    "print(f\"Val Accuracy: {val_acc:.2f}%\\n\")"
   ]
  },
  {
   "cell_type": "markdown",
   "metadata": {},
   "source": [
    "# Testy"
   ]
  },
  {
   "cell_type": "markdown",
   "metadata": {},
   "source": [
    "0. Validation setup"
   ]
  },
  {
   "cell_type": "code",
   "execution_count": 13,
   "metadata": {},
   "outputs": [],
   "source": [
    "def train_and_evaluate(model, train_loader, val_loader, optimizer, scheduler=None, num_epochs=2):\n",
    "    model.to(device)\n",
    "    criterion = nn.CrossEntropyLoss()\n",
    "\n",
    "    for epoch in range(num_epochs):\n",
    "        model.train()\n",
    "        running_loss = 0.0\n",
    "\n",
    "        for inputs, labels in train_loader:\n",
    "            inputs = inputs.to(device)\n",
    "            labels = labels.to(device)\n",
    "\n",
    "            optimizer.zero_grad()\n",
    "            outputs = model(inputs)\n",
    "            loss = criterion(outputs, labels)\n",
    "            loss.backward()\n",
    "            optimizer.step()\n",
    "\n",
    "            running_loss += loss.item()\n",
    "\n",
    "        avg_train_loss = running_loss / len(train_loader)\n",
    "\n",
    "        # Validation phase\n",
    "        model.eval()\n",
    "        correct = 0\n",
    "        total = 0\n",
    "        val_loss = 0.0\n",
    "\n",
    "        with torch.no_grad():\n",
    "            for inputs_val, labels_val in val_loader:\n",
    "                inputs_val = inputs_val.to(device)\n",
    "                labels_val = labels_val.to(device)\n",
    "\n",
    "                outputs_val = model(inputs_val)\n",
    "                loss_val = criterion(outputs_val, labels_val)\n",
    "                val_loss += loss_val.item()\n",
    "\n",
    "                _, predicted = torch.max(outputs_val, 1)\n",
    "                total += labels_val.size(0)\n",
    "                correct += (predicted == labels_val).sum().item()\n",
    "\n",
    "        avg_val_loss = val_loss / len(val_loader)\n",
    "        val_acc = 100.0 * correct / total\n",
    "\n",
    "        # Learning rate scheduling\n",
    "        if scheduler:\n",
    "            if isinstance(scheduler, torch.optim.lr_scheduler.ReduceLROnPlateau):\n",
    "                scheduler.step(avg_val_loss)\n",
    "            else:\n",
    "                scheduler.step()\n",
    "\n",
    "        print(f\"Epoch {epoch+1}/{num_epochs} | Train Loss: {avg_train_loss:.4f} | Val Loss: {avg_val_loss:.4f} | Val Acc: {val_acc:.2f}%\")\n",
    "\n",
    "    return val_acc"
   ]
  },
  {
   "cell_type": "markdown",
   "metadata": {},
   "source": [
    "4. Activation fuction (ReLU vs Sigmoid)"
   ]
  },
  {
   "cell_type": "code",
   "execution_count": 14,
   "metadata": {},
   "outputs": [],
   "source": [
    "def test_activation_function():\n",
    "    relu_model = SimpleCNN(num_classes=10)\n",
    "    sigmoid_model = SimpleCNN(num_classes=10)\n",
    "\n",
    "    relu_model.conv1 = nn.Sequential(nn.Conv2d(1, 8, 3, 1, 1), nn.ReLU())\n",
    "    sigmoid_model.conv1 = nn.Sequential(nn.Conv2d(1, 8, 3, 1, 1), nn.Sigmoid())\n",
    "\n",
    "    dummy_input = torch.randn(2, 1, 64, 100)  # [batch, channels, n_mels, time]\n",
    "    relu_out = relu_model(dummy_input)\n",
    "    sigmoid_out = sigmoid_model(dummy_input)\n",
    "\n",
    "    assert relu_out.shape == sigmoid_out.shape == (2, 10)"
   ]
  },
  {
   "cell_type": "code",
   "execution_count": 15,
   "metadata": {},
   "outputs": [
    {
     "name": "stdout",
     "output_type": "stream",
     "text": [
      "Epoch 1/2 | Train Loss: 0.8851 | Val Loss: 0.6048 | Val Acc: 80.13%\n",
      "Epoch 2/2 | Train Loss: 0.5406 | Val Loss: 0.5418 | Val Acc: 82.53%\n",
      "Epoch 1/2 | Train Loss: 1.2694 | Val Loss: 1.1033 | Val Acc: 67.10%\n",
      "Epoch 2/2 | Train Loss: 0.9942 | Val Loss: 0.9081 | Val Acc: 70.56%\n",
      "ReLU Accuracy: 82.53%\n",
      "Sigmoid Accuracy: 70.56%\n"
     ]
    }
   ],
   "source": [
    "model_relu = SimpleCNN(num_classes)\n",
    "model_relu.conv1 = nn.Conv2d(1, 8, kernel_size=3, stride=1, padding=1)\n",
    "model_relu.conv2 = nn.Conv2d(8, 16, kernel_size=3, stride=1, padding=1)\n",
    "\n",
    "model_sigmoid = SimpleCNN(num_classes)\n",
    "model_sigmoid.conv1 = nn.Sequential(nn.Conv2d(1, 8, 3, 1, 1), nn.Sigmoid())\n",
    "model_sigmoid.conv2 = nn.Sequential(nn.Conv2d(8, 16, 3, 1, 1), nn.Sigmoid())\n",
    "\n",
    "acc_relu = train_and_evaluate(model_relu, train_loader, val_loader, optim.Adam(model_relu.parameters(), lr=0.001))\n",
    "acc_sigmoid = train_and_evaluate(model_sigmoid, train_loader, val_loader, optim.Adam(model_sigmoid.parameters(), lr=0.001))\n",
    "\n",
    "print(f\"ReLU Accuracy: {acc_relu:.2f}%\")\n",
    "print(f\"Sigmoid Accuracy: {acc_sigmoid:.2f}%\")"
   ]
  },
  {
   "cell_type": "markdown",
   "metadata": {},
   "source": [
    "5. Pooling"
   ]
  },
  {
   "cell_type": "code",
   "execution_count": 16,
   "metadata": {},
   "outputs": [],
   "source": [
    "def test_pooling_variants():\n",
    "    input_tensor = torch.randn(4, 8, 32, 32)\n",
    "\n",
    "    max_pool = nn.AdaptiveMaxPool2d((8, 8))(input_tensor)\n",
    "    avg_pool = nn.AdaptiveAvgPool2d((8, 8))(input_tensor)\n",
    "    global_pool = nn.AdaptiveMaxPool2d((1, 1))(input_tensor)\n",
    "\n",
    "    assert max_pool.shape == avg_pool.shape == (4, 8, 8, 8)\n",
    "    assert global_pool.shape == (4, 8, 1, 1)"
   ]
  },
  {
   "cell_type": "code",
   "execution_count": 17,
   "metadata": {},
   "outputs": [
    {
     "name": "stdout",
     "output_type": "stream",
     "text": [
      "Epoch 1/2 | Train Loss: 0.9618 | Val Loss: 0.6552 | Val Acc: 78.55%\n",
      "Epoch 2/2 | Train Loss: 0.5739 | Val Loss: 0.5026 | Val Acc: 83.21%\n",
      "Epoch 1/2 | Train Loss: 1.0931 | Val Loss: 0.7844 | Val Acc: 75.03%\n",
      "Epoch 2/2 | Train Loss: 0.6264 | Val Loss: 0.5124 | Val Acc: 83.17%\n",
      "MaxPool Accuracy: 83.21%\n",
      "AvgPool Accuracy: 83.17%\n"
     ]
    }
   ],
   "source": [
    "class CNN_MaxPool(SimpleCNN):\n",
    "    def __init__(self, num_classes):\n",
    "        super().__init__(num_classes)\n",
    "        self.pool = nn.AdaptiveMaxPool2d((8, 8))\n",
    "\n",
    "class CNN_AvgPool(SimpleCNN):\n",
    "    def __init__(self, num_classes):\n",
    "        super().__init__(num_classes)\n",
    "        self.pool = nn.AdaptiveAvgPool2d((8, 8))\n",
    "\n",
    "model_max = CNN_MaxPool(num_classes)\n",
    "model_avg = CNN_AvgPool(num_classes)\n",
    "\n",
    "acc_max = train_and_evaluate(model_max, train_loader, val_loader, optim.Adam(model_max.parameters(), lr=0.001))\n",
    "acc_avg = train_and_evaluate(model_avg, train_loader, val_loader, optim.Adam(model_avg.parameters(), lr=0.001))\n",
    "\n",
    "print(f\"MaxPool Accuracy: {acc_max:.2f}%\")\n",
    "print(f\"AvgPool Accuracy: {acc_avg:.2f}%\")"
   ]
  },
  {
   "cell_type": "markdown",
   "metadata": {},
   "source": [
    "6. Initialization"
   ]
  },
  {
   "cell_type": "code",
   "execution_count": 21,
   "metadata": {},
   "outputs": [],
   "source": [
    "def test_initialization_methods():\n",
    "    conv = nn.Conv2d(1, 8, kernel_size=3, stride=1, padding=1)\n",
    "    torch.nn.init.kaiming_normal_(conv.weight, nonlinearity='relu')\n",
    "    kaiming_std = conv.weight.std().item()\n",
    "\n",
    "    conv = nn.Conv2d(1, 8, kernel_size=3, stride=1, padding=1)\n",
    "    torch.nn.init.xavier_normal_(conv.weight)\n",
    "    xavier_std = conv.weight.std().item()\n",
    "\n",
    "    assert kaiming_std != xavier_std "
   ]
  },
  {
   "cell_type": "code",
   "execution_count": 22,
   "metadata": {},
   "outputs": [
    {
     "name": "stdout",
     "output_type": "stream",
     "text": [
      "He Init Accuracy: 85.11%\n",
      "Xavier Init Accuracy: 89.28%\n"
     ]
    }
   ],
   "source": [
    "def apply_he(model):\n",
    "    for m in model.modules():\n",
    "        if isinstance(m, (nn.Conv2d, nn.Linear)):\n",
    "            nn.init.kaiming_uniform_(m.weight, nonlinearity='relu')\n",
    "\n",
    "def apply_xavier(model):\n",
    "    for m in model.modules():\n",
    "        if isinstance(m, (nn.Conv2d, nn.Linear)):\n",
    "            nn.init.xavier_uniform_(m.weight)\n",
    "\n",
    "model_he = SimpleCNN(num_classes)\n",
    "model_xavier = SimpleCNN(num_classes)\n",
    "\n",
    "apply_he(model_he)\n",
    "apply_xavier(model_xavier)\n",
    "\n",
    "acc_he = train_and_evaluate(model_he, train_loader, val_loader, optim.Adam(model_he.parameters(), lr=0.001))\n",
    "acc_xavier = train_and_evaluate(model_xavier, train_loader, val_loader, optim.Adam(model_xavier.parameters(), lr=0.001))\n",
    "\n",
    "print(f\"He Init Accuracy: {acc_he:.2f}%\")\n",
    "print(f\"Xavier Init Accuracy: {acc_xavier:.2f}%\")"
   ]
  },
  {
   "cell_type": "markdown",
   "metadata": {},
   "source": [
    "7. Optimizer: SGD vs Adam vs SGD+Momentum"
   ]
  },
  {
   "cell_type": "code",
   "execution_count": 23,
   "metadata": {},
   "outputs": [],
   "source": [
    "def test_optimizer_variants():\n",
    "    model = SimpleCNN(num_classes=10)\n",
    "    sgd = optim.SGD(model.parameters(), lr=0.01)\n",
    "    adam = optim.Adam(model.parameters(), lr=0.01)\n",
    "    momentum = optim.SGD(model.parameters(), lr=0.01, momentum=0.9)\n",
    "\n",
    "    assert isinstance(sgd, optim.Optimizer)\n",
    "    assert isinstance(adam, optim.Optimizer)\n",
    "    assert isinstance(momentum, optim.Optimizer)"
   ]
  },
  {
   "cell_type": "code",
   "execution_count": 24,
   "metadata": {},
   "outputs": [
    {
     "name": "stdout",
     "output_type": "stream",
     "text": [
      "SGD Accuracy: 89.61%\n",
      "Adam Accuracy: 88.49%\n",
      "Momentum Accuracy: 73.93%\n"
     ]
    }
   ],
   "source": [
    "model_sgd = SimpleCNN(num_classes)\n",
    "model_adam = SimpleCNN(num_classes)\n",
    "model_momentum = SimpleCNN(num_classes)\n",
    "\n",
    "opt_sgd = optim.SGD(model_sgd.parameters(), lr=0.01)\n",
    "opt_adam = optim.Adam(model_adam.parameters(), lr=0.001)\n",
    "opt_momentum = optim.SGD(model_momentum.parameters(), lr=0.01, momentum=0.9)\n",
    "\n",
    "acc_sgd = train_and_evaluate(model_sgd, train_loader, val_loader, opt_sgd)\n",
    "acc_adam = train_and_evaluate(model_adam, train_loader, val_loader, opt_adam)\n",
    "acc_momentum = train_and_evaluate(model_momentum, train_loader, val_loader, opt_momentum)\n",
    "\n",
    "print(f\"SGD Accuracy: {acc_sgd:.2f}%\")\n",
    "print(f\"Adam Accuracy: {acc_adam:.2f}%\")\n",
    "print(f\"Momentum Accuracy: {acc_momentum:.2f}%\")"
   ]
  },
  {
   "cell_type": "markdown",
   "metadata": {},
   "source": [
    "8. Batch Size"
   ]
  },
  {
   "cell_type": "code",
   "execution_count": 19,
   "metadata": {},
   "outputs": [],
   "source": [
    "def test_batch_size_effect():\n",
    "    from torch.utils.data import TensorDataset, DataLoader\n",
    "\n",
    "    dummy_data = torch.randn(100, 1, 64, 50)\n",
    "    dummy_labels = torch.randint(0, 10, (100,))\n",
    "    dataset = TensorDataset(dummy_data, dummy_labels)\n",
    "\n",
    "    loader_small = DataLoader(dataset, batch_size=8)\n",
    "    loader_large = DataLoader(dataset, batch_size=32)\n",
    "\n",
    "    assert len(list(loader_small)) > len(list(loader_large))"
   ]
  },
  {
   "cell_type": "code",
   "execution_count": 20,
   "metadata": {},
   "outputs": [
    {
     "name": "stdout",
     "output_type": "stream",
     "text": [
      "Epoch 1/2 | Train Loss: 0.8010 | Val Loss: 0.5027 | Val Acc: 83.34%\n",
      "Epoch 2/2 | Train Loss: 0.4488 | Val Loss: 0.4237 | Val Acc: 86.76%\n",
      "Epoch 1/2 | Train Loss: 0.8343 | Val Loss: 0.5516 | Val Acc: 82.61%\n",
      "Epoch 2/2 | Train Loss: 0.4790 | Val Loss: 0.4491 | Val Acc: 85.84%\n"
     ]
    },
    {
     "ename": "OutOfMemoryError",
     "evalue": "CUDA out of memory. Tried to allocate 952.00 MiB. GPU 0 has a total capacity of 3.68 GiB of which 847.38 MiB is free. Including non-PyTorch memory, this process has 2.83 GiB memory in use. Of the allocated memory 2.41 GiB is allocated by PyTorch, and 320.75 MiB is reserved by PyTorch but unallocated. If reserved but unallocated memory is large try setting PYTORCH_CUDA_ALLOC_CONF=expandable_segments:True to avoid fragmentation.  See documentation for Memory Management  (https://pytorch.org/docs/stable/notes/cuda.html#environment-variables)",
     "output_type": "error",
     "traceback": [
      "\u001b[31m---------------------------------------------------------------------------\u001b[39m",
      "\u001b[31mOutOfMemoryError\u001b[39m                          Traceback (most recent call last)",
      "\u001b[36mCell\u001b[39m\u001b[36m \u001b[39m\u001b[32mIn[20]\u001b[39m\u001b[32m, line 13\u001b[39m\n\u001b[32m     11\u001b[39m acc_bs8 = train_and_evaluate(model_bs8, loader_bs8, val_loader, optim.Adam(model_bs8.parameters(), lr=\u001b[32m0.001\u001b[39m))\n\u001b[32m     12\u001b[39m acc_bs16 = train_and_evaluate(model_bs16, loader_bs16, val_loader, optim.Adam(model_bs16.parameters(), lr=\u001b[32m0.001\u001b[39m))\n\u001b[32m---> \u001b[39m\u001b[32m13\u001b[39m acc_bs32 = \u001b[43mtrain_and_evaluate\u001b[49m\u001b[43m(\u001b[49m\u001b[43mmodel_bs32\u001b[49m\u001b[43m,\u001b[49m\u001b[43m \u001b[49m\u001b[43mloader_bs32\u001b[49m\u001b[43m,\u001b[49m\u001b[43m \u001b[49m\u001b[43mval_loader\u001b[49m\u001b[43m,\u001b[49m\u001b[43m \u001b[49m\u001b[43moptim\u001b[49m\u001b[43m.\u001b[49m\u001b[43mAdam\u001b[49m\u001b[43m(\u001b[49m\u001b[43mmodel_bs32\u001b[49m\u001b[43m.\u001b[49m\u001b[43mparameters\u001b[49m\u001b[43m(\u001b[49m\u001b[43m)\u001b[49m\u001b[43m,\u001b[49m\u001b[43m \u001b[49m\u001b[43mlr\u001b[49m\u001b[43m=\u001b[49m\u001b[32;43m0.001\u001b[39;49m\u001b[43m)\u001b[49m\u001b[43m)\u001b[49m\n\u001b[32m     15\u001b[39m \u001b[38;5;28mprint\u001b[39m(\u001b[33mf\u001b[39m\u001b[33m\"\u001b[39m\u001b[33mBatch Size 8 Accuracy: \u001b[39m\u001b[38;5;132;01m{\u001b[39;00macc_bs8\u001b[38;5;132;01m:\u001b[39;00m\u001b[33m.2f\u001b[39m\u001b[38;5;132;01m}\u001b[39;00m\u001b[33m%\u001b[39m\u001b[33m\"\u001b[39m)\n\u001b[32m     16\u001b[39m \u001b[38;5;28mprint\u001b[39m(\u001b[33mf\u001b[39m\u001b[33m\"\u001b[39m\u001b[33mBatch Size 16 Accuracy: \u001b[39m\u001b[38;5;132;01m{\u001b[39;00macc_bs16\u001b[38;5;132;01m:\u001b[39;00m\u001b[33m.2f\u001b[39m\u001b[38;5;132;01m}\u001b[39;00m\u001b[33m%\u001b[39m\u001b[33m\"\u001b[39m)\n",
      "\u001b[36mCell\u001b[39m\u001b[36m \u001b[39m\u001b[32mIn[18]\u001b[39m\u001b[32m, line 16\u001b[39m, in \u001b[36mtrain_and_evaluate\u001b[39m\u001b[34m(model, train_loader, val_loader, optimizer, scheduler, num_epochs)\u001b[39m\n\u001b[32m     14\u001b[39m outputs = model(inputs)\n\u001b[32m     15\u001b[39m loss = criterion(outputs, labels)\n\u001b[32m---> \u001b[39m\u001b[32m16\u001b[39m \u001b[43mloss\u001b[49m\u001b[43m.\u001b[49m\u001b[43mbackward\u001b[49m\u001b[43m(\u001b[49m\u001b[43m)\u001b[49m\n\u001b[32m     17\u001b[39m optimizer.step()\n\u001b[32m     19\u001b[39m running_loss += loss.item()\n",
      "\u001b[36mFile \u001b[39m\u001b[32m~/Studia/WzTUM/projekt/wztum-project/.venv/lib/python3.13/site-packages/torch/_tensor.py:648\u001b[39m, in \u001b[36mTensor.backward\u001b[39m\u001b[34m(self, gradient, retain_graph, create_graph, inputs)\u001b[39m\n\u001b[32m    638\u001b[39m \u001b[38;5;28;01mif\u001b[39;00m has_torch_function_unary(\u001b[38;5;28mself\u001b[39m):\n\u001b[32m    639\u001b[39m     \u001b[38;5;28;01mreturn\u001b[39;00m handle_torch_function(\n\u001b[32m    640\u001b[39m         Tensor.backward,\n\u001b[32m    641\u001b[39m         (\u001b[38;5;28mself\u001b[39m,),\n\u001b[32m   (...)\u001b[39m\u001b[32m    646\u001b[39m         inputs=inputs,\n\u001b[32m    647\u001b[39m     )\n\u001b[32m--> \u001b[39m\u001b[32m648\u001b[39m \u001b[43mtorch\u001b[49m\u001b[43m.\u001b[49m\u001b[43mautograd\u001b[49m\u001b[43m.\u001b[49m\u001b[43mbackward\u001b[49m\u001b[43m(\u001b[49m\n\u001b[32m    649\u001b[39m \u001b[43m    \u001b[49m\u001b[38;5;28;43mself\u001b[39;49m\u001b[43m,\u001b[49m\u001b[43m \u001b[49m\u001b[43mgradient\u001b[49m\u001b[43m,\u001b[49m\u001b[43m \u001b[49m\u001b[43mretain_graph\u001b[49m\u001b[43m,\u001b[49m\u001b[43m \u001b[49m\u001b[43mcreate_graph\u001b[49m\u001b[43m,\u001b[49m\u001b[43m \u001b[49m\u001b[43minputs\u001b[49m\u001b[43m=\u001b[49m\u001b[43minputs\u001b[49m\n\u001b[32m    650\u001b[39m \u001b[43m\u001b[49m\u001b[43m)\u001b[49m\n",
      "\u001b[36mFile \u001b[39m\u001b[32m~/Studia/WzTUM/projekt/wztum-project/.venv/lib/python3.13/site-packages/torch/autograd/__init__.py:353\u001b[39m, in \u001b[36mbackward\u001b[39m\u001b[34m(tensors, grad_tensors, retain_graph, create_graph, grad_variables, inputs)\u001b[39m\n\u001b[32m    348\u001b[39m     retain_graph = create_graph\n\u001b[32m    350\u001b[39m \u001b[38;5;66;03m# The reason we repeat the same comment below is that\u001b[39;00m\n\u001b[32m    351\u001b[39m \u001b[38;5;66;03m# some Python versions print out the first line of a multi-line function\u001b[39;00m\n\u001b[32m    352\u001b[39m \u001b[38;5;66;03m# calls in the traceback and some print out the last line\u001b[39;00m\n\u001b[32m--> \u001b[39m\u001b[32m353\u001b[39m \u001b[43m_engine_run_backward\u001b[49m\u001b[43m(\u001b[49m\n\u001b[32m    354\u001b[39m \u001b[43m    \u001b[49m\u001b[43mtensors\u001b[49m\u001b[43m,\u001b[49m\n\u001b[32m    355\u001b[39m \u001b[43m    \u001b[49m\u001b[43mgrad_tensors_\u001b[49m\u001b[43m,\u001b[49m\n\u001b[32m    356\u001b[39m \u001b[43m    \u001b[49m\u001b[43mretain_graph\u001b[49m\u001b[43m,\u001b[49m\n\u001b[32m    357\u001b[39m \u001b[43m    \u001b[49m\u001b[43mcreate_graph\u001b[49m\u001b[43m,\u001b[49m\n\u001b[32m    358\u001b[39m \u001b[43m    \u001b[49m\u001b[43minputs\u001b[49m\u001b[43m,\u001b[49m\n\u001b[32m    359\u001b[39m \u001b[43m    \u001b[49m\u001b[43mallow_unreachable\u001b[49m\u001b[43m=\u001b[49m\u001b[38;5;28;43;01mTrue\u001b[39;49;00m\u001b[43m,\u001b[49m\n\u001b[32m    360\u001b[39m \u001b[43m    \u001b[49m\u001b[43maccumulate_grad\u001b[49m\u001b[43m=\u001b[49m\u001b[38;5;28;43;01mTrue\u001b[39;49;00m\u001b[43m,\u001b[49m\n\u001b[32m    361\u001b[39m \u001b[43m\u001b[49m\u001b[43m)\u001b[49m\n",
      "\u001b[36mFile \u001b[39m\u001b[32m~/Studia/WzTUM/projekt/wztum-project/.venv/lib/python3.13/site-packages/torch/autograd/graph.py:824\u001b[39m, in \u001b[36m_engine_run_backward\u001b[39m\u001b[34m(t_outputs, *args, **kwargs)\u001b[39m\n\u001b[32m    822\u001b[39m     unregister_hooks = _register_logging_hooks_on_whole_graph(t_outputs)\n\u001b[32m    823\u001b[39m \u001b[38;5;28;01mtry\u001b[39;00m:\n\u001b[32m--> \u001b[39m\u001b[32m824\u001b[39m     \u001b[38;5;28;01mreturn\u001b[39;00m \u001b[43mVariable\u001b[49m\u001b[43m.\u001b[49m\u001b[43m_execution_engine\u001b[49m\u001b[43m.\u001b[49m\u001b[43mrun_backward\u001b[49m\u001b[43m(\u001b[49m\u001b[43m  \u001b[49m\u001b[38;5;66;43;03m# Calls into the C++ engine to run the backward pass\u001b[39;49;00m\n\u001b[32m    825\u001b[39m \u001b[43m        \u001b[49m\u001b[43mt_outputs\u001b[49m\u001b[43m,\u001b[49m\u001b[43m \u001b[49m\u001b[43m*\u001b[49m\u001b[43margs\u001b[49m\u001b[43m,\u001b[49m\u001b[43m \u001b[49m\u001b[43m*\u001b[49m\u001b[43m*\u001b[49m\u001b[43mkwargs\u001b[49m\n\u001b[32m    826\u001b[39m \u001b[43m    \u001b[49m\u001b[43m)\u001b[49m  \u001b[38;5;66;03m# Calls into the C++ engine to run the backward pass\u001b[39;00m\n\u001b[32m    827\u001b[39m \u001b[38;5;28;01mfinally\u001b[39;00m:\n\u001b[32m    828\u001b[39m     \u001b[38;5;28;01mif\u001b[39;00m attach_logging_hooks:\n",
      "\u001b[31mOutOfMemoryError\u001b[39m: CUDA out of memory. Tried to allocate 952.00 MiB. GPU 0 has a total capacity of 3.68 GiB of which 847.38 MiB is free. Including non-PyTorch memory, this process has 2.83 GiB memory in use. Of the allocated memory 2.41 GiB is allocated by PyTorch, and 320.75 MiB is reserved by PyTorch but unallocated. If reserved but unallocated memory is large try setting PYTORCH_CUDA_ALLOC_CONF=expandable_segments:True to avoid fragmentation.  See documentation for Memory Management  (https://pytorch.org/docs/stable/notes/cuda.html#environment-variables)"
     ]
    }
   ],
   "source": [
    "# Out of memory CUDA errors\n",
    "\n",
    "model_bs8 = SimpleCNN(num_classes)\n",
    "model_bs16 = SimpleCNN(num_classes)\n",
    "model_bs32 = SimpleCNN(num_classes)\n",
    "\n",
    "loader_bs8 = DataLoader(train_dataset, batch_size=8, shuffle=True, collate_fn=pad_collate_fn)\n",
    "loader_bs16 = DataLoader(train_dataset, batch_size=16, shuffle=True, collate_fn=pad_collate_fn)\n",
    "loader_bs32 = DataLoader(train_dataset, batch_size=32, shuffle=True, collate_fn=pad_collate_fn)\n",
    "\n",
    "acc_bs8 = train_and_evaluate(model_bs8, loader_bs8, val_loader, optim.Adam(model_bs8.parameters(), lr=0.001))\n",
    "acc_bs16 = train_and_evaluate(model_bs16, loader_bs16, val_loader, optim.Adam(model_bs16.parameters(), lr=0.001))\n",
    "acc_bs32 = train_and_evaluate(model_bs32, loader_bs32, val_loader, optim.Adam(model_bs32.parameters(), lr=0.001))\n",
    "\n",
    "print(f\"Batch Size 8 Accuracy: {acc_bs8:.2f}%\")\n",
    "print(f\"Batch Size 16 Accuracy: {acc_bs16:.2f}%\")\n",
    "print(f\"Batch Size 32 Accuracy: {acc_bs32:.2f}%\")"
   ]
  },
  {
   "cell_type": "markdown",
   "metadata": {},
   "source": [
    "9. Learning Rate Schedule"
   ]
  },
  {
   "cell_type": "code",
   "execution_count": 18,
   "metadata": {},
   "outputs": [],
   "source": [
    "def test_lr_scheduler_step():\n",
    "    model = SimpleCNN(num_classes=10)\n",
    "    optimizer = optim.Adam(model.parameters(), lr=0.01)\n",
    "    scheduler = optim.lr_scheduler.StepLR(optimizer, step_size=1, gamma=0.1)\n",
    "\n",
    "    lrs = []\n",
    "    for _ in range(3):\n",
    "        optimizer.step()\n",
    "        scheduler.step()\n",
    "        lrs.append(optimizer.param_groups[0]['lr'])\n",
    "\n",
    "    assert lrs == [0.01, 0.001, 0.0001]"
   ]
  },
  {
   "cell_type": "code",
   "execution_count": 19,
   "metadata": {},
   "outputs": [
    {
     "name": "stdout",
     "output_type": "stream",
     "text": [
      "Epoch 1/2 | Train Loss: 0.8815 | Val Loss: 0.5601 | Val Acc: 81.51%\n",
      "Epoch 2/2 | Train Loss: 0.5130 | Val Loss: 0.4791 | Val Acc: 84.34%\n",
      "Epoch 1/2 | Train Loss: 0.8736 | Val Loss: 0.5835 | Val Acc: 81.05%\n",
      "Epoch 2/2 | Train Loss: 0.4891 | Val Loss: 0.4354 | Val Acc: 85.86%\n",
      "Epoch 1/2 | Train Loss: 0.8296 | Val Loss: 0.5512 | Val Acc: 82.64%\n",
      "Epoch 2/2 | Train Loss: 0.4587 | Val Loss: 0.4431 | Val Acc: 84.98%\n",
      "No Scheduler Accuracy: 84.34%\n",
      "StepLR Accuracy: 85.86%\n",
      "ReduceLROnPlateau Accuracy: 84.98%\n"
     ]
    }
   ],
   "source": [
    "model_nosched = SimpleCNN(num_classes)\n",
    "model_step = SimpleCNN(num_classes)\n",
    "model_plateau = SimpleCNN(num_classes)\n",
    "\n",
    "opt_nosched = optim.Adam(model_nosched.parameters(), lr=0.001)\n",
    "opt_step = optim.Adam(model_step.parameters(), lr=0.001)\n",
    "opt_plateau = optim.Adam(model_plateau.parameters(), lr=0.001)\n",
    "\n",
    "sched_step = optim.lr_scheduler.StepLR(opt_step, step_size=1, gamma=0.9)\n",
    "sched_plateau = optim.lr_scheduler.ReduceLROnPlateau(opt_plateau, patience=1)\n",
    "\n",
    "acc_nosched = train_and_evaluate(model_nosched, train_loader, val_loader, opt_nosched, scheduler=None)\n",
    "acc_step = train_and_evaluate(model_step, train_loader, val_loader, opt_step, scheduler=sched_step)\n",
    "acc_plateau = train_and_evaluate(model_plateau, train_loader, val_loader, opt_plateau, scheduler=sched_plateau)\n",
    "\n",
    "print(f\"No Scheduler Accuracy: {acc_nosched:.2f}%\")\n",
    "print(f\"StepLR Accuracy: {acc_step:.2f}%\")\n",
    "print(f\"ReduceLROnPlateau Accuracy: {acc_plateau:.2f}%\")"
   ]
  }
 ],
 "metadata": {
  "kernelspec": {
   "display_name": ".venv",
   "language": "python",
   "name": "python3"
  },
  "language_info": {
   "codemirror_mode": {
    "name": "ipython",
    "version": 3
   },
   "file_extension": ".py",
   "mimetype": "text/x-python",
   "name": "python",
   "nbconvert_exporter": "python",
   "pygments_lexer": "ipython3",
   "version": "3.13.3"
  }
 },
 "nbformat": 4,
 "nbformat_minor": 2
}
