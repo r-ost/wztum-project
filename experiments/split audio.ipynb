{
 "cells": [
  {
   "cell_type": "code",
   "execution_count": 10,
   "id": "02680878",
   "metadata": {},
   "outputs": [
    {
     "name": "stdout",
     "output_type": "stream",
     "text": [
      "Processed 3 Minutes of the Sounds of Soothing Water.wav into 130 chunks.\n",
      "Processed doing_the_dishes.wav into 67 chunks.\n",
      "Processed dude_miaowing.wav into 40 chunks.\n",
      "Processed exercise_bike.wav into 42 chunks.\n",
      "Processed pink_noise.wav into 43 chunks.\n",
      "Processed Record (online-voice-recorder.com) (1).wav into 179 chunks.\n",
      "Processed Record (online-voice-recorder.com).wav into 31 chunks.\n",
      "Processed running_tap.wav into 41 chunks.\n",
      "Processed white_noise.wav into 40 chunks.\n",
      "✅ All files processed.\n"
     ]
    }
   ],
   "source": [
    "import os\n",
    "import random\n",
    "from pydub import AudioSegment\n",
    "\n",
    "# Input and output folders\n",
    "base_path = os.getcwd()\n",
    "\n",
    "input_folder = os.path.join(base_path, \"..\", \"data\", \"train\", \"audio\", \"_background_noise_\")\n",
    "output_folder = os.path.join(base_path, \"..\", \"data\", \"train\", \"audio\", \"_background_noise_chunks\")\n",
    "\n",
    "os.makedirs(output_folder, exist_ok=True)\n",
    "\n",
    "# Loop through all .wav files in the input folder\n",
    "for filename in os.listdir(input_folder):\n",
    "    if filename.endswith(\".wav\"):\n",
    "        filepath = os.path.join(input_folder, filename)\n",
    "        audio = AudioSegment.from_wav(filepath)\n",
    "        audio_length_ms = len(audio)\n",
    "\n",
    "        current_pos = 0\n",
    "        chunk_index = 0\n",
    "\n",
    "        base_name = os.path.splitext(filename)[0]\n",
    "\n",
    "        while current_pos < audio_length_ms:\n",
    "            chunk_length = random.randint(1000, 2000)  # 1 to 2 seconds\n",
    "            end_pos = min(current_pos + chunk_length, audio_length_ms)\n",
    "\n",
    "            chunk = audio[current_pos:end_pos]\n",
    "            chunk_filename = f\"{base_name}_chunk_{chunk_index}.wav\"\n",
    "            chunk_path = os.path.join(output_folder, chunk_filename)\n",
    "            chunk.export(chunk_path, format=\"wav\")\n",
    "\n",
    "            current_pos = end_pos\n",
    "            chunk_index += 1\n",
    "\n",
    "        print(f\"Processed {filename} into {chunk_index} chunks.\")\n",
    "\n",
    "print(\"✅ All files processed.\")\n"
   ]
  },
  {
   "cell_type": "code",
   "execution_count": null,
   "id": "3935310e",
   "metadata": {},
   "outputs": [
    {
     "name": "stdout",
     "output_type": "stream",
     "text": [
      "✅ Silence chunk list written to: c:\\Users\\Mikoj\\wztum-project\\data\\train\\audio\\_background_noise_chunks\\silence_chunk_list.txt\n"
     ]
    }
   ],
   "source": [
    "import os\n",
    "\n",
    "# Define the silence chunk folder (already generated)\n",
    "base_path = os.getcwd()\n",
    "silence_chunk_folder = os.path.abspath(os.path.join(base_path, \"..\", \"data\", \"train\", \"audio\", \"silence\"))\n",
    "\n",
    "# Path where the file list will be saved\n",
    "list_output_path = os.path.join(silence_chunk_folder, \"silence_chunk_list.txt\")\n",
    "\n",
    "# List all .wav files and write them with relative paths\n",
    "with open(list_output_path, \"w\") as f:\n",
    "    for filename in os.listdir(silence_chunk_folder):\n",
    "        if filename.endswith(\".wav\"):\n",
    "            rel_path = os.path.join(\"silence\", filename)\n",
    "            f.write(rel_path + \"\\n\")\n",
    "\n",
    "print(f\"✅ Silence chunk list written to: {list_output_path}\")"
   ]
  }
 ],
 "metadata": {
  "kernelspec": {
   "display_name": "Python 3",
   "language": "python",
   "name": "python3"
  },
  "language_info": {
   "codemirror_mode": {
    "name": "ipython",
    "version": 3
   },
   "file_extension": ".py",
   "mimetype": "text/x-python",
   "name": "python",
   "nbconvert_exporter": "python",
   "pygments_lexer": "ipython3",
   "version": "3.12.2"
  }
 },
 "nbformat": 4,
 "nbformat_minor": 5
}
