{
 "cells": [
  {
   "cell_type": "markdown",
   "id": "dcbc7f1d",
   "metadata": {},
   "source": [
    "1. Offline augmentation (przed treningiem)\n",
    "   - zbalansowanie klas\n",
    "   - augmentacja waveformów\n",
    "   - augmentacja spektrogramów\n",
    "   - wygenerowanie przykładów dla klasy silence\n",
    "   - wygenerowanie spektrogramów"
   ]
  },
  {
   "cell_type": "code",
   "execution_count": null,
   "id": "54a5ca52",
   "metadata": {},
   "outputs": [],
   "source": [
    "import os\n",
    "import torch\n",
    "import torchaudio.transforms as T\n",
    "import soundfile as sf\n",
    "from tqdm import tqdm\n",
    "\n",
    "def preprocess_and_save_spectrograms(\n",
    "    audio_dir, \n",
    "    output_dir, \n",
    "    sample_rate=16000,\n",
    "    n_mels=64, \n",
    "    n_fft=400, \n",
    "    hop_length=200\n",
    "):\n",
    "    os.makedirs(output_dir, exist_ok=True)\n",
    "    \n",
    "    mel_spectrogram = T.MelSpectrogram(\n",
    "        sample_rate=sample_rate,\n",
    "        n_fft=n_fft,\n",
    "        hop_length=hop_length,\n",
    "        n_mels=n_mels,\n",
    "    )\n",
    "    db_transform = T.AmplitudeToDB()\n",
    "    \n",
    "    print(f\"Loading audio files from {audio_dir}...\")\n",
    "    audio_files = []\n",
    "    for root, _, files in os.walk(audio_dir):\n",
    "        for file in files:\n",
    "            if file.endswith('.wav'):\n",
    "                audio_files.append(os.path.relpath(os.path.join(root, file), audio_dir))\n",
    "\n",
    "    print(f\"Processing {len(audio_files)} audio files...\")\n",
    "    for audio_file in tqdm(audio_files, desc=\"Processing audio files\"):\n",
    "        # Load audio\n",
    "        audio_path = os.path.join(audio_dir, audio_file)\n",
    "        data, orig_sr = sf.read(audio_path)\n",
    "        waveform = torch.tensor(data, dtype=torch.float32).unsqueeze(0)\n",
    "\n",
    "        # Convert to mono if stereo\n",
    "        if waveform.shape[0] > 1:\n",
    "            waveform = torch.mean(waveform, dim=0, keepdim=True)\n",
    "        \n",
    "        # Resample if necessary\n",
    "        if orig_sr != sample_rate:\n",
    "            resampler = T.Resample(orig_freq=orig_sr, new_freq=sample_rate)\n",
    "            waveform = resampler(waveform)\n",
    "        \n",
    "        spec = mel_spectrogram(waveform)\n",
    "        spec = db_transform(spec)\n",
    "\n",
    "        output_path = os.path.join(output_dir, os.path.splitext(audio_file)[0] + '.pt')\n",
    "        os.makedirs(os.path.dirname(output_path), exist_ok=True)\n",
    "        torch.save(spec, output_path)\n",
    "    print(f\"Spectrograms saved to {output_dir}\")\n",
    "\n",
    "preprocess_and_save_spectrograms(\"data/train/audio\", \"processed_data/train/audio\")\n"
   ]
  }
 ],
 "metadata": {
  "kernelspec": {
   "display_name": ".venv",
   "language": "python",
   "name": "python3"
  },
  "language_info": {
   "codemirror_mode": {
    "name": "ipython",
    "version": 3
   },
   "file_extension": ".py",
   "mimetype": "text/x-python",
   "name": "python",
   "nbconvert_exporter": "python",
   "pygments_lexer": "ipython3",
   "version": "3.11.9"
  }
 },
 "nbformat": 4,
 "nbformat_minor": 5
}
