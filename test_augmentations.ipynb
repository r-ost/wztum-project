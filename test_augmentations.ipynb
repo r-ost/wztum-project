{
 "cells": [
  {
   "cell_type": "code",
   "execution_count": null,
   "id": "302be903",
   "metadata": {},
   "outputs": [],
   "source": [
    "import torchaudio\n",
    "import torchaudio.transforms as T\n",
    "from WaveformAugmentations import WaveformAugmentations\n",
    "from SpectrogramAugmentations import SpectrogramAugmentations\n",
    "from IPython.display import Audio\n",
    "import matplotlib.pyplot as plt"
   ]
  },
  {
   "cell_type": "markdown",
   "id": "58500c1c",
   "metadata": {},
   "source": [
    "## Waveform augmentations"
   ]
  },
  {
   "cell_type": "code",
   "execution_count": null,
   "id": "11665234",
   "metadata": {},
   "outputs": [],
   "source": [
    "wav_path = r\".\\data\\train\\audio\\house\\0ab3b47d_nohash_0.wav\"\n",
    "waveform, sample_rate = torchaudio.load(wav_path)\n",
    "waveform = waveform.squeeze(0)  # remove channel dimension\n",
    "Audio(waveform.numpy(), rate=sample_rate)"
   ]
  },
  {
   "cell_type": "markdown",
   "id": "126f5872",
   "metadata": {},
   "source": [
    "Time shift"
   ]
  },
  {
   "cell_type": "code",
   "execution_count": null,
   "id": "7625f9eb",
   "metadata": {},
   "outputs": [],
   "source": [
    "augmented_waveform = WaveformAugmentations.time_shift(waveform, shift_limit=0.4)\n",
    "Audio(augmented_waveform.numpy(), rate=sample_rate)"
   ]
  },
  {
   "cell_type": "markdown",
   "id": "45bd3d3e",
   "metadata": {},
   "source": [
    "Noise addition"
   ]
  },
  {
   "cell_type": "code",
   "execution_count": null,
   "id": "80e9e533",
   "metadata": {},
   "outputs": [],
   "source": [
    "augmented_waveform = WaveformAugmentations.add_noise(waveform, noise_level=0.005)\n",
    "Audio(augmented_waveform.numpy(), rate=sample_rate)"
   ]
  },
  {
   "cell_type": "markdown",
   "id": "7e6c39fb",
   "metadata": {},
   "source": [
    "Pitch shift"
   ]
  },
  {
   "cell_type": "code",
   "execution_count": null,
   "id": "f172308a",
   "metadata": {},
   "outputs": [],
   "source": [
    "augmented_waveform = WaveformAugmentations.pitch_shift(waveform, sample_rate)\n",
    "Audio(augmented_waveform.numpy(), rate=sample_rate)"
   ]
  },
  {
   "cell_type": "markdown",
   "id": "78438036",
   "metadata": {},
   "source": [
    "Volume control"
   ]
  },
  {
   "cell_type": "code",
   "execution_count": null,
   "id": "e9333927",
   "metadata": {},
   "outputs": [],
   "source": [
    "augmented_waveform = WaveformAugmentations.volume_control(waveform, gain_range=(6, 10))\n",
    "Audio(augmented_waveform.numpy(), rate=sample_rate)"
   ]
  },
  {
   "cell_type": "markdown",
   "id": "659cb84c",
   "metadata": {},
   "source": [
    "Speed change"
   ]
  },
  {
   "cell_type": "code",
   "execution_count": null,
   "id": "579bc7e9",
   "metadata": {},
   "outputs": [],
   "source": [
    "augmented_waveform = WaveformAugmentations.speed_change(waveform, sample_rate, speed_range=(0.8, 1.2))\n",
    "Audio(augmented_waveform.numpy(), rate=sample_rate)"
   ]
  },
  {
   "cell_type": "markdown",
   "id": "b5ff0b43",
   "metadata": {},
   "source": [
    "Reverb (echos)"
   ]
  },
  {
   "cell_type": "code",
   "execution_count": null,
   "id": "95859973",
   "metadata": {},
   "outputs": [],
   "source": [
    "augmented_waveform = WaveformAugmentations.reverb(waveform, sample_rate, reverb_range=(0.5, 0.7))\n",
    "Audio(augmented_waveform.numpy(), rate=sample_rate)"
   ]
  },
  {
   "cell_type": "markdown",
   "id": "af9ef0b2",
   "metadata": {},
   "source": [
    "Mix with background noise"
   ]
  },
  {
   "cell_type": "code",
   "execution_count": null,
   "id": "9e4bb719",
   "metadata": {},
   "outputs": [],
   "source": [
    "background_path = r\".\\data\\train\\audio\\_background_noise_\\exercise_bike.wav\"\n",
    "background_waveform, _ = torchaudio.load(background_path)\n",
    "background_waveform = background_waveform.squeeze(0)  # remove channel dimension\n",
    "\n",
    "augmented_waveform = WaveformAugmentations.mix_background(waveform, background_waveform, mix_ratio_range=(0.1, 0.3))\n",
    "Audio(augmented_waveform.numpy(), rate=sample_rate)"
   ]
  },
  {
   "cell_type": "markdown",
   "id": "74c95e3f",
   "metadata": {},
   "source": [
    "Convolution reverb (RIR)"
   ]
  },
  {
   "cell_type": "code",
   "execution_count": null,
   "id": "72bd2818",
   "metadata": {},
   "outputs": [],
   "source": [
    "rir_path = r\".\\data\\train\\audio\\_background_noise_\\running_tap.wav\"\n",
    "rir_waveform, _ = torchaudio.load(rir_path)\n",
    "rir_waveform = rir_waveform.squeeze(0)  # remove channel dimension\n",
    "augmented_waveform = WaveformAugmentations.convolution_reverb(waveform, rir_waveform)\n",
    "Audio(augmented_waveform.numpy(), rate=sample_rate)"
   ]
  },
  {
   "cell_type": "markdown",
   "id": "bba63195",
   "metadata": {},
   "source": [
    "## Spectrogram augmentations"
   ]
  },
  {
   "cell_type": "code",
   "execution_count": null,
   "id": "39fda593",
   "metadata": {},
   "outputs": [],
   "source": [
    "mel_spectrogram = T.MelSpectrogram(\n",
    "    sample_rate=16000,\n",
    "    n_mels=64,\n",
    ")\n",
    "db_transform = T.AmplitudeToDB()\n",
    "\n",
    "spectrogram = mel_spectrogram(waveform)\n",
    "spectrogram = db_transform(spectrogram)\n",
    "\n",
    "plt.figure(figsize=(8, 6))\n",
    "plt.imshow(spectrogram.squeeze().numpy(), origin=\"lower\", aspect=\"auto\", cmap=\"viridis\")\n",
    "plt.colorbar()\n",
    "plt.show()"
   ]
  },
  {
   "cell_type": "markdown",
   "id": "bab93ccb",
   "metadata": {},
   "source": [
    "Time masking"
   ]
  },
  {
   "cell_type": "code",
   "execution_count": null,
   "id": "153e5c53",
   "metadata": {},
   "outputs": [],
   "source": [
    "augmented_spectrogram = SpectrogramAugmentations.time_masking(spectrogram, time_mask_param=20)\n",
    "plt.figure(figsize=(8, 6))\n",
    "plt.imshow(augmented_spectrogram.squeeze().numpy(), origin=\"lower\", aspect=\"auto\", cmap=\"viridis\")\n",
    "plt.colorbar()\n",
    "plt.show()"
   ]
  },
  {
   "cell_type": "markdown",
   "id": "a2c37c7e",
   "metadata": {},
   "source": [
    "Frequency masking"
   ]
  },
  {
   "cell_type": "code",
   "execution_count": null,
   "id": "7cd23e3d",
   "metadata": {},
   "outputs": [],
   "source": [
    "augmented_spectrogram = SpectrogramAugmentations.freq_masking(spectrogram, freq_mask_param=20)\n",
    "plt.figure(figsize=(8, 6))\n",
    "plt.imshow(augmented_spectrogram.squeeze().numpy(), origin=\"lower\", aspect=\"auto\", cmap=\"viridis\")\n",
    "plt.colorbar()\n",
    "plt.show()"
   ]
  }
 ],
 "metadata": {
  "kernelspec": {
   "display_name": ".venv",
   "language": "python",
   "name": "python3"
  },
  "language_info": {
   "codemirror_mode": {
    "name": "ipython",
    "version": 3
   },
   "file_extension": ".py",
   "mimetype": "text/x-python",
   "name": "python",
   "nbconvert_exporter": "python",
   "pygments_lexer": "ipython3",
   "version": "3.13.3"
  }
 },
 "nbformat": 4,
 "nbformat_minor": 5
}
