{
 "cells": [
  {
   "cell_type": "code",
   "execution_count": 12,
   "id": "e311b885",
   "metadata": {},
   "outputs": [],
   "source": [
    "from collections import defaultdict\n",
    "from math import sqrt\n",
    "from torch.utils.data import DataLoader, random_split\n",
    "from AudioDataset import AudioDataset, pad_collate_fn\n",
    "from PerClassNormalize import PerClassNormalize"
   ]
  },
  {
   "cell_type": "markdown",
   "id": "2fabd4b2",
   "metadata": {},
   "source": [
    "# Create full dataset with set number of samples in each class"
   ]
  },
  {
   "cell_type": "code",
   "execution_count": 13,
   "id": "65d77656",
   "metadata": {},
   "outputs": [],
   "source": [
    "# Setting the params for AudioDataset\n",
    "\n",
    "root_dir = r\"C:\\Users\\monik\\OneDrive\\Pulpit\\Projekt Warsztaty\\data\\train\" # Replace with Your filepath\n",
    "cache_dir = r\"C:\\Users\\monik\\OneDrive\\Pulpit\\Projekt Warsztaty\\cache_spectrograms\" # Replace with your filepath\n",
    "allowed_classes = [\"yes\",\"no\",\"up\",\"down\",\"left\",\"right\",\"on\",\"off\",\"stop\",\"go\"] # Add \"silence\" if needed for experiments\n",
    "max_samples_per_class = 100 # Set desired number of samples in each class "
   ]
  },
  {
   "cell_type": "code",
   "execution_count": 14,
   "id": "0670781c",
   "metadata": {},
   "outputs": [
    {
     "name": "stdout",
     "output_type": "stream",
     "text": [
      "Train samples: 880\n",
      "Validation samples: 220\n"
     ]
    }
   ],
   "source": [
    "# Create full dataset\n",
    "dataset = AudioDataset(\n",
    "    root_dir            = root_dir,\n",
    "    cache_dir           = cache_dir,\n",
    "    export_dir          = None,\n",
    "    preprocess          = True,              \n",
    "    transform           = None,              \n",
    "    allowed_classes     = allowed_classes,\n",
    "    save_spectrograms   = False,\n",
    "    max_samples_per_class= max_samples_per_class \n",
    ")\n",
    "\n",
    "# Compute split sizes\n",
    "train_frac = 0.8\n",
    "train_size = int(train_frac * len(dataset))\n",
    "val_size   = len(dataset) - train_size\n",
    "\n",
    "# Randomly split into two subsets\n",
    "train_dataset, val_dataset = random_split(dataset, [train_size, val_size])\n",
    "\n",
    "# Check\n",
    "print(f\"Train samples: {len(train_dataset)}\")\n",
    "print(f\"Validation samples: {len(val_dataset)}\")\n"
   ]
  },
  {
   "cell_type": "markdown",
   "id": "f34fd946",
   "metadata": {},
   "source": [
    "# Find mean and std for each class for normalization"
   ]
  },
  {
   "cell_type": "code",
   "execution_count": 15,
   "id": "02f3c8cb",
   "metadata": {},
   "outputs": [
    {
     "name": "stdout",
     "output_type": "stream",
     "text": [
      "Per-class means & stds:\n",
      "  go    → mean=-29.8854, std=20.9561\n",
      "  left  → mean=-34.1892, std=21.7751\n",
      "  off   → mean=-31.6523, std=20.2902\n",
      "  on    → mean=-32.1178, std=21.0336\n",
      "  down  → mean=-31.4741, std=20.8006\n",
      "  yes   → mean=-29.7448, std=21.3592\n",
      "  stop  → mean=-34.5246, std=21.9527\n",
      "  right → mean=-32.6826, std=21.3948\n",
      "  no    → mean=-35.7149, std=20.5595\n",
      "  up    → mean=-31.8529, std=21.7311\n"
     ]
    }
   ],
   "source": [
    "sums   = defaultdict(lambda: 0.0)\n",
    "sqs    = defaultdict(lambda: 0.0)\n",
    "counts = defaultdict(lambda: 0)\n",
    "\n",
    "for spec, label in train_dataset:\n",
    "    # spec shape: (C, H, W) or (1, freq_bins, time_steps)\n",
    "    n_elems = spec.numel()\n",
    "    sums[label]   += spec.sum().item()\n",
    "    sqs[label]    += (spec**2).sum().item()\n",
    "    counts[label] += n_elems\n",
    "\n",
    "# now build per-class means & stds\n",
    "class_means = {}\n",
    "class_stds  = {}\n",
    "\n",
    "for lbl in counts:\n",
    "    mu = sums[lbl] / counts[lbl]\n",
    "    var = (sqs[lbl] / counts[lbl]) - mu**2\n",
    "    class_means[lbl] = mu\n",
    "    class_stds[lbl]  = sqrt(var)\n",
    "\n",
    "# Example: map from label index -> class name\n",
    "idx2class = {i:c for i,c in enumerate(dataset.allowed)}\n",
    "\n",
    "print(\"Per-class means & stds:\")\n",
    "for idx, cls in idx2class.items():\n",
    "    print(f\"  {cls:5s} → mean={class_means[idx]:.4f}, std={class_stds[idx]:.4f}\")\n"
   ]
  },
  {
   "cell_type": "markdown",
   "id": "62985fd0",
   "metadata": {},
   "source": [
    "# Create full dataset again with normalization added"
   ]
  },
  {
   "cell_type": "code",
   "execution_count": 16,
   "id": "ab98e2bf",
   "metadata": {},
   "outputs": [],
   "source": [
    "# create the normalization transform\n",
    "norm_transform = PerClassNormalize(class_means, class_stds)\n",
    "\n",
    "# create the same dataset but with normalization\n",
    "dataset = AudioDataset(\n",
    "    root_dir            = root_dir,\n",
    "    cache_dir           = cache_dir,\n",
    "    export_dir          = None,\n",
    "    preprocess          = True,              \n",
    "    transform           = norm_transform,      # <-- apply normalization              \n",
    "    allowed_classes     = allowed_classes,\n",
    "    save_spectrograms   = False,\n",
    "    max_samples_per_class= max_samples_per_class \n",
    ")\n",
    "\n",
    "# split again (or reuse your existing train_dataset/val_dataset):\n",
    "train_dataset, val_dataset = random_split(dataset, [train_size, val_size])\n",
    "\n",
    "# Wrap in DataLoaders\n",
    "train_loader = DataLoader(train_dataset, batch_size=32, shuffle=True,\n",
    "                          collate_fn=pad_collate_fn, num_workers=4, pin_memory=True)\n",
    "\n",
    "val_loader   = DataLoader(val_dataset,   batch_size=32, shuffle=False,\n",
    "                          collate_fn=pad_collate_fn, num_workers=4, pin_memory=True)\n"
   ]
  },
  {
   "cell_type": "markdown",
   "id": "85358bd6",
   "metadata": {},
   "source": [
    "After running above code (and setting desired parameters) you will get 2 loaders object:\n",
    "\n",
    "- **`train_loader`**: Supplies shuffled batches from your training split.  \n",
    "- **`val_loader`**: Supplies (usually un-shuffled) batches from your validation split for monitoring generalization.\n",
    "\n",
    "Those can be used for further experiments."
   ]
  }
 ],
 "metadata": {
  "kernelspec": {
   "display_name": "Python 3",
   "language": "python",
   "name": "python3"
  },
  "language_info": {
   "codemirror_mode": {
    "name": "ipython",
    "version": 3
   },
   "file_extension": ".py",
   "mimetype": "text/x-python",
   "name": "python",
   "nbconvert_exporter": "python",
   "pygments_lexer": "ipython3",
   "version": "3.12.9"
  }
 },
 "nbformat": 4,
 "nbformat_minor": 5
}
